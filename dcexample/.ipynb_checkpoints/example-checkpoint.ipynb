{
 "cells": [
  {
   "cell_type": "markdown",
   "metadata": {
    "hideCode": false,
    "hidePrompt": false
   },
   "source": [
    "Please click **Cell - Run All** to see the output."
   ]
  },
  {
   "cell_type": "code",
   "execution_count": 1,
   "metadata": {
    "hideCode": false,
    "hidePrompt": false
   },
   "outputs": [],
   "source": [
    "import ipywidgets as widgets\n",
    "import pandas as pd\n",
    "import qgrid\n",
    "import matplotlib.pyplot as plt\n",
    "import matplotlib.ticker as mt\n",
    "from datetime import datetime\n",
    "import numpy as np"
   ]
  },
  {
   "cell_type": "markdown",
   "metadata": {
    "hideCode": false,
    "hidePrompt": false
   },
   "source": [
    "## Setting float format options"
   ]
  },
  {
   "cell_type": "code",
   "execution_count": 2,
   "metadata": {
    "hideCode": false,
    "hidePrompt": false
   },
   "outputs": [],
   "source": [
    "pd.options.display.float_format = '{:,.2f}'.format"
   ]
  },
  {
   "cell_type": "markdown",
   "metadata": {
    "hideCode": false,
    "hidePrompt": false
   },
   "source": [
    "# Data import"
   ]
  },
  {
   "cell_type": "markdown",
   "metadata": {
    "hideCode": false,
    "hidePrompt": false
   },
   "source": [
    "## Importing SKU Master\n",
    "\n",
    "By using an appropriate extension cells can be dited inplace like in excel. I would still prefer data cleaning in excel, depending on the case."
   ]
  },
  {
   "cell_type": "code",
   "execution_count": 14,
   "metadata": {
    "hideCode": false,
    "hidePrompt": false,
    "scrolled": true
   },
   "outputs": [
    {
     "data": {
      "text/html": [
       "<div>\n",
       "<style scoped>\n",
       "    .dataframe tbody tr th:only-of-type {\n",
       "        vertical-align: middle;\n",
       "    }\n",
       "\n",
       "    .dataframe tbody tr th {\n",
       "        vertical-align: top;\n",
       "    }\n",
       "\n",
       "    .dataframe thead th {\n",
       "        text-align: right;\n",
       "    }\n",
       "</style>\n",
       "<table border=\"1\" class=\"dataframe\">\n",
       "  <thead>\n",
       "    <tr style=\"text-align: right;\">\n",
       "      <th></th>\n",
       "      <th>Department</th>\n",
       "      <th>Class</th>\n",
       "      <th>Style</th>\n",
       "      <th>Color</th>\n",
       "      <th>SKU</th>\n",
       "      <th>Cost</th>\n",
       "      <th>Price</th>\n",
       "      <th>Vendor</th>\n",
       "    </tr>\n",
       "  </thead>\n",
       "  <tbody>\n",
       "    <tr>\n",
       "      <td>0</td>\n",
       "      <td>800</td>\n",
       "      <td>5</td>\n",
       "      <td>20</td>\n",
       "      <td>2</td>\n",
       "      <td>8000520021</td>\n",
       "      <td>7.50</td>\n",
       "      <td>9.99</td>\n",
       "      <td>MA Excellent Products</td>\n",
       "    </tr>\n",
       "    <tr>\n",
       "      <td>1</td>\n",
       "      <td>800</td>\n",
       "      <td>4</td>\n",
       "      <td>51</td>\n",
       "      <td>11</td>\n",
       "      <td>8000451112</td>\n",
       "      <td>9.00</td>\n",
       "      <td>12.99</td>\n",
       "      <td>MA Excellent Products</td>\n",
       "    </tr>\n",
       "    <tr>\n",
       "      <td>2</td>\n",
       "      <td>731</td>\n",
       "      <td>24</td>\n",
       "      <td>55</td>\n",
       "      <td>52</td>\n",
       "      <td>7312455520</td>\n",
       "      <td>25.00</td>\n",
       "      <td>31.99</td>\n",
       "      <td>MA Excellent Products</td>\n",
       "    </tr>\n",
       "    <tr>\n",
       "      <td>3</td>\n",
       "      <td>731</td>\n",
       "      <td>24</td>\n",
       "      <td>55</td>\n",
       "      <td>53</td>\n",
       "      <td>7312455530</td>\n",
       "      <td>14.50</td>\n",
       "      <td>22.99</td>\n",
       "      <td>GA General Wholesales</td>\n",
       "    </tr>\n",
       "    <tr>\n",
       "      <td>4</td>\n",
       "      <td>5001</td>\n",
       "      <td>201</td>\n",
       "      <td>12</td>\n",
       "      <td>4</td>\n",
       "      <td>50012011240</td>\n",
       "      <td>2.50</td>\n",
       "      <td>7.99</td>\n",
       "      <td>China Imports</td>\n",
       "    </tr>\n",
       "    <tr>\n",
       "      <td>5</td>\n",
       "      <td>5001</td>\n",
       "      <td>201</td>\n",
       "      <td>12</td>\n",
       "      <td>5</td>\n",
       "      <td>50012011250</td>\n",
       "      <td>7.50</td>\n",
       "      <td>9.99</td>\n",
       "      <td>China Imports</td>\n",
       "    </tr>\n",
       "    <tr>\n",
       "      <td>6</td>\n",
       "      <td>5001</td>\n",
       "      <td>201</td>\n",
       "      <td>13</td>\n",
       "      <td>4</td>\n",
       "      <td>50012011341</td>\n",
       "      <td>8.00</td>\n",
       "      <td>6.99</td>\n",
       "      <td>China Imports</td>\n",
       "    </tr>\n",
       "    <tr>\n",
       "      <td>7</td>\n",
       "      <td>5001</td>\n",
       "      <td>300</td>\n",
       "      <td>1</td>\n",
       "      <td>1</td>\n",
       "      <td>50013000110</td>\n",
       "      <td>6.50</td>\n",
       "      <td>12.99</td>\n",
       "      <td>China Imports</td>\n",
       "    </tr>\n",
       "  </tbody>\n",
       "</table>\n",
       "</div>"
      ],
      "text/plain": [
       "   Department  Class  Style  Color          SKU  Cost  Price  \\\n",
       "0         800      5     20      2   8000520021  7.50   9.99   \n",
       "1         800      4     51     11   8000451112  9.00  12.99   \n",
       "2         731     24     55     52   7312455520 25.00  31.99   \n",
       "3         731     24     55     53   7312455530 14.50  22.99   \n",
       "4        5001    201     12      4  50012011240  2.50   7.99   \n",
       "5        5001    201     12      5  50012011250  7.50   9.99   \n",
       "6        5001    201     13      4  50012011341  8.00   6.99   \n",
       "7        5001    300      1      1  50013000110  6.50  12.99   \n",
       "\n",
       "                  Vendor  \n",
       "0  MA Excellent Products  \n",
       "1  MA Excellent Products  \n",
       "2  MA Excellent Products  \n",
       "3  GA General Wholesales  \n",
       "4          China Imports  \n",
       "5          China Imports  \n",
       "6          China Imports  \n",
       "7          China Imports  "
      ]
     },
     "execution_count": 14,
     "metadata": {},
     "output_type": "execute_result"
    }
   ],
   "source": [
    "sku_master = pd.read_excel(io = 'sample_data.xlsx', sheet_name = 'SKU Master')\n",
    "sku_master"
   ]
  },
  {
   "cell_type": "markdown",
   "metadata": {
    "hideCode": false,
    "hidePrompt": false
   },
   "source": [
    "## Importing the sales data for one of the stores"
   ]
  },
  {
   "cell_type": "code",
   "execution_count": 4,
   "metadata": {
    "hideCode": false,
    "hidePrompt": false
   },
   "outputs": [
    {
     "data": {
      "application/vnd.jupyter.widget-view+json": {
       "model_id": "2613c2a9fb8c4d969a337683f3f4023e",
       "version_major": 2,
       "version_minor": 0
      },
      "text/plain": [
       "QgridWidget(grid_options={'fullWidthRows': True, 'syncColumnCellResize': True, 'forceFitColumns': True, 'defau…"
      ]
     },
     "metadata": {},
     "output_type": "display_data"
    }
   ],
   "source": [
    "sales_data = pd.read_excel(io = 'sample_data.xlsx', sheet_name = 'Store 312')\n",
    "qgrid.show_grid(sales_data)"
   ]
  },
  {
   "cell_type": "code",
   "execution_count": 5,
   "metadata": {
    "hideCode": false,
    "hidePrompt": false,
    "scrolled": true
   },
   "outputs": [
    {
     "data": {
      "application/vnd.jupyter.widget-view+json": {
       "model_id": "367bc72e272a43ce948090dda6cf0e69",
       "version_major": 2,
       "version_minor": 0
      },
      "text/plain": [
       "QgridWidget(grid_options={'fullWidthRows': True, 'syncColumnCellResize': True, 'forceFitColumns': True, 'defau…"
      ]
     },
     "metadata": {},
     "output_type": "display_data"
    }
   ],
   "source": [
    "merged_dataset = pd.merge(left = sales_data, right = sku_master, on = 'SKU')\n",
    "merged_dataset.sort_values(by = 'Date', inplace = True)\n",
    "merged_dataset.reset_index(inplace = True)\n",
    "qgrid.show_grid(merged_dataset)"
   ]
  },
  {
   "cell_type": "code",
   "execution_count": 6,
   "metadata": {
    "hideCode": false,
    "hidePrompt": false
   },
   "outputs": [
    {
     "data": {
      "text/plain": [
       "index                    int64\n",
       "DB_ID                  float64\n",
       "SKU                     object\n",
       "Store                  float64\n",
       "Date            datetime64[ns]\n",
       "Unit Sales              object\n",
       "Dollar Sales           float64\n",
       "Department               int64\n",
       "Class                    int64\n",
       "Style                    int64\n",
       "Color                    int64\n",
       "Cost                   float64\n",
       "Price                  float64\n",
       "Vendor                  object\n",
       "dtype: object"
      ]
     },
     "execution_count": 6,
     "metadata": {},
     "output_type": "execute_result"
    }
   ],
   "source": [
    "#checking datatypes\n",
    "merged_dataset.dtypes"
   ]
  },
  {
   "cell_type": "code",
   "execution_count": 7,
   "metadata": {
    "hideCode": false,
    "hidePrompt": false,
    "scrolled": true
   },
   "outputs": [
    {
     "data": {
      "text/plain": [
       "index                    int64\n",
       "DB_ID                  float64\n",
       "SKU                     object\n",
       "Store                  float64\n",
       "Date            datetime64[ns]\n",
       "Unit Sales              object\n",
       "Dollar Sales           float64\n",
       "Department              object\n",
       "Class                    int64\n",
       "Style                    int64\n",
       "Color                   object\n",
       "Cost                   float64\n",
       "Price                  float64\n",
       "Vendor                  object\n",
       "dtype: object"
      ]
     },
     "execution_count": 7,
     "metadata": {},
     "output_type": "execute_result"
    }
   ],
   "source": [
    "#assign datatype \n",
    "merged_dataset[\"Department\"] = merged_dataset['Department'].astype('str')\n",
    "merged_dataset[\"SKU\"] = merged_dataset['SKU'].astype('str')\n",
    "merged_dataset[\"Color\"] = merged_dataset['Color'].astype('str')\n",
    "merged_dataset.dtypes"
   ]
  },
  {
   "cell_type": "code",
   "execution_count": 8,
   "metadata": {},
   "outputs": [
    {
     "data": {
      "text/html": [
       "<div>\n",
       "<style scoped>\n",
       "    .dataframe tbody tr th:only-of-type {\n",
       "        vertical-align: middle;\n",
       "    }\n",
       "\n",
       "    .dataframe tbody tr th {\n",
       "        vertical-align: top;\n",
       "    }\n",
       "\n",
       "    .dataframe thead th {\n",
       "        text-align: right;\n",
       "    }\n",
       "</style>\n",
       "<table border=\"1\" class=\"dataframe\">\n",
       "  <thead>\n",
       "    <tr style=\"text-align: right;\">\n",
       "      <th></th>\n",
       "      <th>index</th>\n",
       "      <th>DB_ID</th>\n",
       "      <th>Store</th>\n",
       "      <th>Dollar Sales</th>\n",
       "      <th>Class</th>\n",
       "      <th>Style</th>\n",
       "      <th>Cost</th>\n",
       "      <th>Price</th>\n",
       "    </tr>\n",
       "  </thead>\n",
       "  <tbody>\n",
       "    <tr>\n",
       "      <td>count</td>\n",
       "      <td>3,341.00</td>\n",
       "      <td>3,341.00</td>\n",
       "      <td>3,341.00</td>\n",
       "      <td>3,281.00</td>\n",
       "      <td>3,341.00</td>\n",
       "      <td>3,341.00</td>\n",
       "      <td>3,341.00</td>\n",
       "      <td>3,341.00</td>\n",
       "    </tr>\n",
       "    <tr>\n",
       "      <td>mean</td>\n",
       "      <td>1,670.00</td>\n",
       "      <td>554,911.04</td>\n",
       "      <td>312.00</td>\n",
       "      <td>1,208.85</td>\n",
       "      <td>88.10</td>\n",
       "      <td>31.25</td>\n",
       "      <td>10.23</td>\n",
       "      <td>14.71</td>\n",
       "    </tr>\n",
       "    <tr>\n",
       "      <td>std</td>\n",
       "      <td>964.61</td>\n",
       "      <td>719,873.46</td>\n",
       "      <td>0.00</td>\n",
       "      <td>21,401.07</td>\n",
       "      <td>93.67</td>\n",
       "      <td>19.63</td>\n",
       "      <td>6.72</td>\n",
       "      <td>8.24</td>\n",
       "    </tr>\n",
       "    <tr>\n",
       "      <td>min</td>\n",
       "      <td>0.00</td>\n",
       "      <td>79,444.00</td>\n",
       "      <td>312.00</td>\n",
       "      <td>-59.94</td>\n",
       "      <td>4.00</td>\n",
       "      <td>1.00</td>\n",
       "      <td>2.50</td>\n",
       "      <td>6.99</td>\n",
       "    </tr>\n",
       "    <tr>\n",
       "      <td>25%</td>\n",
       "      <td>835.00</td>\n",
       "      <td>89,642.00</td>\n",
       "      <td>312.00</td>\n",
       "      <td>19.98</td>\n",
       "      <td>5.00</td>\n",
       "      <td>12.00</td>\n",
       "      <td>7.50</td>\n",
       "      <td>9.99</td>\n",
       "    </tr>\n",
       "    <tr>\n",
       "      <td>50%</td>\n",
       "      <td>1,670.00</td>\n",
       "      <td>93,986.00</td>\n",
       "      <td>312.00</td>\n",
       "      <td>39.96</td>\n",
       "      <td>24.00</td>\n",
       "      <td>20.00</td>\n",
       "      <td>7.50</td>\n",
       "      <td>9.99</td>\n",
       "    </tr>\n",
       "    <tr>\n",
       "      <td>75%</td>\n",
       "      <td>2,505.00</td>\n",
       "      <td>1,000,742.00</td>\n",
       "      <td>312.00</td>\n",
       "      <td>68.97</td>\n",
       "      <td>201.00</td>\n",
       "      <td>55.00</td>\n",
       "      <td>14.50</td>\n",
       "      <td>22.99</td>\n",
       "    </tr>\n",
       "    <tr>\n",
       "      <td>max</td>\n",
       "      <td>3,340.00</td>\n",
       "      <td>2,001,795.00</td>\n",
       "      <td>312.00</td>\n",
       "      <td>599,400.00</td>\n",
       "      <td>300.00</td>\n",
       "      <td>55.00</td>\n",
       "      <td>25.00</td>\n",
       "      <td>31.99</td>\n",
       "    </tr>\n",
       "  </tbody>\n",
       "</table>\n",
       "</div>"
      ],
      "text/plain": [
       "         index        DB_ID    Store  Dollar Sales    Class    Style     Cost  \\\n",
       "count 3,341.00     3,341.00 3,341.00      3,281.00 3,341.00 3,341.00 3,341.00   \n",
       "mean  1,670.00   554,911.04   312.00      1,208.85    88.10    31.25    10.23   \n",
       "std     964.61   719,873.46     0.00     21,401.07    93.67    19.63     6.72   \n",
       "min       0.00    79,444.00   312.00        -59.94     4.00     1.00     2.50   \n",
       "25%     835.00    89,642.00   312.00         19.98     5.00    12.00     7.50   \n",
       "50%   1,670.00    93,986.00   312.00         39.96    24.00    20.00     7.50   \n",
       "75%   2,505.00 1,000,742.00   312.00         68.97   201.00    55.00    14.50   \n",
       "max   3,340.00 2,001,795.00   312.00    599,400.00   300.00    55.00    25.00   \n",
       "\n",
       "         Price  \n",
       "count 3,341.00  \n",
       "mean     14.71  \n",
       "std       8.24  \n",
       "min       6.99  \n",
       "25%       9.99  \n",
       "50%       9.99  \n",
       "75%      22.99  \n",
       "max      31.99  "
      ]
     },
     "execution_count": 8,
     "metadata": {},
     "output_type": "execute_result"
    }
   ],
   "source": [
    "merged_dataset.describe()"
   ]
  },
  {
   "cell_type": "markdown",
   "metadata": {
    "hideCode": false,
    "hidePrompt": false
   },
   "source": [
    "I will take inner quartiles of dollar sales to remove outliers from plots. "
   ]
  },
  {
   "cell_type": "code",
   "execution_count": 9,
   "metadata": {
    "hideCode": false,
    "hidePrompt": false,
    "scrolled": false
   },
   "outputs": [
    {
     "data": {
      "application/vnd.jupyter.widget-view+json": {
       "model_id": "e14425f2b9864e52b77c8d100c7759a3",
       "version_major": 2,
       "version_minor": 0
      },
      "text/plain": [
       "QgridWidget(grid_options={'fullWidthRows': True, 'syncColumnCellResize': True, 'forceFitColumns': True, 'defau…"
      ]
     },
     "metadata": {},
     "output_type": "display_data"
    }
   ],
   "source": [
    "sales_25pc = merged_dataset['Dollar Sales'].describe()['25%']\n",
    "sales_75pc = merged_dataset['Dollar Sales'].describe()['75%']\n",
    "\n",
    "inner_quartiles = (merged_dataset['Dollar Sales'] > sales_25pc) & (merged_dataset['Dollar Sales'] <= sales_75pc)\n",
    "filtered_df=(merged_dataset.loc[inner_quartiles])\n",
    "qgrid.show_grid(filtered_df)"
   ]
  },
  {
   "cell_type": "markdown",
   "metadata": {
    "hideCode": false,
    "hidePrompt": false
   },
   "source": [
    "Interactive elements can be used for easy use. It it possible to relatively easily create full dashboards, like here: [click](https://towardsdatascience.com/bring-your-jupyter-notebook-to-life-with-interactive-widgets-bc12e03f0916)"
   ]
  },
  {
   "cell_type": "code",
   "execution_count": 10,
   "metadata": {
    "hideCode": false,
    "hidePrompt": false
   },
   "outputs": [
    {
     "data": {
      "application/vnd.jupyter.widget-view+json": {
       "model_id": "ce7bacb6a8db4a8b85731a6dd35f0368",
       "version_major": 2,
       "version_minor": 0
      },
      "text/plain": [
       "interactive(children=(SelectionRangeSlider(description='Dates', index=(43, 63), layout=Layout(width='600px'), …"
      ]
     },
     "metadata": {},
     "output_type": "display_data"
    }
   ],
   "source": [
    "df = filtered_df.groupby(pd.Grouper(key = 'Date', freq=\"W\", )).sum()\n",
    "df.index = pd.to_datetime(df.index.strftime('%Y-%m-%d'))\n",
    "df.drop(['index'] , axis='columns', inplace = True)\n",
    "df.reset_index(inplace = True)\n",
    "df.rename(columns = {'index':'Date'}, inplace = True) \n",
    "\n",
    "dates = df['Date']\n",
    "\n",
    "\n",
    "date_range = (min(dates),max(dates))\n",
    "options = [(date.strftime(' %d/%m/%Y ')) for date in dates]\n",
    "\n",
    "\n",
    "selection_range_slider = widgets.SelectionRangeSlider(\n",
    "    options= options,\n",
    "    index=(len(options) // 2 -10, len(options) // 2 + 10),\n",
    "    description='Dates',\n",
    "    layout={'width': '600px'},\n",
    "    )\n",
    "\n",
    "\n",
    "def updater(dates):\n",
    "    global df\n",
    "    mask = (df['Date'] > dates[0]) & (df['Date'] <= dates[1])\n",
    "    df_temp = df.loc[mask]\n",
    "    \n",
    "    fig, ax = plt.subplots()\n",
    "    ax.plot(df_temp['Date'], df_temp['Dollar Sales'])\n",
    "    plt.setp(ax.get_xticklabels(), rotation=45)\n",
    "    plt.show()\n",
    "\n",
    "interactive_plot = widgets.interact(updater, dates = selection_range_slider)\n"
   ]
  },
  {
   "cell_type": "code",
   "execution_count": 11,
   "metadata": {
    "hideCode": false,
    "hidePrompt": false
   },
   "outputs": [
    {
     "data": {
      "text/html": [
       "<div>\n",
       "<style scoped>\n",
       "    .dataframe tbody tr th:only-of-type {\n",
       "        vertical-align: middle;\n",
       "    }\n",
       "\n",
       "    .dataframe tbody tr th {\n",
       "        vertical-align: top;\n",
       "    }\n",
       "\n",
       "    .dataframe thead th {\n",
       "        text-align: right;\n",
       "    }\n",
       "</style>\n",
       "<table border=\"1\" class=\"dataframe\">\n",
       "  <thead>\n",
       "    <tr style=\"text-align: right;\">\n",
       "      <th></th>\n",
       "      <th>SKU</th>\n",
       "      <th>Dollar Sales</th>\n",
       "      <th>% of Sales</th>\n",
       "    </tr>\n",
       "  </thead>\n",
       "  <tbody>\n",
       "    <tr>\n",
       "      <td>0</td>\n",
       "      <td>7312455530</td>\n",
       "      <td>17,610.34</td>\n",
       "      <td>26.09</td>\n",
       "    </tr>\n",
       "    <tr>\n",
       "      <td>1</td>\n",
       "      <td>7312455520</td>\n",
       "      <td>16,125.32</td>\n",
       "      <td>49.99</td>\n",
       "    </tr>\n",
       "    <tr>\n",
       "      <td>2</td>\n",
       "      <td>50012011250</td>\n",
       "      <td>14,325.66</td>\n",
       "      <td>71.22</td>\n",
       "    </tr>\n",
       "    <tr>\n",
       "      <td>3</td>\n",
       "      <td>8000520021</td>\n",
       "      <td>7,962.03</td>\n",
       "      <td>83.02</td>\n",
       "    </tr>\n",
       "    <tr>\n",
       "      <td>4</td>\n",
       "      <td>8000451112</td>\n",
       "      <td>5,709.45</td>\n",
       "      <td>91.48</td>\n",
       "    </tr>\n",
       "    <tr>\n",
       "      <td>5</td>\n",
       "      <td>50012011240</td>\n",
       "      <td>5,600.99</td>\n",
       "      <td>99.78</td>\n",
       "    </tr>\n",
       "    <tr>\n",
       "      <td>6</td>\n",
       "      <td>50012011341</td>\n",
       "      <td>151.76</td>\n",
       "      <td>100.00</td>\n",
       "    </tr>\n",
       "  </tbody>\n",
       "</table>\n",
       "</div>"
      ],
      "text/plain": [
       "           SKU  Dollar Sales  % of Sales\n",
       "0   7312455530     17,610.34       26.09\n",
       "1   7312455520     16,125.32       49.99\n",
       "2  50012011250     14,325.66       71.22\n",
       "3   8000520021      7,962.03       83.02\n",
       "4   8000451112      5,709.45       91.48\n",
       "5  50012011240      5,600.99       99.78\n",
       "6  50012011341        151.76      100.00"
      ]
     },
     "execution_count": 11,
     "metadata": {},
     "output_type": "execute_result"
    }
   ],
   "source": [
    "#summarising by SKU\n",
    "\n",
    "by_sku = filtered_df.groupby(by ='SKU', as_index = False).sum()\n",
    "by_sku.sort_values(by='Dollar Sales', inplace = True, ascending = False, )\n",
    "by_sku.reset_index(inplace = True)\n",
    "by_sku[\"% of Sales\"] = by_sku[\"Dollar Sales\"].cumsum()/by_sku[\"Dollar Sales\"].sum() * 100\n",
    "by_sku[['SKU', 'Dollar Sales', '% of Sales']]"
   ]
  },
  {
   "cell_type": "markdown",
   "metadata": {
    "hideCode": false,
    "hidePrompt": false
   },
   "source": [
    "# Creating a pareto plot\n",
    "\n",
    "please note that graphics is the most time-consuming thing to create due to multiple possible parameters, although very flexible."
   ]
  },
  {
   "cell_type": "code",
   "execution_count": 12,
   "metadata": {
    "hideCode": false,
    "hidePrompt": false,
    "scrolled": false
   },
   "outputs": [
    {
     "data": {
      "image/png": "[encoded data removed]",
      "text/plain": [
       "<Figure size 432x288 with 2 Axes>"
      ]
     },
     "metadata": {
      "needs_background": "light"
     },
     "output_type": "display_data"
    }
   ],
   "source": [
    "fig, ax = plt.subplots()\n",
    "plt.title('Pareto of SKU vs Dollar Sales')\n",
    "\n",
    "\n",
    "ax.bar(by_sku['SKU'],by_sku[\"Dollar Sales\"])\n",
    "ax2 = ax.twinx()\n",
    "ax2.plot(by_sku['SKU'], by_sku[\"% of Sales\"], color=\"C1\", marker=\"D\", ms=7)\n",
    "\n",
    "# ax.yaxis.get_major_formatter().set_useOffset(False)\n",
    "ax.yaxis.get_major_formatter().set_scientific(False)\n",
    "ax2.yaxis.set_major_formatter(mt.PercentFormatter())\n",
    "\n",
    "ax.tick_params(axis = 'y', length = 10)\n",
    "\n",
    "labels = ax.get_xticklabels()\n",
    "plt.setp(labels, rotation = 45, horizontalalignment = 'right')\n",
    "\n",
    "plt.show()"
   ]
  },
  {
   "cell_type": "markdown",
   "metadata": {
    "hideCode": false,
    "hidePrompt": false
   },
   "source": [
    "Code can also be hidden like this for reporting purposes"
   ]
  },
  {
   "cell_type": "code",
   "execution_count": 15,
   "metadata": {
    "hideCode": true,
    "hidePrompt": false
   },
   "outputs": [
    {
     "data": {
      "image/png": "[encoded data removed]",
      "text/plain": [
       "<Figure size 432x288 with 2 Axes>"
      ]
     },
     "metadata": {
      "needs_background": "light"
     },
     "output_type": "display_data"
    }
   ],
   "source": [
    "fig, ax = plt.subplots()\n",
    "plt.title('Same plot but code is hidden')\n",
    "\n",
    "\n",
    "ax.bar(by_sku['SKU'],by_sku[\"Dollar Sales\"])\n",
    "ax2 = ax.twinx()\n",
    "ax2.plot(by_sku['SKU'], by_sku[\"% of Sales\"], color=\"C1\", marker=\"D\", ms=7)\n",
    "\n",
    "# ax.yaxis.get_major_formatter().set_useOffset(False)\n",
    "ax.yaxis.get_major_formatter().set_scientific(False)\n",
    "ax2.yaxis.set_major_formatter(mt.PercentFormatter())\n",
    "\n",
    "ax.tick_params(axis = 'y', length = 10)\n",
    "\n",
    "labels = ax.get_xticklabels()\n",
    "plt.setp(labels, rotation = 45, horizontalalignment = 'right')\n",
    "\n",
    "plt.show()"
   ]
  }
 ],
 "metadata": {
  "celltoolbar": "Hide code",
  "hide_code_all_hidden": false,
  "kernelspec": {
   "display_name": "Python 3",
   "language": "python",
   "name": "python3"
  },
  "language_info": {
   "codemirror_mode": {
    "name": "ipython",
    "version": 3
   },
   "file_extension": ".py",
   "mimetype": "text/x-python",
   "name": "python",
   "nbconvert_exporter": "python",
   "pygments_lexer": "ipython3",
   "version": "3.7.4"
  }
 },
 "nbformat": 4,
 "nbformat_minor": 4
}
