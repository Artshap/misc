{
 "cells": [
  {
   "cell_type": "code",
   "execution_count": 1,
   "metadata": {},
   "outputs": [],
   "source": [
    "import ipywidgets as widgets\n",
    "import pandas as pd\n",
    "import qgrid\n",
    "import matplotlib.pyplot as plt\n",
    "import matplotlib.ticker as mt\n",
    "from datetime import datetime\n",
    "import numpy as np"
   ]
  },
  {
   "cell_type": "markdown",
   "metadata": {},
   "source": [
    "## Setting float format options"
   ]
  },
  {
   "cell_type": "code",
   "execution_count": 2,
   "metadata": {},
   "outputs": [],
   "source": [
    "pd.options.display.float_format = '{:,.2f}'.format"
   ]
  },
  {
   "cell_type": "markdown",
   "metadata": {},
   "source": [
    "# Data import"
   ]
  },
  {
   "cell_type": "markdown",
   "metadata": {},
   "source": [
    "## Importing SKU Master\n",
    "\n",
    "By using an appropriate extension cells can be dited inplace like in excel. I would still prefer data cleaning in excel, depending on the case."
   ]
  },
  {
   "cell_type": "code",
   "execution_count": 3,
   "metadata": {
    "scrolled": true
   },
   "outputs": [
    {
     "data": {
      "application/vnd.jupyter.widget-view+json": {
       "model_id": "a7b90e616e9c43239c2a4383668c3656",
       "version_major": 2,
       "version_minor": 0
      },
      "text/plain": [
       "QgridWidget(grid_options={'fullWidthRows': True, 'syncColumnCellResize': True, 'forceFitColumns': True, 'defau…"
      ]
     },
     "metadata": {},
     "output_type": "display_data"
    }
   ],
   "source": [
    "sku_master = pd.read_excel(io = 'sample_data.xlsx', sheet_name = 'SKU Master')\n",
    "qgrid.show_grid(sku_master)"
   ]
  },
  {
   "cell_type": "markdown",
   "metadata": {},
   "source": [
    "## Importing the sales data for one of the stores"
   ]
  },
  {
   "cell_type": "code",
   "execution_count": 4,
   "metadata": {},
   "outputs": [
    {
     "data": {
      "application/vnd.jupyter.widget-view+json": {
       "model_id": "03169ec4c2f0409fb0058dbb9b64dffa",
       "version_major": 2,
       "version_minor": 0
      },
      "text/plain": [
       "QgridWidget(grid_options={'fullWidthRows': True, 'syncColumnCellResize': True, 'forceFitColumns': True, 'defau…"
      ]
     },
     "metadata": {},
     "output_type": "display_data"
    }
   ],
   "source": [
    "sales_data = pd.read_excel(io = 'sample_data.xlsx', sheet_name = 'Store 312')\n",
    "qgrid.show_grid(sales_data)"
   ]
  },
  {
   "cell_type": "code",
   "execution_count": 5,
   "metadata": {
    "scrolled": true
   },
   "outputs": [
    {
     "data": {
      "application/vnd.jupyter.widget-view+json": {
       "model_id": "84abf544cf93421c93e5c777d1684e7d",
       "version_major": 2,
       "version_minor": 0
      },
      "text/plain": [
       "QgridWidget(grid_options={'fullWidthRows': True, 'syncColumnCellResize': True, 'forceFitColumns': True, 'defau…"
      ]
     },
     "metadata": {},
     "output_type": "display_data"
    }
   ],
   "source": [
    "merged_dataset = pd.merge(left = sales_data, right = sku_master, on = 'SKU')\n",
    "qgrid.show_grid(merged_dataset)"
   ]
  },
  {
   "cell_type": "code",
   "execution_count": 6,
   "metadata": {},
   "outputs": [
    {
     "data": {
      "text/plain": [
       "DB_ID                  float64\n",
       "SKU                     object\n",
       "Store                  float64\n",
       "Date            datetime64[ns]\n",
       "Unit Sales              object\n",
       "Dollar Sales           float64\n",
       "Department               int64\n",
       "Class                    int64\n",
       "Style                    int64\n",
       "Color                    int64\n",
       "Cost                   float64\n",
       "Price                  float64\n",
       "Vendor                  object\n",
       "dtype: object"
      ]
     },
     "execution_count": 6,
     "metadata": {},
     "output_type": "execute_result"
    }
   ],
   "source": [
    "#checking datatypes\n",
    "merged_dataset.dtypes"
   ]
  },
  {
   "cell_type": "code",
   "execution_count": 7,
   "metadata": {},
   "outputs": [
    {
     "data": {
      "text/plain": [
       "DB_ID                  float64\n",
       "SKU                     object\n",
       "Store                  float64\n",
       "Date            datetime64[ns]\n",
       "Unit Sales              object\n",
       "Dollar Sales           float64\n",
       "Department              object\n",
       "Class                    int64\n",
       "Style                    int64\n",
       "Color                   object\n",
       "Cost                   float64\n",
       "Price                  float64\n",
       "Vendor                  object\n",
       "dtype: object"
      ]
     },
     "execution_count": 7,
     "metadata": {},
     "output_type": "execute_result"
    }
   ],
   "source": [
    "#assign datatype \n",
    "merged_dataset[\"Department\"] = merged_dataset['Department'].astype('str')\n",
    "merged_dataset[\"SKU\"] = merged_dataset['SKU'].astype('str')\n",
    "merged_dataset[\"Color\"] = merged_dataset['Color'].astype('str')\n",
    "merged_dataset.dtypes"
   ]
  },
  {
   "cell_type": "markdown",
   "metadata": {},
   "source": [
    "I will take inner quartiles of dollar sales to remove outliers from plots."
   ]
  },
  {
   "cell_type": "code",
   "execution_count": 8,
   "metadata": {
    "scrolled": false
   },
   "outputs": [
    {
     "data": {
      "application/vnd.jupyter.widget-view+json": {
       "model_id": "490c726343e44963a5c0ac31b3d8a486",
       "version_major": 2,
       "version_minor": 0
      },
      "text/plain": [
       "QgridWidget(grid_options={'fullWidthRows': True, 'syncColumnCellResize': True, 'forceFitColumns': True, 'defau…"
      ]
     },
     "metadata": {},
     "output_type": "display_data"
    }
   ],
   "source": [
    "sales_25pc = merged_dataset['Dollar Sales'].describe()['25%']\n",
    "sales_75pc = merged_dataset['Dollar Sales'].describe()['75%']\n",
    "\n",
    "inner_quartiles = (merged_dataset['Dollar Sales'] > sales_25pc) & (merged_dataset['Dollar Sales'] <= sales_75pc)\n",
    "filtered_df=(merged_dataset.loc[inner_quartiles])\n",
    "qgrid.show_grid(filtered_df)"
   ]
  },
  {
   "cell_type": "markdown",
   "metadata": {},
   "source": [
    "Interactive elements can be used for easy use. It it possible to relatively easily create full dashboards, like here: [click](https://towardsdatascience.com/bring-your-jupyter-notebook-to-life-with-interactive-widgets-bc12e03f0916)"
   ]
  },
  {
   "cell_type": "code",
   "execution_count": 9,
   "metadata": {},
   "outputs": [
    {
     "data": {
      "application/vnd.jupyter.widget-view+json": {
       "model_id": "c79faa05982b4c6bb60bc736d4a19369",
       "version_major": 2,
       "version_minor": 0
      },
      "text/plain": [
       "interactive(children=(SelectionRangeSlider(description='Dates', index=(0, 1608), layout=Layout(width='600px'),…"
      ]
     },
     "metadata": {},
     "output_type": "display_data"
    }
   ],
   "source": [
    "dates = filtered_df['Date'].sort_values()\n",
    "date_range = (min(dates),max(dates))\n",
    "options = [(date.strftime(' %d/%m/%Y ')) for date in dates]\n",
    "\n",
    "\n",
    "selection_range_slider = widgets.SelectionRangeSlider(\n",
    "    options= options,\n",
    "    index=(0, len(options)-1),\n",
    "    description='Dates',\n",
    "    layout={'width': '600px'},\n",
    "    )\n",
    "\n",
    "\n",
    "def updater(dates):\n",
    "    df = filtered_df\n",
    "    mask = (df['Date'] > dates[0]) & (df['Date'] <= dates[1])\n",
    "    df = df.loc[mask]\n",
    "    \n",
    "    fig, ax = plt.subplots()\n",
    "    ax.bar(df['Date'], df['Dollar Sales'])\n",
    "    plt.setp(ax.get_xticklabels(), rotation=45)\n",
    "    plt.show()\n",
    "\n",
    "interactive_plot = widgets.interact(updater, dates = selection_range_slider)\n",
    "\n"
   ]
  },
  {
   "cell_type": "code",
   "execution_count": 10,
   "metadata": {},
   "outputs": [
    {
     "data": {
      "text/html": [
       "<div>\n",
       "<style scoped>\n",
       "    .dataframe tbody tr th:only-of-type {\n",
       "        vertical-align: middle;\n",
       "    }\n",
       "\n",
       "    .dataframe tbody tr th {\n",
       "        vertical-align: top;\n",
       "    }\n",
       "\n",
       "    .dataframe thead th {\n",
       "        text-align: right;\n",
       "    }\n",
       "</style>\n",
       "<table border=\"1\" class=\"dataframe\">\n",
       "  <thead>\n",
       "    <tr style=\"text-align: right;\">\n",
       "      <th></th>\n",
       "      <th>DB_ID</th>\n",
       "      <th>Store</th>\n",
       "      <th>Dollar Sales</th>\n",
       "      <th>Class</th>\n",
       "      <th>Style</th>\n",
       "      <th>Cost</th>\n",
       "      <th>Price</th>\n",
       "    </tr>\n",
       "  </thead>\n",
       "  <tbody>\n",
       "    <tr>\n",
       "      <td>count</td>\n",
       "      <td>3,341.00</td>\n",
       "      <td>3,341.00</td>\n",
       "      <td>3,281.00</td>\n",
       "      <td>3,341.00</td>\n",
       "      <td>3,341.00</td>\n",
       "      <td>3,341.00</td>\n",
       "      <td>3,341.00</td>\n",
       "    </tr>\n",
       "    <tr>\n",
       "      <td>mean</td>\n",
       "      <td>554,911.04</td>\n",
       "      <td>312.00</td>\n",
       "      <td>1,208.85</td>\n",
       "      <td>88.10</td>\n",
       "      <td>31.25</td>\n",
       "      <td>10.23</td>\n",
       "      <td>14.71</td>\n",
       "    </tr>\n",
       "    <tr>\n",
       "      <td>std</td>\n",
       "      <td>719,873.46</td>\n",
       "      <td>0.00</td>\n",
       "      <td>21,401.07</td>\n",
       "      <td>93.67</td>\n",
       "      <td>19.63</td>\n",
       "      <td>6.72</td>\n",
       "      <td>8.24</td>\n",
       "    </tr>\n",
       "    <tr>\n",
       "      <td>min</td>\n",
       "      <td>79,444.00</td>\n",
       "      <td>312.00</td>\n",
       "      <td>-59.94</td>\n",
       "      <td>4.00</td>\n",
       "      <td>1.00</td>\n",
       "      <td>2.50</td>\n",
       "      <td>6.99</td>\n",
       "    </tr>\n",
       "    <tr>\n",
       "      <td>25%</td>\n",
       "      <td>89,642.00</td>\n",
       "      <td>312.00</td>\n",
       "      <td>19.98</td>\n",
       "      <td>5.00</td>\n",
       "      <td>12.00</td>\n",
       "      <td>7.50</td>\n",
       "      <td>9.99</td>\n",
       "    </tr>\n",
       "    <tr>\n",
       "      <td>50%</td>\n",
       "      <td>93,986.00</td>\n",
       "      <td>312.00</td>\n",
       "      <td>39.96</td>\n",
       "      <td>24.00</td>\n",
       "      <td>20.00</td>\n",
       "      <td>7.50</td>\n",
       "      <td>9.99</td>\n",
       "    </tr>\n",
       "    <tr>\n",
       "      <td>75%</td>\n",
       "      <td>1,000,742.00</td>\n",
       "      <td>312.00</td>\n",
       "      <td>68.97</td>\n",
       "      <td>201.00</td>\n",
       "      <td>55.00</td>\n",
       "      <td>14.50</td>\n",
       "      <td>22.99</td>\n",
       "    </tr>\n",
       "    <tr>\n",
       "      <td>max</td>\n",
       "      <td>2,001,795.00</td>\n",
       "      <td>312.00</td>\n",
       "      <td>599,400.00</td>\n",
       "      <td>300.00</td>\n",
       "      <td>55.00</td>\n",
       "      <td>25.00</td>\n",
       "      <td>31.99</td>\n",
       "    </tr>\n",
       "  </tbody>\n",
       "</table>\n",
       "</div>"
      ],
      "text/plain": [
       "             DB_ID    Store  Dollar Sales    Class    Style     Cost    Price\n",
       "count     3,341.00 3,341.00      3,281.00 3,341.00 3,341.00 3,341.00 3,341.00\n",
       "mean    554,911.04   312.00      1,208.85    88.10    31.25    10.23    14.71\n",
       "std     719,873.46     0.00     21,401.07    93.67    19.63     6.72     8.24\n",
       "min      79,444.00   312.00        -59.94     4.00     1.00     2.50     6.99\n",
       "25%      89,642.00   312.00         19.98     5.00    12.00     7.50     9.99\n",
       "50%      93,986.00   312.00         39.96    24.00    20.00     7.50     9.99\n",
       "75%   1,000,742.00   312.00         68.97   201.00    55.00    14.50    22.99\n",
       "max   2,001,795.00   312.00    599,400.00   300.00    55.00    25.00    31.99"
      ]
     },
     "execution_count": 10,
     "metadata": {},
     "output_type": "execute_result"
    }
   ],
   "source": [
    "merged_dataset.describe()"
   ]
  },
  {
   "cell_type": "code",
   "execution_count": 11,
   "metadata": {},
   "outputs": [
    {
     "data": {
      "text/html": [
       "<div>\n",
       "<style scoped>\n",
       "    .dataframe tbody tr th:only-of-type {\n",
       "        vertical-align: middle;\n",
       "    }\n",
       "\n",
       "    .dataframe tbody tr th {\n",
       "        vertical-align: top;\n",
       "    }\n",
       "\n",
       "    .dataframe thead th {\n",
       "        text-align: right;\n",
       "    }\n",
       "</style>\n",
       "<table border=\"1\" class=\"dataframe\">\n",
       "  <thead>\n",
       "    <tr style=\"text-align: right;\">\n",
       "      <th></th>\n",
       "      <th>SKU</th>\n",
       "      <th>Dollar Sales</th>\n",
       "      <th>% of Sales</th>\n",
       "    </tr>\n",
       "  </thead>\n",
       "  <tbody>\n",
       "    <tr>\n",
       "      <td>0</td>\n",
       "      <td>50012011250</td>\n",
       "      <td>3,717,570.51</td>\n",
       "      <td>93.73</td>\n",
       "    </tr>\n",
       "    <tr>\n",
       "      <td>1</td>\n",
       "      <td>8000451112</td>\n",
       "      <td>152,318.02</td>\n",
       "      <td>97.57</td>\n",
       "    </tr>\n",
       "    <tr>\n",
       "      <td>2</td>\n",
       "      <td>8000520021</td>\n",
       "      <td>27,392.58</td>\n",
       "      <td>98.26</td>\n",
       "    </tr>\n",
       "    <tr>\n",
       "      <td>3</td>\n",
       "      <td>7312455530</td>\n",
       "      <td>26,231.59</td>\n",
       "      <td>98.92</td>\n",
       "    </tr>\n",
       "    <tr>\n",
       "      <td>4</td>\n",
       "      <td>7312455520</td>\n",
       "      <td>20,773.73</td>\n",
       "      <td>99.45</td>\n",
       "    </tr>\n",
       "    <tr>\n",
       "      <td>5</td>\n",
       "      <td>50013000110</td>\n",
       "      <td>10,404.99</td>\n",
       "      <td>99.71</td>\n",
       "    </tr>\n",
       "    <tr>\n",
       "      <td>6</td>\n",
       "      <td>50012011240</td>\n",
       "      <td>10,077.57</td>\n",
       "      <td>99.96</td>\n",
       "    </tr>\n",
       "    <tr>\n",
       "      <td>7</td>\n",
       "      <td>50012011341</td>\n",
       "      <td>1,457.16</td>\n",
       "      <td>100.00</td>\n",
       "    </tr>\n",
       "  </tbody>\n",
       "</table>\n",
       "</div>"
      ],
      "text/plain": [
       "           SKU  Dollar Sales  % of Sales\n",
       "0  50012011250  3,717,570.51       93.73\n",
       "1   8000451112    152,318.02       97.57\n",
       "2   8000520021     27,392.58       98.26\n",
       "3   7312455530     26,231.59       98.92\n",
       "4   7312455520     20,773.73       99.45\n",
       "5  50013000110     10,404.99       99.71\n",
       "6  50012011240     10,077.57       99.96\n",
       "7  50012011341      1,457.16      100.00"
      ]
     },
     "execution_count": 11,
     "metadata": {},
     "output_type": "execute_result"
    }
   ],
   "source": [
    "#summarising by SKU\n",
    "\n",
    "df = merged_dataset.groupby(by ='SKU', as_index = False).sum()\n",
    "df.sort_values(by='Dollar Sales', inplace = True, ascending = False, )\n",
    "df.reset_index(inplace = True)\n",
    "df[\"% of Sales\"] = df[\"Dollar Sales\"].cumsum()/df[\"Dollar Sales\"].sum() * 100\n",
    "df[['SKU', 'Dollar Sales', '% of Sales']]"
   ]
  },
  {
   "cell_type": "markdown",
   "metadata": {},
   "source": [
    "# Creating a pareto plot\n",
    "\n",
    "please note that graphics is the most time-consuming thing to create due to multiple possible parameters, although very flexible."
   ]
  },
  {
   "cell_type": "code",
   "execution_count": 12,
   "metadata": {
    "scrolled": false
   },
   "outputs": [
    {
     "data": {
      "image/png": "[encoded data removed]",
      "text/plain": [
       "<Figure size 432x288 with 2 Axes>"
      ]
     },
     "metadata": {
      "needs_background": "light"
     },
     "output_type": "display_data"
    }
   ],
   "source": [
    "fig, ax = plt.subplots()\n",
    "plt.title('Pareto of SKU vs Dollar Sales')\n",
    "\n",
    "\n",
    "ax.bar(df['SKU'],df[\"Dollar Sales\"])\n",
    "ax2 = ax.twinx()\n",
    "ax2.plot(df['SKU'], df[\"% of Sales\"], color=\"C1\", marker=\"D\", ms=7)\n",
    "\n",
    "# ax.yaxis.get_major_formatter().set_useOffset(False)\n",
    "ax.yaxis.get_major_formatter().set_scientific(False)\n",
    "ax2.yaxis.set_major_formatter(mt.PercentFormatter())\n",
    "\n",
    "ax.tick_params(axis = 'y', length = 10)\n",
    "\n",
    "labels = ax.get_xticklabels()\n",
    "plt.setp(labels, rotation = 45, horizontalalignment = 'right')\n",
    "\n",
    "plt.show()"
   ]
  },
  {
   "cell_type": "markdown",
   "metadata": {},
   "source": [
    "Code can also be hidden like this for reporting purposes"
   ]
  },
  {
   "cell_type": "code",
   "execution_count": 13,
   "metadata": {
    "hideCode": true
   },
   "outputs": [
    {
     "data": {
      "image/png": "[encoded data removed]",
      "text/plain": [
       "<Figure size 432x288 with 2 Axes>"
      ]
     },
     "metadata": {
      "needs_background": "light"
     },
     "output_type": "display_data"
    }
   ],
   "source": [
    "fig, ax = plt.subplots()\n",
    "plt.title('Same plot but code is hidden')\n",
    "\n",
    "\n",
    "ax.bar(df['SKU'],df[\"Dollar Sales\"])\n",
    "ax2 = ax.twinx()\n",
    "ax2.plot(df['SKU'], df[\"% of Sales\"], color=\"C1\", marker=\"D\", ms=7)\n",
    "\n",
    "# ax.yaxis.get_major_formatter().set_useOffset(False)\n",
    "ax.yaxis.get_major_formatter().set_scientific(False)\n",
    "ax2.yaxis.set_major_formatter(mt.PercentFormatter())\n",
    "\n",
    "ax.tick_params(axis = 'y', length = 10)\n",
    "\n",
    "labels = ax.get_xticklabels()\n",
    "plt.setp(labels, rotation = 45, horizontalalignment = 'right')\n",
    "\n",
    "plt.show()"
   ]
  }
 ],
 "metadata": {
  "celltoolbar": "Hide code",
  "kernelspec": {
   "display_name": "Python 3",
   "language": "python",
   "name": "python3"
  },
  "language_info": {
   "codemirror_mode": {
    "name": "ipython",
    "version": 3
   },
   "file_extension": ".py",
   "mimetype": "text/x-python",
   "name": "python",
   "nbconvert_exporter": "python",
   "pygments_lexer": "ipython3",
   "version": "3.7.4"
  }
 },
 "nbformat": 4,
 "nbformat_minor": 4
}
