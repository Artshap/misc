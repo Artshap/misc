<<<<<<< HEAD
<<<<<<< HEAD





<!DOCTYPE html>
<html lang="en">
  <head>
    <meta charset="utf-8">
  <link rel="dns-prefetch" href="https://github.githubassets.com">
  <link rel="dns-prefetch" href="https://avatars0.githubusercontent.com">
  <link rel="dns-prefetch" href="https://avatars1.githubusercontent.com">
  <link rel="dns-prefetch" href="https://avatars2.githubusercontent.com">
  <link rel="dns-prefetch" href="https://avatars3.githubusercontent.com">
  <link rel="dns-prefetch" href="https://github-cloud.s3.amazonaws.com">
  <link rel="dns-prefetch" href="https://user-images.githubusercontent.com/">



  <link crossorigin="anonymous" media="all" integrity="sha512-rsVPXyiNp8s9ZJmY/0tHTf6aEYske5ryqk9cUNtphuJ8dSj/EGusGpfKQ5FbQlAeDQNLwKPJRUOXNsiNjynp0Q==" rel="stylesheet" href="https://github.githubassets.com/assets/frameworks-aec54f5f288da7cb3d649998ff4b474d.css" />
  
    <link crossorigin="anonymous" media="all" integrity="sha512-kvES5QwcIyxP9Sw6dJ3/Df0i+wy+zAwajWvOmNtvWtFrwVQSE+7iBOZ3E5DE94SrjGbBZ4LbsgUZcpSdkTQYqA==" rel="stylesheet" href="https://github.githubassets.com/assets/github-92f112e50c1c232c4ff52c3a749dff0d.css" />
    
    
    
    


  <meta name="viewport" content="width=device-width">
  
  <title>misc/example.ipynb at master · Artshap/misc</title>
    <meta name="description" content="Contribute to Artshap/misc development by creating an account on GitHub.">
    <link rel="search" type="application/opensearchdescription+xml" href="/opensearch.xml" title="GitHub">
  <link rel="fluid-icon" href="https://github.com/fluidicon.png" title="GitHub">
  <meta property="fb:app_id" content="1401488693436528">
  <meta name="apple-itunes-app" content="app-id=1477376905">

    <meta name="twitter:image:src" content="https://avatars3.githubusercontent.com/u/49969695?s=400&amp;v=4" /><meta name="twitter:site" content="@github" /><meta name="twitter:card" content="summary" /><meta name="twitter:title" content="Artshap/misc" /><meta name="twitter:description" content="Contribute to Artshap/misc development by creating an account on GitHub." />
    <meta property="og:image" content="https://avatars3.githubusercontent.com/u/49969695?s=400&amp;v=4" /><meta property="og:site_name" content="GitHub" /><meta property="og:type" content="object" /><meta property="og:title" content="Artshap/misc" /><meta property="og:url" content="https://github.com/Artshap/misc" /><meta property="og:description" content="Contribute to Artshap/misc development by creating an account on GitHub." />



  

  <link rel="assets" href="https://github.githubassets.com/">
    <link rel="shared-web-socket" href="wss://alive.github.com/_sockets/u/49969695/ws?session=eyJ2IjoiVjMiLCJ1Ijo0OTk2OTY5NSwicyI6NTc2OTY3ODk5LCJjIjo4MzI5Mzk5MjAsInQiOjE2MDA3NTg4ODd9--ccb0c53c4ea91f04a1529a8cc104686495623b9ecf6a80e9aa9fd33b8105e69d" data-refresh-url="/_alive">
  <link rel="sudo-modal" href="/sessions/sudo_modal">

  <meta name="request-id" content="D45D:156A:9193A6:D7C4F9:5F69A43C" data-pjax-transient="true" /><meta name="html-safe-nonce" content="765bddbad31cb4a9848401d17200276e70af22d4" data-pjax-transient="true" /><meta name="visitor-payload" content="eyJyZWZlcnJlciI6Imh0dHBzOi8vZ2l0aHViLmNvbS9BcnRzaGFwL21pc2MvdHJlZS9tYXN0ZXIvZGNleGFtcGxlIiwicmVxdWVzdF9pZCI6IkQ0NUQ6MTU2QTo5MTkzQTY6RDdDNEY5OjVGNjlBNDNDIiwidmlzaXRvcl9pZCI6IjMyOTY4MDI0ODEyMjkyMTUxNyIsInJlZ2lvbl9lZGdlIjoiYXAtc291dGhlYXN0LTIiLCJyZWdpb25fcmVuZGVyIjoiaWFkIn0=" data-pjax-transient="true" /><meta name="visitor-hmac" content="399e77cc6a94d2c4999712bd838497ae1863c71477af24e03a0caf521650a671" data-pjax-transient="true" /><meta name="cookie-consent-required" content="false" />

    <meta name="hovercard-subject-tag" content="repository:195329312" data-pjax-transient>


  <meta name="github-keyboard-shortcuts" content="repository,source-code" data-pjax-transient="true" />

  

  <meta name="selected-link" value="repo_source" data-pjax-transient>

    <meta name="google-site-verification" content="c1kuD-K2HIVF635lypcsWPoD4kilo5-jA_wBFyT4uMY">
  <meta name="google-site-verification" content="KT5gs8h0wvaagLKAVWq8bbeNwnZZK1r1XQysX3xurLU">
  <meta name="google-site-verification" content="ZzhVyEFwb7w3e0-uOTltm8Jsck2F5StVihD0exw2fsA">
  <meta name="google-site-verification" content="GXs5KoUUkNCoaAZn7wPN-t01Pywp9M3sEjnt_3_ZWPc">

  <meta name="octolytics-host" content="collector.githubapp.com" /><meta name="octolytics-app-id" content="github" /><meta name="octolytics-event-url" content="https://collector.githubapp.com/github-external/browser_event" /><meta name="octolytics-dimension-ga_id" content="" class="js-octo-ga-id" /><meta name="octolytics-actor-id" content="49969695" /><meta name="octolytics-actor-login" content="Artshap" /><meta name="octolytics-actor-hash" content="b96039bf779fecae4fe64a89f191d0ba8864e396b2a2cc8574b17082ae868be9" />

  <meta name="analytics-location" content="/&lt;user-name&gt;/&lt;repo-name&gt;/blob/show" data-pjax-transient="true" />

  





    <meta name="google-analytics" content="UA-3769691-2">

  <meta class="js-ga-set" name="userId" content="0c47956330bc9a1fd28a387276e0988a">

<meta class="js-ga-set" name="dimension10" content="Responsive" data-pjax-transient>

<meta class="js-ga-set" name="dimension1" content="Logged In">



  

      <meta name="hostname" content="github.com">
    <meta name="user-login" content="Artshap">


      <meta name="expected-hostname" content="github.com">

      <meta name="js-proxy-site-detection-payload" content="NmY1YzE0Zjg4ZTI2ZTEwMWYwNTFmMTUyZjFhYjk0YmIwMzlmODlhZmY4YjE4MWVkYTFiZmYxOGU3OWI1ZDcyOHx7InJlbW90ZV9hZGRyZXNzIjoiMTI5Ljk0LjIzNi4xMTEiLCJyZXF1ZXN0X2lkIjoiRDQ1RDoxNTZBOjkxOTNBNjpEN0M0Rjk6NUY2OUE0M0MiLCJ0aW1lc3RhbXAiOjE2MDA3NTg4ODcsImhvc3QiOiJnaXRodWIuY29tIn0=">

    <meta name="enabled-features" content="MARKETPLACE_PENDING_INSTALLATIONS,JS_HTTP_CACHE_HEADERS,PRESERVE_STALE_COMMENTS">

  <meta http-equiv="x-pjax-version" content="8e6b3ff366c7f0a95f7e522433546229a2a35d13650165a55f1b9279775e3033">
  

        <link href="https://github.com/Artshap/misc/commits/master.atom" rel="alternate" title="Recent Commits to misc:master" type="application/atom+xml">

  <meta name="go-import" content="github.com/Artshap/misc git https://github.com/Artshap/misc.git">

  <meta name="octolytics-dimension-user_id" content="49969695" /><meta name="octolytics-dimension-user_login" content="Artshap" /><meta name="octolytics-dimension-repository_id" content="195329312" /><meta name="octolytics-dimension-repository_nwo" content="Artshap/misc" /><meta name="octolytics-dimension-repository_public" content="true" /><meta name="octolytics-dimension-repository_is_fork" content="false" /><meta name="octolytics-dimension-repository_network_root_id" content="195329312" /><meta name="octolytics-dimension-repository_network_root_nwo" content="Artshap/misc" /><meta name="octolytics-dimension-repository_explore_github_marketplace_ci_cta_shown" content="false" />


    <link rel="canonical" href="https://github.com/Artshap/misc/blob/master/dcexample/example.ipynb" data-pjax-transient>


  <meta name="browser-stats-url" content="https://api.github.com/_private/browser/stats">

  <meta name="browser-errors-url" content="https://api.github.com/_private/browser/errors">

  <link rel="mask-icon" href="https://github.githubassets.com/pinned-octocat.svg" color="#000000">
  <link rel="alternate icon" class="js-site-favicon" type="image/png" href="https://github.githubassets.com/favicons/favicon.png">
  <link rel="icon" class="js-site-favicon" type="image/svg+xml" href="https://github.githubassets.com/favicons/favicon.svg">

<meta name="theme-color" content="#1e2327">

  <meta name="msapplication-TileImage" content="/windows-tile.png">
  <meta name="msapplication-TileColor" content="#ffffff">

  <link rel="manifest" href="/manifest.json" crossOrigin="use-credentials">

  </head>

  <body class="logged-in env-production page-responsive page-blob">
    

    <div class="position-relative js-header-wrapper ">
      <a href="#start-of-content" class="p-3 bg-blue text-white show-on-focus js-skip-to-content">Skip to content</a>
      <span class="progress-pjax-loader width-full js-pjax-loader-bar Progress position-fixed">
    <span style="background-color: #79b8ff;width: 0%;" class="Progress-item progress-pjax-loader-bar "></span>
</span>      
      



          <header class="Header js-details-container Details flex-wrap flex-md-nowrap px-3 px-md-4 px-lg-5" role="banner">
  <div class="Header-item mt-n1 mb-n1  d-none d-md-flex">
    <a class="Header-link" href="https://github.com/" data-hotkey="g d"
  aria-label="Homepage " data-ga-click="Header, go to dashboard, icon:logo">
  <svg class="octicon octicon-mark-github v-align-middle" height="32" viewBox="0 0 16 16" version="1.1" width="32" aria-hidden="true"><path fill-rule="evenodd" d="M8 0C3.58 0 0 3.58 0 8c0 3.54 2.29 6.53 5.47 7.59.4.07.55-.17.55-.38 0-.19-.01-.82-.01-1.49-2.01.37-2.53-.49-2.69-.94-.09-.23-.48-.94-.82-1.13-.28-.15-.68-.52-.01-.53.63-.01 1.08.58 1.23.82.72 1.21 1.87.87 2.33.66.07-.52.28-.87.51-1.07-1.78-.2-3.64-.89-3.64-3.95 0-.87.31-1.59.82-2.15-.08-.2-.36-1.02.08-2.12 0 0 .67-.21 2.2.82.64-.18 1.32-.27 2-.27.68 0 1.36.09 2 .27 1.53-1.04 2.2-.82 2.2-.82.44 1.1.16 1.92.08 2.12.51.56.82 1.27.82 2.15 0 3.07-1.87 3.75-3.65 3.95.29.25.54.73.54 1.48 0 1.07-.01 1.93-.01 2.2 0 .21.15.46.55.38A8.013 8.013 0 0016 8c0-4.42-3.58-8-8-8z"></path></svg>
</a>

  </div>

  <div class="Header-item d-md-none">
    <button class="Header-link btn-link js-details-target" type="button" aria-label="Toggle navigation" aria-expanded="false">
      <svg height="24" class="octicon octicon-three-bars" viewBox="0 0 16 16" version="1.1" width="24" aria-hidden="true"><path fill-rule="evenodd" d="M1 2.75A.75.75 0 011.75 2h12.5a.75.75 0 110 1.5H1.75A.75.75 0 011 2.75zm0 5A.75.75 0 011.75 7h12.5a.75.75 0 110 1.5H1.75A.75.75 0 011 7.75zM1.75 12a.75.75 0 100 1.5h12.5a.75.75 0 100-1.5H1.75z"></path></svg>
    </button>
  </div>

  <div class="Header-item Header-item--full flex-column flex-md-row width-full flex-order-2 flex-md-order-none mr-0 mr-md-3 mt-3 mt-md-0 Details-content--hidden-not-important d-md-flex">
        <div class="header-search header-search-current js-header-search-current flex-auto js-site-search position-relative flex-self-stretch flex-md-self-auto mr-0 mr-md-3 mb-3 mb-md-0 scoped-search site-scoped-search js-jump-to js-header-search-current-jump-to"
  role="combobox"
  aria-owns="jump-to-results"
  aria-label="Search or jump to"
  aria-haspopup="listbox"
  aria-expanded="false"
>
  <div class="position-relative">
    <!-- '"` --><!-- </textarea></xmp> --></option></form><form class="js-site-search-form" role="search" aria-label="Site" data-scope-type="Repository" data-scope-id="195329312" data-scoped-search-url="/Artshap/misc/search" data-unscoped-search-url="/search" action="/Artshap/misc/search" accept-charset="UTF-8" method="get">
      <label class="form-control input-sm header-search-wrapper p-0 js-chromeless-input-container header-search-wrapper-jump-to position-relative d-flex flex-justify-between flex-items-center">
        <input type="text"
          class="form-control input-sm header-search-input jump-to-field js-jump-to-field js-site-search-focus js-site-search-field is-clearable"
          data-hotkey="s,/"
          name="q"
          value=""
          placeholder="Search or jump to…"
          data-unscoped-placeholder="Search or jump to…"
          data-scoped-placeholder="Search or jump to…"
          autocapitalize="off"
          aria-autocomplete="list"
          aria-controls="jump-to-results"
          aria-label="Search or jump to…"
          data-jump-to-suggestions-path="/_graphql/GetSuggestedNavigationDestinations"
          spellcheck="false"
          autocomplete="off"
          >
          <input type="hidden" value="sFuWBS3Dz8Znzsg1RhB1SJ2+2m/4KQFeqDzI6pmw2d7JupksIO0YUDk1hdJ8LwCTqjqvwxaKN/NNaAXtyJ2DDw==" data-csrf="true" class="js-data-jump-to-suggestions-path-csrf" />
          <input type="hidden" class="js-site-search-type-field" name="type" >
            <img src="https://github.githubassets.com/images/search-key-slash.svg" alt="" class="mr-2 header-search-key-slash">

            <div class="Box position-absolute overflow-hidden d-none jump-to-suggestions js-jump-to-suggestions-container">
              
<ul class="d-none js-jump-to-suggestions-template-container">
  

<li class="d-flex flex-justify-start flex-items-center p-0 f5 navigation-item js-navigation-item js-jump-to-suggestion" role="option">
  <a tabindex="-1" class="no-underline d-flex flex-auto flex-items-center jump-to-suggestions-path js-jump-to-suggestion-path js-navigation-open p-2" href="">
    <div class="jump-to-octicon js-jump-to-octicon flex-shrink-0 mr-2 text-center d-none">
      <svg height="16" width="16" class="octicon octicon-repo flex-shrink-0 js-jump-to-octicon-repo d-none" title="Repository" aria-label="Repository" viewBox="0 0 16 16" version="1.1" role="img"><path fill-rule="evenodd" d="M2 2.5A2.5 2.5 0 014.5 0h8.75a.75.75 0 01.75.75v12.5a.75.75 0 01-.75.75h-2.5a.75.75 0 110-1.5h1.75v-2h-8a1 1 0 00-.714 1.7.75.75 0 01-1.072 1.05A2.495 2.495 0 012 11.5v-9zm10.5-1V9h-8c-.356 0-.694.074-1 .208V2.5a1 1 0 011-1h8zM5 12.25v3.25a.25.25 0 00.4.2l1.45-1.087a.25.25 0 01.3 0L8.6 15.7a.25.25 0 00.4-.2v-3.25a.25.25 0 00-.25-.25h-3.5a.25.25 0 00-.25.25z"></path></svg>
      <svg height="16" width="16" class="octicon octicon-project flex-shrink-0 js-jump-to-octicon-project d-none" title="Project" aria-label="Project" viewBox="0 0 16 16" version="1.1" role="img"><path fill-rule="evenodd" d="M1.75 0A1.75 1.75 0 000 1.75v12.5C0 15.216.784 16 1.75 16h12.5A1.75 1.75 0 0016 14.25V1.75A1.75 1.75 0 0014.25 0H1.75zM1.5 1.75a.25.25 0 01.25-.25h12.5a.25.25 0 01.25.25v12.5a.25.25 0 01-.25.25H1.75a.25.25 0 01-.25-.25V1.75zM11.75 3a.75.75 0 00-.75.75v7.5a.75.75 0 001.5 0v-7.5a.75.75 0 00-.75-.75zm-8.25.75a.75.75 0 011.5 0v5.5a.75.75 0 01-1.5 0v-5.5zM8 3a.75.75 0 00-.75.75v3.5a.75.75 0 001.5 0v-3.5A.75.75 0 008 3z"></path></svg>
      <svg height="16" width="16" class="octicon octicon-search flex-shrink-0 js-jump-to-octicon-search d-none" title="Search" aria-label="Search" viewBox="0 0 16 16" version="1.1" role="img"><path fill-rule="evenodd" d="M11.5 7a4.499 4.499 0 11-8.998 0A4.499 4.499 0 0111.5 7zm-.82 4.74a6 6 0 111.06-1.06l3.04 3.04a.75.75 0 11-1.06 1.06l-3.04-3.04z"></path></svg>
    </div>

    <img class="avatar mr-2 flex-shrink-0 js-jump-to-suggestion-avatar d-none" alt="" aria-label="Team" src="" width="28" height="28">

    <div class="jump-to-suggestion-name js-jump-to-suggestion-name flex-auto overflow-hidden text-left no-wrap css-truncate css-truncate-target">
    </div>

    <div class="border rounded-1 flex-shrink-0 bg-gray px-1 text-gray-light ml-1 f6 d-none js-jump-to-badge-search">
      <span class="js-jump-to-badge-search-text-default d-none" aria-label="in this repository">
        In this repository
      </span>
      <span class="js-jump-to-badge-search-text-global d-none" aria-label="in all of GitHub">
        All GitHub
      </span>
      <span aria-hidden="true" class="d-inline-block ml-1 v-align-middle">↵</span>
    </div>

    <div aria-hidden="true" class="border rounded-1 flex-shrink-0 bg-gray px-1 text-gray-light ml-1 f6 d-none d-on-nav-focus js-jump-to-badge-jump">
      Jump to
      <span class="d-inline-block ml-1 v-align-middle">↵</span>
    </div>
  </a>
</li>

</ul>

<ul class="d-none js-jump-to-no-results-template-container">
  <li class="d-flex flex-justify-center flex-items-center f5 d-none js-jump-to-suggestion p-2">
    <span class="text-gray">No suggested jump to results</span>
  </li>
</ul>

<ul id="jump-to-results" role="listbox" class="p-0 m-0 js-navigation-container jump-to-suggestions-results-container js-jump-to-suggestions-results-container">
  

<li class="d-flex flex-justify-start flex-items-center p-0 f5 navigation-item js-navigation-item js-jump-to-scoped-search d-none" role="option">
  <a tabindex="-1" class="no-underline d-flex flex-auto flex-items-center jump-to-suggestions-path js-jump-to-suggestion-path js-navigation-open p-2" href="">
    <div class="jump-to-octicon js-jump-to-octicon flex-shrink-0 mr-2 text-center d-none">
      <svg height="16" width="16" class="octicon octicon-repo flex-shrink-0 js-jump-to-octicon-repo d-none" title="Repository" aria-label="Repository" viewBox="0 0 16 16" version="1.1" role="img"><path fill-rule="evenodd" d="M2 2.5A2.5 2.5 0 014.5 0h8.75a.75.75 0 01.75.75v12.5a.75.75 0 01-.75.75h-2.5a.75.75 0 110-1.5h1.75v-2h-8a1 1 0 00-.714 1.7.75.75 0 01-1.072 1.05A2.495 2.495 0 012 11.5v-9zm10.5-1V9h-8c-.356 0-.694.074-1 .208V2.5a1 1 0 011-1h8zM5 12.25v3.25a.25.25 0 00.4.2l1.45-1.087a.25.25 0 01.3 0L8.6 15.7a.25.25 0 00.4-.2v-3.25a.25.25 0 00-.25-.25h-3.5a.25.25 0 00-.25.25z"></path></svg>
      <svg height="16" width="16" class="octicon octicon-project flex-shrink-0 js-jump-to-octicon-project d-none" title="Project" aria-label="Project" viewBox="0 0 16 16" version="1.1" role="img"><path fill-rule="evenodd" d="M1.75 0A1.75 1.75 0 000 1.75v12.5C0 15.216.784 16 1.75 16h12.5A1.75 1.75 0 0016 14.25V1.75A1.75 1.75 0 0014.25 0H1.75zM1.5 1.75a.25.25 0 01.25-.25h12.5a.25.25 0 01.25.25v12.5a.25.25 0 01-.25.25H1.75a.25.25 0 01-.25-.25V1.75zM11.75 3a.75.75 0 00-.75.75v7.5a.75.75 0 001.5 0v-7.5a.75.75 0 00-.75-.75zm-8.25.75a.75.75 0 011.5 0v5.5a.75.75 0 01-1.5 0v-5.5zM8 3a.75.75 0 00-.75.75v3.5a.75.75 0 001.5 0v-3.5A.75.75 0 008 3z"></path></svg>
      <svg height="16" width="16" class="octicon octicon-search flex-shrink-0 js-jump-to-octicon-search d-none" title="Search" aria-label="Search" viewBox="0 0 16 16" version="1.1" role="img"><path fill-rule="evenodd" d="M11.5 7a4.499 4.499 0 11-8.998 0A4.499 4.499 0 0111.5 7zm-.82 4.74a6 6 0 111.06-1.06l3.04 3.04a.75.75 0 11-1.06 1.06l-3.04-3.04z"></path></svg>
    </div>

    <img class="avatar mr-2 flex-shrink-0 js-jump-to-suggestion-avatar d-none" alt="" aria-label="Team" src="" width="28" height="28">

    <div class="jump-to-suggestion-name js-jump-to-suggestion-name flex-auto overflow-hidden text-left no-wrap css-truncate css-truncate-target">
    </div>

    <div class="border rounded-1 flex-shrink-0 bg-gray px-1 text-gray-light ml-1 f6 d-none js-jump-to-badge-search">
      <span class="js-jump-to-badge-search-text-default d-none" aria-label="in this repository">
        In this repository
      </span>
      <span class="js-jump-to-badge-search-text-global d-none" aria-label="in all of GitHub">
        All GitHub
      </span>
      <span aria-hidden="true" class="d-inline-block ml-1 v-align-middle">↵</span>
    </div>

    <div aria-hidden="true" class="border rounded-1 flex-shrink-0 bg-gray px-1 text-gray-light ml-1 f6 d-none d-on-nav-focus js-jump-to-badge-jump">
      Jump to
      <span class="d-inline-block ml-1 v-align-middle">↵</span>
    </div>
  </a>
</li>

  

<li class="d-flex flex-justify-start flex-items-center p-0 f5 navigation-item js-navigation-item js-jump-to-global-search d-none" role="option">
  <a tabindex="-1" class="no-underline d-flex flex-auto flex-items-center jump-to-suggestions-path js-jump-to-suggestion-path js-navigation-open p-2" href="">
    <div class="jump-to-octicon js-jump-to-octicon flex-shrink-0 mr-2 text-center d-none">
      <svg height="16" width="16" class="octicon octicon-repo flex-shrink-0 js-jump-to-octicon-repo d-none" title="Repository" aria-label="Repository" viewBox="0 0 16 16" version="1.1" role="img"><path fill-rule="evenodd" d="M2 2.5A2.5 2.5 0 014.5 0h8.75a.75.75 0 01.75.75v12.5a.75.75 0 01-.75.75h-2.5a.75.75 0 110-1.5h1.75v-2h-8a1 1 0 00-.714 1.7.75.75 0 01-1.072 1.05A2.495 2.495 0 012 11.5v-9zm10.5-1V9h-8c-.356 0-.694.074-1 .208V2.5a1 1 0 011-1h8zM5 12.25v3.25a.25.25 0 00.4.2l1.45-1.087a.25.25 0 01.3 0L8.6 15.7a.25.25 0 00.4-.2v-3.25a.25.25 0 00-.25-.25h-3.5a.25.25 0 00-.25.25z"></path></svg>
      <svg height="16" width="16" class="octicon octicon-project flex-shrink-0 js-jump-to-octicon-project d-none" title="Project" aria-label="Project" viewBox="0 0 16 16" version="1.1" role="img"><path fill-rule="evenodd" d="M1.75 0A1.75 1.75 0 000 1.75v12.5C0 15.216.784 16 1.75 16h12.5A1.75 1.75 0 0016 14.25V1.75A1.75 1.75 0 0014.25 0H1.75zM1.5 1.75a.25.25 0 01.25-.25h12.5a.25.25 0 01.25.25v12.5a.25.25 0 01-.25.25H1.75a.25.25 0 01-.25-.25V1.75zM11.75 3a.75.75 0 00-.75.75v7.5a.75.75 0 001.5 0v-7.5a.75.75 0 00-.75-.75zm-8.25.75a.75.75 0 011.5 0v5.5a.75.75 0 01-1.5 0v-5.5zM8 3a.75.75 0 00-.75.75v3.5a.75.75 0 001.5 0v-3.5A.75.75 0 008 3z"></path></svg>
      <svg height="16" width="16" class="octicon octicon-search flex-shrink-0 js-jump-to-octicon-search d-none" title="Search" aria-label="Search" viewBox="0 0 16 16" version="1.1" role="img"><path fill-rule="evenodd" d="M11.5 7a4.499 4.499 0 11-8.998 0A4.499 4.499 0 0111.5 7zm-.82 4.74a6 6 0 111.06-1.06l3.04 3.04a.75.75 0 11-1.06 1.06l-3.04-3.04z"></path></svg>
    </div>

    <img class="avatar mr-2 flex-shrink-0 js-jump-to-suggestion-avatar d-none" alt="" aria-label="Team" src="" width="28" height="28">

    <div class="jump-to-suggestion-name js-jump-to-suggestion-name flex-auto overflow-hidden text-left no-wrap css-truncate css-truncate-target">
    </div>

    <div class="border rounded-1 flex-shrink-0 bg-gray px-1 text-gray-light ml-1 f6 d-none js-jump-to-badge-search">
      <span class="js-jump-to-badge-search-text-default d-none" aria-label="in this repository">
        In this repository
      </span>
      <span class="js-jump-to-badge-search-text-global d-none" aria-label="in all of GitHub">
        All GitHub
      </span>
      <span aria-hidden="true" class="d-inline-block ml-1 v-align-middle">↵</span>
    </div>

    <div aria-hidden="true" class="border rounded-1 flex-shrink-0 bg-gray px-1 text-gray-light ml-1 f6 d-none d-on-nav-focus js-jump-to-badge-jump">
      Jump to
      <span class="d-inline-block ml-1 v-align-middle">↵</span>
    </div>
  </a>
</li>


    <li class="d-flex flex-justify-center flex-items-center p-0 f5 js-jump-to-suggestion">
      <img src="https://github.githubassets.com/images/spinners/octocat-spinner-128.gif" alt="Octocat Spinner Icon" class="m-2" width="28">
    </li>
</ul>

            </div>
      </label>
</form>  </div>
</div>


    <nav class="d-flex flex-column flex-md-row flex-self-stretch flex-md-self-auto" aria-label="Global">
    <a class="Header-link py-md-3 d-block d-md-none py-2 border-top border-md-top-0 border-white-fade-15" data-ga-click="Header, click, Nav menu - item:dashboard:user" aria-label="Dashboard" href="/dashboard">
      Dashboard
</a>
  <a class="js-selected-navigation-item Header-link mt-md-n3 mb-md-n3 py-2 py-md-3 mr-0 mr-md-3 border-top border-md-top-0 border-white-fade-15" data-hotkey="g p" data-ga-click="Header, click, Nav menu - item:pulls context:user" aria-label="Pull requests you created" data-selected-links="/pulls /pulls/assigned /pulls/mentioned /pulls" href="/pulls">
      Pull<span class="d-inline d-md-none d-lg-inline"> request</span>s
</a>
  <a class="js-selected-navigation-item Header-link mt-md-n3 mb-md-n3 py-2 py-md-3 mr-0 mr-md-3 border-top border-md-top-0 border-white-fade-15" data-hotkey="g i" data-ga-click="Header, click, Nav menu - item:issues context:user" aria-label="Issues you created" data-selected-links="/issues /issues/assigned /issues/mentioned /issues" href="/issues">
    Issues
</a>

    <div class="d-flex position-relative">
      <a class="js-selected-navigation-item Header-link flex-auto mt-md-n3 mb-md-n3 py-2 py-md-3 mr-0 mr-md-3 border-top border-md-top-0 border-white-fade-15" data-ga-click="Header, click, Nav menu - item:marketplace context:user" data-octo-click="marketplace_click" data-octo-dimensions="location:nav_bar" data-selected-links=" /marketplace" href="/marketplace">
        Marketplace
</a>      

    </div>

  <a class="js-selected-navigation-item Header-link mt-md-n3 mb-md-n3 py-2 py-md-3 mr-0 mr-md-3 border-top border-md-top-0 border-white-fade-15" data-ga-click="Header, click, Nav menu - item:explore" data-selected-links="/explore /trending /trending/developers /integrations /integrations/feature/code /integrations/feature/collaborate /integrations/feature/ship showcases showcases_search showcases_landing /explore" href="/explore">
    Explore
</a>


    <a class="Header-link d-block d-md-none mr-0 mr-md-3 py-2 py-md-3 border-top border-md-top-0 border-white-fade-15" href="/Artshap">
      <img class="avatar avatar-user" src="https://avatars0.githubusercontent.com/u/49969695?s=40&amp;v=4" width="20" height="20" alt="@Artshap" />
      Artshap
</a>
    <!-- '"` --><!-- </textarea></xmp> --></option></form><form action="/logout" accept-charset="UTF-8" method="post"><input type="hidden" name="authenticity_token" value="WsRLAvnoAWPRTmaRsfgI0OntdpxTfKzrcJCEk/EzkAN1q3LQoPSoxduFun6XMqrvZKP3nN0j9YhMJv9rNPiP1g==" />
      <button type="submit" class="Header-link mr-0 mr-md-3 py-2 py-md-3 border-top border-md-top-0 border-white-fade-15 d-md-none btn-link d-block width-full text-left" data-ga-click="Header, sign out, icon:logout" style="padding-left: 2px;">
        <svg class="octicon octicon-sign-out v-align-middle" viewBox="0 0 16 16" version="1.1" width="16" height="16" aria-hidden="true"><path fill-rule="evenodd" d="M2 2.75C2 1.784 2.784 1 3.75 1h2.5a.75.75 0 010 1.5h-2.5a.25.25 0 00-.25.25v10.5c0 .138.112.25.25.25h2.5a.75.75 0 010 1.5h-2.5A1.75 1.75 0 012 13.25V2.75zm10.44 4.5H6.75a.75.75 0 000 1.5h5.69l-1.97 1.97a.75.75 0 101.06 1.06l3.25-3.25a.75.75 0 000-1.06l-3.25-3.25a.75.75 0 10-1.06 1.06l1.97 1.97z"></path></svg>
        Sign out
      </button>
</form></nav>

  </div>

  <div class="Header-item Header-item--full flex-justify-center d-md-none position-relative">
    <a class="Header-link" href="https://github.com/" data-hotkey="g d"
  aria-label="Homepage " data-ga-click="Header, go to dashboard, icon:logo">
  <svg class="octicon octicon-mark-github v-align-middle" height="32" viewBox="0 0 16 16" version="1.1" width="32" aria-hidden="true"><path fill-rule="evenodd" d="M8 0C3.58 0 0 3.58 0 8c0 3.54 2.29 6.53 5.47 7.59.4.07.55-.17.55-.38 0-.19-.01-.82-.01-1.49-2.01.37-2.53-.49-2.69-.94-.09-.23-.48-.94-.82-1.13-.28-.15-.68-.52-.01-.53.63-.01 1.08.58 1.23.82.72 1.21 1.87.87 2.33.66.07-.52.28-.87.51-1.07-1.78-.2-3.64-.89-3.64-3.95 0-.87.31-1.59.82-2.15-.08-.2-.36-1.02.08-2.12 0 0 .67-.21 2.2.82.64-.18 1.32-.27 2-.27.68 0 1.36.09 2 .27 1.53-1.04 2.2-.82 2.2-.82.44 1.1.16 1.92.08 2.12.51.56.82 1.27.82 2.15 0 3.07-1.87 3.75-3.65 3.95.29.25.54.73.54 1.48 0 1.07-.01 1.93-.01 2.2 0 .21.15.46.55.38A8.013 8.013 0 0016 8c0-4.42-3.58-8-8-8z"></path></svg>
</a>

  </div>

  <div class="Header-item mr-0 mr-md-3 flex-order-1 flex-md-order-none">
    

    <notification-indicator class="js-socket-channel" data-channel="eyJjIjoibm90aWZpY2F0aW9uLWNoYW5nZWQ6NDk5Njk2OTUiLCJ0IjoxNjAwNzU4ODg3fQ==--70941c6bf7401d619d1925f5cd2beabe62f41b270365d2f60bb64e58305e6ca9">
      <a href="/notifications"
         class="Header-link notification-indicator position-relative tooltipped tooltipped-sw"
         aria-label="You have no unread notifications"
         data-hotkey="g n"
         data-ga-click="Header, go to notifications, icon:read"
         data-target="notification-indicator.link">
         <span class="mail-status " data-target="notification-indicator.modifier"></span>
         <svg class="octicon octicon-bell" viewBox="0 0 16 16" version="1.1" width="16" height="16" aria-hidden="true"><path d="M8 16a2 2 0 001.985-1.75c.017-.137-.097-.25-.235-.25h-3.5c-.138 0-.252.113-.235.25A2 2 0 008 16z"></path><path fill-rule="evenodd" d="M8 1.5A3.5 3.5 0 004.5 5v2.947c0 .346-.102.683-.294.97l-1.703 2.556a.018.018 0 00-.003.01l.001.006c0 .002.002.004.004.006a.017.017 0 00.006.004l.007.001h10.964l.007-.001a.016.016 0 00.006-.004.016.016 0 00.004-.006l.001-.007a.017.017 0 00-.003-.01l-1.703-2.554a1.75 1.75 0 01-.294-.97V5A3.5 3.5 0 008 1.5zM3 5a5 5 0 0110 0v2.947c0 .05.015.098.042.139l1.703 2.555A1.518 1.518 0 0113.482 13H2.518a1.518 1.518 0 01-1.263-2.36l1.703-2.554A.25.25 0 003 7.947V5z"></path></svg>
      </a>
    </notification-indicator>

  </div>


  <div class="Header-item position-relative d-none d-md-flex">
    <details class="details-overlay details-reset">
  <summary class="Header-link"
      aria-label="Create new…"
      data-ga-click="Header, create new, icon:add">
    <svg class="octicon octicon-plus" viewBox="0 0 16 16" version="1.1" width="16" height="16" aria-hidden="true"><path fill-rule="evenodd" d="M8 2a.75.75 0 01.75.75v4.5h4.5a.75.75 0 010 1.5h-4.5v4.5a.75.75 0 01-1.5 0v-4.5h-4.5a.75.75 0 010-1.5h4.5v-4.5A.75.75 0 018 2z"></path></svg> <span class="dropdown-caret"></span>
  </summary>
  <details-menu class="dropdown-menu dropdown-menu-sw">
    
<a role="menuitem" class="dropdown-item" href="/new" data-ga-click="Header, create new repository">
  New repository
</a>

  <a role="menuitem" class="dropdown-item" href="/new/import" data-ga-click="Header, import a repository">
    Import repository
  </a>

<a role="menuitem" class="dropdown-item" href="https://gist.github.com/" data-ga-click="Header, create new gist">
  New gist
</a>

  <a role="menuitem" class="dropdown-item" href="/organizations/new" data-ga-click="Header, create new organization">
    New organization
  </a>


  <div role="none" class="dropdown-divider"></div>
  <div class="dropdown-header">
    <span title="Artshap/misc">This repository</span>
  </div>
    <a role="menuitem" class="dropdown-item" href="/Artshap/misc/issues/new/choose" data-ga-click="Header, create new issue" data-skip-pjax>
      New issue
    </a>


  </details-menu>
</details>

  </div>

  <div class="Header-item position-relative mr-0 d-none d-md-flex">
    
  <details class="details-overlay details-reset js-feature-preview-indicator-container" data-feature-preview-indicator-src="/users/Artshap/feature_preview/indicator_check">

  <summary class="Header-link"
    aria-label="View profile and more"
    data-ga-click="Header, show menu, icon:avatar">
    <img
  alt="@Artshap"
  width="20"
  height="20"
  src="https://avatars3.githubusercontent.com/u/49969695?s=60&amp;v=4"
  class="avatar avatar-user " />

      <span class="feature-preview-indicator js-feature-preview-indicator" style="top: 10px;" hidden></span>
    <span class="dropdown-caret"></span>
  </summary>
  <details-menu class="dropdown-menu dropdown-menu-sw" style="width: 180px" >
    <div class="header-nav-current-user css-truncate"><a role="menuitem" class="no-underline user-profile-link px-3 pt-2 pb-2 mb-n2 mt-n1 d-block" href="/Artshap" data-ga-click="Header, go to profile, text:Signed in as">Signed in as <strong class="css-truncate-target">Artshap</strong></a></div>
    <div role="none" class="dropdown-divider"></div>

      <div class="pl-3 pr-3 f6 user-status-container js-user-status-context lh-condensed" data-url="/users/status?compact=1&amp;link_mentions=0&amp;truncate=1">
        
<div class="js-user-status-container rounded-1 px-2 py-1 mt-2 border"
  data-team-hovercards-enabled>
  <details class="js-user-status-details details-reset details-overlay details-overlay-dark">
    <summary class="btn-link btn-block link-gray no-underline js-toggle-user-status-edit toggle-user-status-edit "
      role="menuitem" data-hydro-click="{&quot;event_type&quot;:&quot;user_profile.click&quot;,&quot;payload&quot;:{&quot;profile_user_id&quot;:49969695,&quot;target&quot;:&quot;EDIT_USER_STATUS&quot;,&quot;user_id&quot;:49969695,&quot;originating_url&quot;:&quot;https://github.com/Artshap/misc/blob/master/dcexample/example.ipynb&quot;}}" data-hydro-click-hmac="f66e8f107551e85e0b6900c6a9493301edef78cdbf4381965f30dedefd4ceacf">
      <div class="d-flex flex-items-center flex-items-stretch">
        <div class="f6 lh-condensed user-status-header d-flex user-status-emoji-only-header circle">
          <div class="user-status-emoji-container flex-shrink-0 mr-2 d-flex flex-items-center flex-justify-center lh-condensed-ultra v-align-bottom">
            <svg class="octicon octicon-smiley" viewBox="0 0 16 16" version="1.1" width="16" height="16" aria-hidden="true"><path fill-rule="evenodd" d="M1.5 8a6.5 6.5 0 1113 0 6.5 6.5 0 01-13 0zM8 0a8 8 0 100 16A8 8 0 008 0zM5 8a1 1 0 100-2 1 1 0 000 2zm7-1a1 1 0 11-2 0 1 1 0 012 0zM5.32 9.636a.75.75 0 011.038.175l.007.009c.103.118.22.222.35.31.264.178.683.37 1.285.37.602 0 1.02-.192 1.285-.371.13-.088.247-.192.35-.31l.007-.008a.75.75 0 111.222.87l-.614-.431c.614.43.614.431.613.431v.001l-.001.002-.002.003-.005.007-.014.019a1.984 1.984 0 01-.184.213c-.16.166-.338.316-.53.445-.63.418-1.37.638-2.127.629-.946 0-1.652-.308-2.126-.63a3.32 3.32 0 01-.715-.657l-.014-.02-.005-.006-.002-.003v-.002h-.001l.613-.432-.614.43a.75.75 0 01.183-1.044h.001z"></path></svg>
          </div>
        </div>
        <div class="
          
           user-status-message-wrapper f6 min-width-0"
           style="line-height: 20px;" >
          <div class="css-truncate css-truncate-target width-fit text-gray-dark text-left">
              <span class="text-gray">Set status</span>
          </div>
        </div>
      </div>
    </summary>
    <details-dialog class="details-dialog rounded-1 anim-fade-in fast Box Box--overlay" role="dialog" tabindex="-1">
      <!-- '"` --><!-- </textarea></xmp> --></option></form><form class="position-relative flex-auto js-user-status-form" action="/users/status?circle=0&amp;compact=1&amp;link_mentions=0&amp;truncate=1" accept-charset="UTF-8" method="post"><input type="hidden" name="_method" value="put" /><input type="hidden" name="authenticity_token" value="Ll8W9SzfQ24MQB9SBiN61XrCnivMGeGHXrNehK86P2R1wSmRvULD7aHDoDRMFRNfLudS4k26EATRd/bao72llQ==" />
        <div class="Box-header bg-gray border-bottom p-3">
          <button class="Box-btn-octicon js-toggle-user-status-edit btn-octicon float-right" type="reset" aria-label="Close dialog" data-close-dialog>
            <svg class="octicon octicon-x" viewBox="0 0 16 16" version="1.1" width="16" height="16" aria-hidden="true"><path fill-rule="evenodd" d="M3.72 3.72a.75.75 0 011.06 0L8 6.94l3.22-3.22a.75.75 0 111.06 1.06L9.06 8l3.22 3.22a.75.75 0 11-1.06 1.06L8 9.06l-3.22 3.22a.75.75 0 01-1.06-1.06L6.94 8 3.72 4.78a.75.75 0 010-1.06z"></path></svg>
          </button>
          <h3 class="Box-title f5 text-bold text-gray-dark">Edit status</h3>
        </div>
        <input type="hidden" name="emoji" class="js-user-status-emoji-field" value="">
        <input type="hidden" name="organization_id" class="js-user-status-org-id-field" value="">
        <div class="px-3 py-2 text-gray-dark">
          <div class="js-characters-remaining-container position-relative mt-2">
            <div class="input-group d-table form-group my-0 js-user-status-form-group">
              <span class="input-group-button d-table-cell v-align-middle" style="width: 1%">
                <button type="button" aria-label="Choose an emoji" class="btn-outline btn js-toggle-user-status-emoji-picker btn-open-emoji-picker p-0">
                  <span class="js-user-status-original-emoji" hidden></span>
                  <span class="js-user-status-custom-emoji"></span>
                  <span class="js-user-status-no-emoji-icon" >
                    <svg class="octicon octicon-smiley" viewBox="0 0 16 16" version="1.1" width="16" height="16" aria-hidden="true"><path fill-rule="evenodd" d="M1.5 8a6.5 6.5 0 1113 0 6.5 6.5 0 01-13 0zM8 0a8 8 0 100 16A8 8 0 008 0zM5 8a1 1 0 100-2 1 1 0 000 2zm7-1a1 1 0 11-2 0 1 1 0 012 0zM5.32 9.636a.75.75 0 011.038.175l.007.009c.103.118.22.222.35.31.264.178.683.37 1.285.37.602 0 1.02-.192 1.285-.371.13-.088.247-.192.35-.31l.007-.008a.75.75 0 111.222.87l-.614-.431c.614.43.614.431.613.431v.001l-.001.002-.002.003-.005.007-.014.019a1.984 1.984 0 01-.184.213c-.16.166-.338.316-.53.445-.63.418-1.37.638-2.127.629-.946 0-1.652-.308-2.126-.63a3.32 3.32 0 01-.715-.657l-.014-.02-.005-.006-.002-.003v-.002h-.001l.613-.432-.614.43a.75.75 0 01.183-1.044h.001z"></path></svg>
                  </span>
                </button>
              </span>
              <text-expander keys=": @" data-mention-url="/autocomplete/user-suggestions" data-emoji-url="/autocomplete/emoji">
                <input
                  type="text"
                  autocomplete="off"
                  data-no-org-url="/autocomplete/user-suggestions"
                  data-org-url="/suggestions?mention_suggester=1"
                  data-maxlength="80"
                  class="d-table-cell width-full form-control js-user-status-message-field js-characters-remaining-field"
                  placeholder="What's happening?"
                  name="message"
                  value=""
                  aria-label="What is your current status?">
              </text-expander>
              <div class="error">Could not update your status, please try again.</div>
            </div>
            <div style="margin-left: 53px" class="my-1 text-small label-characters-remaining js-characters-remaining" data-suffix="remaining" hidden>
              80 remaining
            </div>
          </div>
          <include-fragment class="js-user-status-emoji-picker" data-url="/users/status/emoji"></include-fragment>
          <div class="overflow-auto ml-n3 mr-n3 px-3 border-bottom" style="max-height: 33vh">
            <div class="user-status-suggestions js-user-status-suggestions collapsed overflow-hidden">
              <h4 class="f6 text-normal my-3">Suggestions:</h4>
              <div class="mx-3 mt-2 clearfix">
                  <div class="float-left col-6">
                      <button type="button" value=":palm_tree:" class="d-flex flex-items-baseline flex-items-stretch lh-condensed f6 btn-link link-gray no-underline js-predefined-user-status mb-1">
                        <div class="emoji-status-width mr-2 v-align-middle js-predefined-user-status-emoji">
                          <g-emoji alias="palm_tree" fallback-src="https://github.githubassets.com/images/icons/emoji/unicode/1f334.png">🌴</g-emoji>
                        </div>
                        <div class="d-flex flex-items-center no-underline js-predefined-user-status-message ws-normal text-left" style="border-left: 1px solid transparent">
                          On vacation
                        </div>
                      </button>
                      <button type="button" value=":face_with_thermometer:" class="d-flex flex-items-baseline flex-items-stretch lh-condensed f6 btn-link link-gray no-underline js-predefined-user-status mb-1">
                        <div class="emoji-status-width mr-2 v-align-middle js-predefined-user-status-emoji">
                          <g-emoji alias="face_with_thermometer" fallback-src="https://github.githubassets.com/images/icons/emoji/unicode/1f912.png">🤒</g-emoji>
                        </div>
                        <div class="d-flex flex-items-center no-underline js-predefined-user-status-message ws-normal text-left" style="border-left: 1px solid transparent">
                          Out sick
                        </div>
                      </button>
                  </div>
                  <div class="float-left col-6">
                      <button type="button" value=":house:" class="d-flex flex-items-baseline flex-items-stretch lh-condensed f6 btn-link link-gray no-underline js-predefined-user-status mb-1">
                        <div class="emoji-status-width mr-2 v-align-middle js-predefined-user-status-emoji">
                          <g-emoji alias="house" fallback-src="https://github.githubassets.com/images/icons/emoji/unicode/1f3e0.png">🏠</g-emoji>
                        </div>
                        <div class="d-flex flex-items-center no-underline js-predefined-user-status-message ws-normal text-left" style="border-left: 1px solid transparent">
                          Working from home
                        </div>
                      </button>
                      <button type="button" value=":dart:" class="d-flex flex-items-baseline flex-items-stretch lh-condensed f6 btn-link link-gray no-underline js-predefined-user-status mb-1">
                        <div class="emoji-status-width mr-2 v-align-middle js-predefined-user-status-emoji">
                          <g-emoji alias="dart" fallback-src="https://github.githubassets.com/images/icons/emoji/unicode/1f3af.png">🎯</g-emoji>
                        </div>
                        <div class="d-flex flex-items-center no-underline js-predefined-user-status-message ws-normal text-left" style="border-left: 1px solid transparent">
                          Focusing
                        </div>
                      </button>
                  </div>
              </div>
            </div>
            <div class="user-status-limited-availability-container">
              <div class="form-checkbox my-0">
                <input type="checkbox" name="limited_availability" value="1" class="js-user-status-limited-availability-checkbox" data-default-message="I may be slow to respond." aria-describedby="limited-availability-help-text-truncate-true-compact-true" id="limited-availability-truncate-true-compact-true">
                <label class="d-block f5 text-gray-dark mb-1" for="limited-availability-truncate-true-compact-true">
                  Busy
                </label>
                <p class="note" id="limited-availability-help-text-truncate-true-compact-true">
                  When others mention you, assign you, or request your review,
                  GitHub will let them know that you have limited availability.
                </p>
              </div>
            </div>
          </div>
          <div class="d-inline-block f5 mr-2 pt-3 pb-2" >
  <div class="d-inline-block mr-1">
    Clear status
  </div>

  <details class="js-user-status-expire-drop-down f6 dropdown details-reset details-overlay d-inline-block mr-2">
    <summary class="btn btn-sm v-align-baseline" aria-haspopup="true">
      <div class="js-user-status-expiration-interval-selected d-inline-block v-align-baseline">
        Never
      </div>
      <div class="dropdown-caret"></div>
    </summary>

    <ul class="dropdown-menu dropdown-menu-se pl-0 overflow-auto" style="width: 220px; max-height: 15.5em">
      <li>
        <button type="button" class="btn-link dropdown-item js-user-status-expire-button ws-normal" title="Never">
          <span class="d-inline-block text-bold mb-1">Never</span>
          <div class="f6 lh-condensed">Keep this status until you clear your status or edit your status.</div>
        </button>
      </li>
      <li class="dropdown-divider" role="none"></li>
        <li>
          <button type="button" class="btn-link dropdown-item ws-normal js-user-status-expire-button" title="in 30 minutes" value="2020-09-22T17:44:47+10:00">
            in 30 minutes
          </button>
        </li>
        <li>
          <button type="button" class="btn-link dropdown-item ws-normal js-user-status-expire-button" title="in 1 hour" value="2020-09-22T18:14:47+10:00">
            in 1 hour
          </button>
        </li>
        <li>
          <button type="button" class="btn-link dropdown-item ws-normal js-user-status-expire-button" title="in 4 hours" value="2020-09-22T21:14:47+10:00">
            in 4 hours
          </button>
        </li>
        <li>
          <button type="button" class="btn-link dropdown-item ws-normal js-user-status-expire-button" title="today" value="2020-09-22T23:59:59+10:00">
            today
          </button>
        </li>
        <li>
          <button type="button" class="btn-link dropdown-item ws-normal js-user-status-expire-button" title="this week" value="2020-09-27T23:59:59+10:00">
            this week
          </button>
        </li>
    </ul>
  </details>
  <input class="js-user-status-expiration-date-input" type="hidden" name="expires_at" value="">
</div>

          <include-fragment class="js-user-status-org-picker" data-url="/users/status/organizations"></include-fragment>
        </div>
        <div class="d-flex flex-items-center flex-justify-between p-3 border-top">
          <button type="submit" disabled class="width-full btn btn-primary mr-2 js-user-status-submit">
            Set status
          </button>
          <button type="button" disabled class="width-full js-clear-user-status-button btn ml-2 ">
            Clear status
          </button>
        </div>
</form>    </details-dialog>
  </details>
</div>

      </div>
      <div role="none" class="dropdown-divider"></div>

    <a role="menuitem" class="dropdown-item" href="/Artshap" data-ga-click="Header, go to profile, text:your profile" data-hydro-click="{&quot;event_type&quot;:&quot;global_header.user_menu_dropdown.click&quot;,&quot;payload&quot;:{&quot;request_url&quot;:&quot;https://github.com/Artshap/misc/blob/master/dcexample/example.ipynb&quot;,&quot;target&quot;:&quot;YOUR_PROFILE&quot;,&quot;originating_url&quot;:&quot;https://github.com/Artshap/misc/blob/master/dcexample/example.ipynb&quot;,&quot;user_id&quot;:49969695}}" data-hydro-click-hmac="72259ea9e482473617b5d118776f0962606ca7ab2119af2a5a858f590910fee5" >Your profile</a>

    <a role="menuitem" class="dropdown-item" href="/Artshap?tab=repositories" data-ga-click="Header, go to repositories, text:your repositories" data-hydro-click="{&quot;event_type&quot;:&quot;global_header.user_menu_dropdown.click&quot;,&quot;payload&quot;:{&quot;request_url&quot;:&quot;https://github.com/Artshap/misc/blob/master/dcexample/example.ipynb&quot;,&quot;target&quot;:&quot;YOUR_REPOSITORIES&quot;,&quot;originating_url&quot;:&quot;https://github.com/Artshap/misc/blob/master/dcexample/example.ipynb&quot;,&quot;user_id&quot;:49969695}}" data-hydro-click-hmac="21f742a59210ed3108643d9652d4e860ef14c0686666c8e5dca41f9da1065756" >Your repositories</a>



    <a role="menuitem" class="dropdown-item" href="/Artshap?tab=projects" data-ga-click="Header, go to projects, text:your projects" data-hydro-click="{&quot;event_type&quot;:&quot;global_header.user_menu_dropdown.click&quot;,&quot;payload&quot;:{&quot;request_url&quot;:&quot;https://github.com/Artshap/misc/blob/master/dcexample/example.ipynb&quot;,&quot;target&quot;:&quot;YOUR_PROJECTS&quot;,&quot;originating_url&quot;:&quot;https://github.com/Artshap/misc/blob/master/dcexample/example.ipynb&quot;,&quot;user_id&quot;:49969695}}" data-hydro-click-hmac="fd4b24577986ccf701e9b78bbedea4d02e1004970088e5e65bf681954220944e" >Your projects</a>


    <a role="menuitem" class="dropdown-item" href="/Artshap?tab=stars" data-ga-click="Header, go to starred repos, text:your stars" data-hydro-click="{&quot;event_type&quot;:&quot;global_header.user_menu_dropdown.click&quot;,&quot;payload&quot;:{&quot;request_url&quot;:&quot;https://github.com/Artshap/misc/blob/master/dcexample/example.ipynb&quot;,&quot;target&quot;:&quot;YOUR_STARS&quot;,&quot;originating_url&quot;:&quot;https://github.com/Artshap/misc/blob/master/dcexample/example.ipynb&quot;,&quot;user_id&quot;:49969695}}" data-hydro-click-hmac="036feb452c29e42a40381d460131eeda3ec897814914740d0b926469b3b6e8ca" >Your stars</a>
      <a role="menuitem" class="dropdown-item" href="https://gist.github.com/mine" data-ga-click="Header, your gists, text:your gists" data-hydro-click="{&quot;event_type&quot;:&quot;global_header.user_menu_dropdown.click&quot;,&quot;payload&quot;:{&quot;request_url&quot;:&quot;https://github.com/Artshap/misc/blob/master/dcexample/example.ipynb&quot;,&quot;target&quot;:&quot;YOUR_GISTS&quot;,&quot;originating_url&quot;:&quot;https://github.com/Artshap/misc/blob/master/dcexample/example.ipynb&quot;,&quot;user_id&quot;:49969695}}" data-hydro-click-hmac="a1e7e1f25c82cbf6c4eb79f71f49f2cca0db7719867cca7c3da8d7677b6ed45f" >Your gists</a>





    <div role="none" class="dropdown-divider"></div>
      
<div id="feature-enrollment-toggle" class="hide-sm hide-md feature-preview-details position-relative">
  <button
    type="button"
    class="dropdown-item btn-link"
    role="menuitem"
    data-feature-preview-trigger-url="/users/Artshap/feature_previews"
    data-feature-preview-close-details="{&quot;event_type&quot;:&quot;feature_preview.clicks.close_modal&quot;,&quot;payload&quot;:{&quot;originating_url&quot;:&quot;https://github.com/Artshap/misc/blob/master/dcexample/example.ipynb&quot;,&quot;user_id&quot;:49969695}}"
    data-feature-preview-close-hmac="20a2808549f603b7db968cfc8eae1df6a971073c6d26b46e862e45709a10ded4"
    data-hydro-click="{&quot;event_type&quot;:&quot;feature_preview.clicks.open_modal&quot;,&quot;payload&quot;:{&quot;link_location&quot;:&quot;user_dropdown&quot;,&quot;originating_url&quot;:&quot;https://github.com/Artshap/misc/blob/master/dcexample/example.ipynb&quot;,&quot;user_id&quot;:49969695}}"
    data-hydro-click-hmac="c567974c665f22e3fee733d8ee04ce4d95a78d90a7b210a9b71eaae8ac952dd6"
  >
    Feature preview
  </button>
    <span class="feature-preview-indicator js-feature-preview-indicator" hidden></span>
</div>

    <a role="menuitem" class="dropdown-item" href="https://docs.github.com" data-ga-click="Header, go to help, text:help" data-hydro-click="{&quot;event_type&quot;:&quot;global_header.user_menu_dropdown.click&quot;,&quot;payload&quot;:{&quot;request_url&quot;:&quot;https://github.com/Artshap/misc/blob/master/dcexample/example.ipynb&quot;,&quot;target&quot;:&quot;HELP&quot;,&quot;originating_url&quot;:&quot;https://github.com/Artshap/misc/blob/master/dcexample/example.ipynb&quot;,&quot;user_id&quot;:49969695}}" data-hydro-click-hmac="a8613acc910c63ad5008c98ab5e908df060488eba40c705f4f781b6018651844" >Help</a>
    <a role="menuitem" class="dropdown-item" href="/settings/profile" data-ga-click="Header, go to settings, icon:settings" data-hydro-click="{&quot;event_type&quot;:&quot;global_header.user_menu_dropdown.click&quot;,&quot;payload&quot;:{&quot;request_url&quot;:&quot;https://github.com/Artshap/misc/blob/master/dcexample/example.ipynb&quot;,&quot;target&quot;:&quot;SETTINGS&quot;,&quot;originating_url&quot;:&quot;https://github.com/Artshap/misc/blob/master/dcexample/example.ipynb&quot;,&quot;user_id&quot;:49969695}}" data-hydro-click-hmac="4b32152be02db84f7c4bb2935ae3d5352acb0b961c1c5733da2f721aca927e9e" >Settings</a>
    <!-- '"` --><!-- </textarea></xmp> --></option></form><form class="logout-form" action="/logout" accept-charset="UTF-8" method="post"><input type="hidden" name="authenticity_token" value="hLWsRNOrcmceq0fY+Q3hfoOVbfeJY4goZapLKqhOUFmr2pWWirfbwRRgmzffx0NBDtvs9wc80UtZHDDSbYVPjA==" />
      
      <button type="submit" class="dropdown-item dropdown-signout" data-ga-click="Header, sign out, icon:logout" data-hydro-click="{&quot;event_type&quot;:&quot;global_header.user_menu_dropdown.click&quot;,&quot;payload&quot;:{&quot;request_url&quot;:&quot;https://github.com/Artshap/misc/blob/master/dcexample/example.ipynb&quot;,&quot;target&quot;:&quot;SIGN_OUT&quot;,&quot;originating_url&quot;:&quot;https://github.com/Artshap/misc/blob/master/dcexample/example.ipynb&quot;,&quot;user_id&quot;:49969695}}" data-hydro-click-hmac="f887eaa4a26a903aeadfc62eb20f664fa5cd01f52541df9b7d4654e7e9d56a1b"  role="menuitem">
        Sign out
      </button>
      <input type="text" name="required_field_8d96" hidden="hidden" class="form-control" /><input type="hidden" name="timestamp" value="1600758887931" class="form-control" /><input type="hidden" name="timestamp_secret" value="25930069a29078f6bfe70da94d46c9e97fee55e081a57b41917c57d75c8d0779" class="form-control" />
</form>  </details-menu>
</details>

  </div>

</header>

          

    </div>

  <div id="start-of-content" class="show-on-focus"></div>




    <div id="js-flash-container">


  <template class="js-flash-template">
    <div class="flash flash-full  {{ className }}">
  <div class=" px-2" >
    <button class="flash-close js-flash-close" type="button" aria-label="Dismiss this message">
      <svg class="octicon octicon-x" viewBox="0 0 16 16" version="1.1" width="16" height="16" aria-hidden="true"><path fill-rule="evenodd" d="M3.72 3.72a.75.75 0 011.06 0L8 6.94l3.22-3.22a.75.75 0 111.06 1.06L9.06 8l3.22 3.22a.75.75 0 11-1.06 1.06L8 9.06l-3.22 3.22a.75.75 0 01-1.06-1.06L6.94 8 3.72 4.78a.75.75 0 010-1.06z"></path></svg>
    </button>
    
      <div>{{ message }}</div>

  </div>
</div>
  </template>
</div>


  

  <include-fragment class="js-notification-shelf-include-fragment" data-base-src="https://github.com/notifications/beta/shelf"></include-fragment>



  <div
    class="application-main "
    data-commit-hovercards-enabled
    data-discussion-hovercards-enabled
    data-issue-and-pr-hovercards-enabled
  >
        <div itemscope itemtype="http://schema.org/SoftwareSourceCode" class="">
    <main  >
      

    

        <div class="border-bottom shelf intro-shelf js-notice mb-0 pb-4">
  <div class="width-full container">
    <div class="width-full mx-auto shelf-content">
      <h2 class="shelf-title">Learn Git and GitHub without any code!</h2>
      <p class="shelf-lead">
          Using the Hello World guide, you’ll start a branch, write comments, and open a pull request.
      </p>
      <a class="btn btn-primary shelf-cta" target="_blank" data-hydro-click="{&quot;event_type&quot;:&quot;repository.click&quot;,&quot;payload&quot;:{&quot;target&quot;:&quot;READ_GUIDE&quot;,&quot;repository_id&quot;:195329312,&quot;originating_url&quot;:&quot;https://github.com/Artshap/misc/blob/master/dcexample/example.ipynb&quot;,&quot;user_id&quot;:49969695}}" data-hydro-click-hmac="17f57a422b26f99238dbd3420f98e20d62b5ab8b16e9d9fb11725e63501c1b69" href="https://guides.github.com/activities/hello-world/">Read the guide</a>
    </div>
    <!-- '"` --><!-- </textarea></xmp> --></option></form><form class="shelf-dismiss js-notice-dismiss" action="/dashboard/dismiss_bootcamp" accept-charset="UTF-8" method="post"><input type="hidden" name="_method" value="delete" /><input type="hidden" name="authenticity_token" value="bXP1I/uXHw1O4towyqs4veOpem9Vi1TcNvHhtIYOJCbMKTGZ4ddRu6wyZGA4zfGbzrOBPX1swrNRZfhDEpgRNg==" />
      <button name="button" type="submit" class="mr-1 close-button tooltipped tooltipped-w" aria-label="Hide this notice forever" data-hydro-click="{&quot;event_type&quot;:&quot;repository.click&quot;,&quot;payload&quot;:{&quot;target&quot;:&quot;DISMISS_BANNER&quot;,&quot;repository_id&quot;:195329312,&quot;originating_url&quot;:&quot;https://github.com/Artshap/misc/blob/master/dcexample/example.ipynb&quot;,&quot;user_id&quot;:49969695}}" data-hydro-click-hmac="b2a91925a59c0634f67169d4ebde15ee1c60bf31691e06f5d4736b14a2e27da1">
        <svg aria-label="Hide this notice forever" class="octicon octicon-x v-align-text-top" viewBox="0 0 16 16" version="1.1" width="16" height="16" role="img"><path fill-rule="evenodd" d="M3.72 3.72a.75.75 0 011.06 0L8 6.94l3.22-3.22a.75.75 0 111.06 1.06L9.06 8l3.22 3.22a.75.75 0 11-1.06 1.06L8 9.06l-3.22 3.22a.75.75 0 01-1.06-1.06L6.94 8 3.72 4.78a.75.75 0 010-1.06z"></path></svg>
</button></form>  </div>
</div>






  


  <div class="bg-gray-light pt-3 hide-full-screen mb-5">

      <div class="d-flex mb-3 px-3 px-md-4 px-lg-5">

        <div class="flex-auto min-width-0 width-fit mr-3">
            <h1 class=" d-flex flex-wrap flex-items-center break-word f3 text-normal">
    <svg class="octicon octicon-repo text-gray" viewBox="0 0 16 16" version="1.1" width="16" height="16" aria-hidden="true"><path fill-rule="evenodd" d="M2 2.5A2.5 2.5 0 014.5 0h8.75a.75.75 0 01.75.75v12.5a.75.75 0 01-.75.75h-2.5a.75.75 0 110-1.5h1.75v-2h-8a1 1 0 00-.714 1.7.75.75 0 01-1.072 1.05A2.495 2.495 0 012 11.5v-9zm10.5-1V9h-8c-.356 0-.694.074-1 .208V2.5a1 1 0 011-1h8zM5 12.25v3.25a.25.25 0 00.4.2l1.45-1.087a.25.25 0 01.3 0L8.6 15.7a.25.25 0 00.4-.2v-3.25a.25.25 0 00-.25-.25h-3.5a.25.25 0 00-.25.25z"></path></svg>
  <span class="author ml-2 flex-self-stretch" itemprop="author">
    <a class="url fn" rel="author" data-hovercard-type="user" data-hovercard-url="/users/Artshap/hovercard" data-octo-click="hovercard-link-click" data-octo-dimensions="link_type:self" href="/Artshap">Artshap</a>
  </span>
  <span class="mx-1 flex-self-stretch">/</span>
  <strong itemprop="name" class="mr-2 flex-self-stretch">
    <a data-pjax="#js-repo-pjax-container" href="/Artshap/misc">misc</a>
  </strong>
  
</h1>


        </div>

          <ul class="pagehead-actions flex-shrink-0 d-none d-md-inline" style="padding: 2px 0;">

  <li>
            <form data-remote="true" class="d-flex js-social-form js-social-container" action="/notifications/subscribe" accept-charset="UTF-8" method="post"><input type="hidden" name="authenticity_token" value="/f1vIT4hOxgrk43oDDwDpp0dW+i0vEFjeG1mDA0DgJmVrtiNs+YE1X8Baw8QhpqpFlDLXFFfAgaGzCJ9kkWl0g==" />      <input type="hidden" name="repository_id" value="195329312">

      <details class="details-reset details-overlay select-menu hx_rsm">
        <summary class="btn btn-sm btn-with-count" data-hydro-click="{&quot;event_type&quot;:&quot;repository.click&quot;,&quot;payload&quot;:{&quot;target&quot;:&quot;WATCH_BUTTON&quot;,&quot;repository_id&quot;:195329312,&quot;originating_url&quot;:&quot;https://github.com/Artshap/misc/blob/master/dcexample/example.ipynb&quot;,&quot;user_id&quot;:49969695}}" data-hydro-click-hmac="7b52e9919df95c5bf6b4cfe60ac3996bf91cb2d0c4fadd649ffd6dee922132d0" data-ga-click="Repository, click Watch settings, action:blob#show">          <span data-menu-button>
              <svg height="16" class="octicon octicon-eye" viewBox="0 0 16 16" version="1.1" width="16" aria-hidden="true"><path fill-rule="evenodd" d="M1.679 7.932c.412-.621 1.242-1.75 2.366-2.717C5.175 4.242 6.527 3.5 8 3.5c1.473 0 2.824.742 3.955 1.715 1.124.967 1.954 2.096 2.366 2.717a.119.119 0 010 .136c-.412.621-1.242 1.75-2.366 2.717C10.825 11.758 9.473 12.5 8 12.5c-1.473 0-2.824-.742-3.955-1.715C2.92 9.818 2.09 8.69 1.679 8.068a.119.119 0 010-.136zM8 2c-1.981 0-3.67.992-4.933 2.078C1.797 5.169.88 6.423.43 7.1a1.619 1.619 0 000 1.798c.45.678 1.367 1.932 2.637 3.024C4.329 13.008 6.019 14 8 14c1.981 0 3.67-.992 4.933-2.078 1.27-1.091 2.187-2.345 2.637-3.023a1.619 1.619 0 000-1.798c-.45-.678-1.367-1.932-2.637-3.023C11.671 2.992 9.981 2 8 2zm0 8a2 2 0 100-4 2 2 0 000 4z"></path></svg>
              Watch
          </span>
          <span class="dropdown-caret"></span>
</summary>        <details-menu
          class="select-menu-modal position-absolute mt-5"
          style="z-index: 99;">
          <div class="select-menu-header">
            <span class="select-menu-title">Notifications</span>
          </div>
          <div class="select-menu-list">
            <button type="submit" name="do" value="included" class="select-menu-item width-full" aria-checked="true" role="menuitemradio">
              <svg class="octicon octicon-check select-menu-item-icon" height="16" viewBox="0 0 16 16" version="1.1" width="16" aria-hidden="true"><path fill-rule="evenodd" d="M13.78 4.22a.75.75 0 010 1.06l-7.25 7.25a.75.75 0 01-1.06 0L2.22 9.28a.75.75 0 011.06-1.06L6 10.94l6.72-6.72a.75.75 0 011.06 0z"></path></svg>
              <div class="select-menu-item-text">
                <span class="select-menu-item-heading">Not watching</span>
                <span class="description">Be notified only when participating or @mentioned.</span>
                <span class="hidden-select-button-text" data-menu-button-contents>
                  <svg height="16" class="octicon octicon-eye" viewBox="0 0 16 16" version="1.1" width="16" aria-hidden="true"><path fill-rule="evenodd" d="M1.679 7.932c.412-.621 1.242-1.75 2.366-2.717C5.175 4.242 6.527 3.5 8 3.5c1.473 0 2.824.742 3.955 1.715 1.124.967 1.954 2.096 2.366 2.717a.119.119 0 010 .136c-.412.621-1.242 1.75-2.366 2.717C10.825 11.758 9.473 12.5 8 12.5c-1.473 0-2.824-.742-3.955-1.715C2.92 9.818 2.09 8.69 1.679 8.068a.119.119 0 010-.136zM8 2c-1.981 0-3.67.992-4.933 2.078C1.797 5.169.88 6.423.43 7.1a1.619 1.619 0 000 1.798c.45.678 1.367 1.932 2.637 3.024C4.329 13.008 6.019 14 8 14c1.981 0 3.67-.992 4.933-2.078 1.27-1.091 2.187-2.345 2.637-3.023a1.619 1.619 0 000-1.798c-.45-.678-1.367-1.932-2.637-3.023C11.671 2.992 9.981 2 8 2zm0 8a2 2 0 100-4 2 2 0 000 4z"></path></svg>
                  Watch
                </span>
              </div>
            </button>

            <button type="submit" name="do" value="release_only" class="select-menu-item width-full" aria-checked="false" role="menuitemradio">
              <svg class="octicon octicon-check select-menu-item-icon" height="16" viewBox="0 0 16 16" version="1.1" width="16" aria-hidden="true"><path fill-rule="evenodd" d="M13.78 4.22a.75.75 0 010 1.06l-7.25 7.25a.75.75 0 01-1.06 0L2.22 9.28a.75.75 0 011.06-1.06L6 10.94l6.72-6.72a.75.75 0 011.06 0z"></path></svg>
              <div class="select-menu-item-text">
                <span class="select-menu-item-heading">Releases only</span>
                <span class="description">Be notified of new releases, and when participating or @mentioned.</span>
                <span class="hidden-select-button-text" data-menu-button-contents>
                  <svg height="16" class="octicon octicon-eye" viewBox="0 0 16 16" version="1.1" width="16" aria-hidden="true"><path fill-rule="evenodd" d="M1.679 7.932c.412-.621 1.242-1.75 2.366-2.717C5.175 4.242 6.527 3.5 8 3.5c1.473 0 2.824.742 3.955 1.715 1.124.967 1.954 2.096 2.366 2.717a.119.119 0 010 .136c-.412.621-1.242 1.75-2.366 2.717C10.825 11.758 9.473 12.5 8 12.5c-1.473 0-2.824-.742-3.955-1.715C2.92 9.818 2.09 8.69 1.679 8.068a.119.119 0 010-.136zM8 2c-1.981 0-3.67.992-4.933 2.078C1.797 5.169.88 6.423.43 7.1a1.619 1.619 0 000 1.798c.45.678 1.367 1.932 2.637 3.024C4.329 13.008 6.019 14 8 14c1.981 0 3.67-.992 4.933-2.078 1.27-1.091 2.187-2.345 2.637-3.023a1.619 1.619 0 000-1.798c-.45-.678-1.367-1.932-2.637-3.023C11.671 2.992 9.981 2 8 2zm0 8a2 2 0 100-4 2 2 0 000 4z"></path></svg>
                  Unwatch releases
                </span>
              </div>
            </button>

            <button type="submit" name="do" value="subscribed" class="select-menu-item width-full" aria-checked="false" role="menuitemradio">
              <svg class="octicon octicon-check select-menu-item-icon" height="16" viewBox="0 0 16 16" version="1.1" width="16" aria-hidden="true"><path fill-rule="evenodd" d="M13.78 4.22a.75.75 0 010 1.06l-7.25 7.25a.75.75 0 01-1.06 0L2.22 9.28a.75.75 0 011.06-1.06L6 10.94l6.72-6.72a.75.75 0 011.06 0z"></path></svg>
              <div class="select-menu-item-text">
                <span class="select-menu-item-heading">Watching</span>
                <span class="description">Be notified of all conversations.</span>
                <span class="hidden-select-button-text" data-menu-button-contents>
                  <svg class="octicon octicon-eye v-align-text-bottom" height="16" viewBox="0 0 16 16" version="1.1" width="16" aria-hidden="true"><path fill-rule="evenodd" d="M1.679 7.932c.412-.621 1.242-1.75 2.366-2.717C5.175 4.242 6.527 3.5 8 3.5c1.473 0 2.824.742 3.955 1.715 1.124.967 1.954 2.096 2.366 2.717a.119.119 0 010 .136c-.412.621-1.242 1.75-2.366 2.717C10.825 11.758 9.473 12.5 8 12.5c-1.473 0-2.824-.742-3.955-1.715C2.92 9.818 2.09 8.69 1.679 8.068a.119.119 0 010-.136zM8 2c-1.981 0-3.67.992-4.933 2.078C1.797 5.169.88 6.423.43 7.1a1.619 1.619 0 000 1.798c.45.678 1.367 1.932 2.637 3.024C4.329 13.008 6.019 14 8 14c1.981 0 3.67-.992 4.933-2.078 1.27-1.091 2.187-2.345 2.637-3.023a1.619 1.619 0 000-1.798c-.45-.678-1.367-1.932-2.637-3.023C11.671 2.992 9.981 2 8 2zm0 8a2 2 0 100-4 2 2 0 000 4z"></path></svg>
                  Unwatch
                </span>
              </div>
            </button>

            <button type="submit" name="do" value="ignore" class="select-menu-item width-full" aria-checked="false" role="menuitemradio">
              <svg class="octicon octicon-check select-menu-item-icon" height="16" viewBox="0 0 16 16" version="1.1" width="16" aria-hidden="true"><path fill-rule="evenodd" d="M13.78 4.22a.75.75 0 010 1.06l-7.25 7.25a.75.75 0 01-1.06 0L2.22 9.28a.75.75 0 011.06-1.06L6 10.94l6.72-6.72a.75.75 0 011.06 0z"></path></svg>
              <div class="select-menu-item-text">
                <span class="select-menu-item-heading">Ignoring</span>
                <span class="description">Never be notified.</span>
                <span class="hidden-select-button-text" data-menu-button-contents>
                  <svg height="16" class="octicon octicon-bell-slash" viewBox="0 0 16 16" version="1.1" width="16" aria-hidden="true"><path fill-rule="evenodd" d="M8 1.5c-.997 0-1.895.416-2.534 1.086A.75.75 0 014.38 1.55 5 5 0 0113 5v2.373a.75.75 0 01-1.5 0V5A3.5 3.5 0 008 1.5zM4.182 4.31L1.19 2.143a.75.75 0 10-.88 1.214L3 5.305v2.642a.25.25 0 01-.042.139L1.255 10.64A1.518 1.518 0 002.518 13h11.108l1.184.857a.75.75 0 10.88-1.214l-1.375-.996a1.196 1.196 0 00-.013-.01L4.198 4.321a.733.733 0 00-.016-.011zm7.373 7.19L4.5 6.391v1.556c0 .346-.102.683-.294.97l-1.703 2.556a.018.018 0 00-.003.01.015.015 0 00.005.012.017.017 0 00.006.004l.007.001h9.037zM8 16a2 2 0 001.985-1.75c.017-.137-.097-.25-.235-.25h-3.5c-.138 0-.252.113-.235.25A2 2 0 008 16z"></path></svg>
                  Stop ignoring
                </span>
              </div>
            </button>
          </div>
        </details-menu>
      </details>
        <a class="social-count js-social-count"
          href="/Artshap/misc/watchers"
          aria-label="0 users are watching this repository">
          0
        </a>
</form>
  </li>

  <li>
        <div class="js-toggler-container js-social-container starring-container ">
    <form class="starred js-social-form" action="/Artshap/misc/unstar" accept-charset="UTF-8" method="post"><input type="hidden" name="authenticity_token" value="j0xO+eyIMJIc/TUwk6j402q3RRwOFejJKS5YRkjyL2/28dAt5Fxtls2MAFGoD+wADaFZJkdVnxKEyxtV9LkAWw==" />
      <input type="hidden" name="context" value="repository"></input>
      <button type="submit" class="btn btn-sm btn-with-count  js-toggler-target" aria-label="Unstar this repository" title="Unstar Artshap/misc" data-hydro-click="{&quot;event_type&quot;:&quot;repository.click&quot;,&quot;payload&quot;:{&quot;target&quot;:&quot;UNSTAR_BUTTON&quot;,&quot;repository_id&quot;:195329312,&quot;originating_url&quot;:&quot;https://github.com/Artshap/misc/blob/master/dcexample/example.ipynb&quot;,&quot;user_id&quot;:49969695}}" data-hydro-click-hmac="4e4acc043ab23fe0a442764d8b48a7036833f5dbc19bcf8fdfb91f14a181d748" data-ga-click="Repository, click unstar button, action:blob#show; text:Unstar">        <svg height="16" class="octicon octicon-star-fill" viewBox="0 0 16 16" version="1.1" width="16" aria-hidden="true"><path fill-rule="evenodd" d="M8 .25a.75.75 0 01.673.418l1.882 3.815 4.21.612a.75.75 0 01.416 1.279l-3.046 2.97.719 4.192a.75.75 0 01-1.088.791L8 12.347l-3.766 1.98a.75.75 0 01-1.088-.79l.72-4.194L.818 6.374a.75.75 0 01.416-1.28l4.21-.611L7.327.668A.75.75 0 018 .25z"></path></svg>
        Unstar
</button>        <a class="social-count js-social-count" href="/Artshap/misc/stargazers"
           aria-label="0 users starred this repository">
           0
        </a>
</form>
    <form class="unstarred js-social-form" action="/Artshap/misc/star" accept-charset="UTF-8" method="post"><input type="hidden" name="authenticity_token" value="9xjkoo5cokRFqrIa0LVzWcPZQ2zyioILHmvIWZF1x5jFLEOgKUX7wex2b339ynxgsinj3ux/rIQSFz/12KwJiw==" />
      <input type="hidden" name="context" value="repository"></input>
      <button type="submit" class="btn btn-sm btn-with-count  js-toggler-target" aria-label="Unstar this repository" title="Star Artshap/misc" data-hydro-click="{&quot;event_type&quot;:&quot;repository.click&quot;,&quot;payload&quot;:{&quot;target&quot;:&quot;STAR_BUTTON&quot;,&quot;repository_id&quot;:195329312,&quot;originating_url&quot;:&quot;https://github.com/Artshap/misc/blob/master/dcexample/example.ipynb&quot;,&quot;user_id&quot;:49969695}}" data-hydro-click-hmac="5fa5bec9c8b53f16175ebf478d7268c2ba7b69cd0dce142d28e789d29725c8dc" data-ga-click="Repository, click star button, action:blob#show; text:Star">        <svg height="16" class="octicon octicon-star" viewBox="0 0 16 16" version="1.1" width="16" aria-hidden="true"><path fill-rule="evenodd" d="M8 .25a.75.75 0 01.673.418l1.882 3.815 4.21.612a.75.75 0 01.416 1.279l-3.046 2.97.719 4.192a.75.75 0 01-1.088.791L8 12.347l-3.766 1.98a.75.75 0 01-1.088-.79l.72-4.194L.818 6.374a.75.75 0 01.416-1.28l4.21-.611L7.327.668A.75.75 0 018 .25zm0 2.445L6.615 5.5a.75.75 0 01-.564.41l-3.097.45 2.24 2.184a.75.75 0 01.216.664l-.528 3.084 2.769-1.456a.75.75 0 01.698 0l2.77 1.456-.53-3.084a.75.75 0 01.216-.664l2.24-2.183-3.096-.45a.75.75 0 01-.564-.41L8 2.694v.001z"></path></svg>
        Star
</button>        <a class="social-count js-social-count" href="/Artshap/misc/stargazers"
           aria-label="0 users starred this repository">
          0
        </a>
</form>  </div>

  </li>

  <li>
          <span class="btn btn-sm btn-with-count disabled tooltipped tooltipped-sw" aria-label="Cannot fork because you own this repository and are not a member of any organizations.">
            <svg class="octicon octicon-repo-forked" viewBox="0 0 16 16" version="1.1" width="16" height="16" aria-hidden="true"><path fill-rule="evenodd" d="M5 3.25a.75.75 0 11-1.5 0 .75.75 0 011.5 0zm0 2.122a2.25 2.25 0 10-1.5 0v.878A2.25 2.25 0 005.75 8.5h1.5v2.128a2.251 2.251 0 101.5 0V8.5h1.5a2.25 2.25 0 002.25-2.25v-.878a2.25 2.25 0 10-1.5 0v.878a.75.75 0 01-.75.75h-4.5A.75.75 0 015 6.25v-.878zm3.75 7.378a.75.75 0 11-1.5 0 .75.75 0 011.5 0zm3-8.75a.75.75 0 100-1.5.75.75 0 000 1.5z"></path></svg>
            Fork
</span>
      <a href="/Artshap/misc/network/members" class="social-count"
         aria-label="0 users forked this repository">
        0
      </a>
  </li>
</ul>

      </div>
        
<nav aria-label="Repository" data-pjax="#js-repo-pjax-container" class="js-repo-nav js-sidenav-container-pjax js-responsive-underlinenav overflow-hidden UnderlineNav px-3 px-md-4 px-lg-5 bg-gray-light">
  <ul class="UnderlineNav-body list-style-none ">
          <li class="d-flex">
        <a class="js-selected-navigation-item selected UnderlineNav-item hx_underlinenav-item no-wrap js-responsive-underlinenav-item" data-tab-item="code-tab" data-hotkey="g c" data-ga-click="Repository, Navigation click, Code tab" aria-current="page" data-selected-links="repo_source repo_downloads repo_commits repo_releases repo_tags repo_branches repo_packages repo_deployments /Artshap/misc" href="/Artshap/misc">
              <svg classes="UnderlineNav-octicon" display="none inline" height="16" class="octicon octicon-code UnderlineNav-octicon d-none d-sm-inline" viewBox="0 0 16 16" version="1.1" width="16" aria-hidden="true"><path fill-rule="evenodd" d="M4.72 3.22a.75.75 0 011.06 1.06L2.06 8l3.72 3.72a.75.75 0 11-1.06 1.06L.47 8.53a.75.75 0 010-1.06l4.25-4.25zm6.56 0a.75.75 0 10-1.06 1.06L13.94 8l-3.72 3.72a.75.75 0 101.06 1.06l4.25-4.25a.75.75 0 000-1.06l-4.25-4.25z"></path></svg>
            <span data-content="Code">Code</span>
              <span title="Not available" class="Counter "></span>
</a>      </li>
      <li class="d-flex">
        <a class="js-selected-navigation-item UnderlineNav-item hx_underlinenav-item no-wrap js-responsive-underlinenav-item" data-tab-item="issues-tab" data-hotkey="g i" data-ga-click="Repository, Navigation click, Issues tab" data-selected-links="repo_issues repo_labels repo_milestones /Artshap/misc/issues" href="/Artshap/misc/issues">
              <svg classes="UnderlineNav-octicon" display="none inline" height="16" class="octicon octicon-issue-opened UnderlineNav-octicon d-none d-sm-inline" viewBox="0 0 16 16" version="1.1" width="16" aria-hidden="true"><path fill-rule="evenodd" d="M8 1.5a6.5 6.5 0 100 13 6.5 6.5 0 000-13zM0 8a8 8 0 1116 0A8 8 0 010 8zm9 3a1 1 0 11-2 0 1 1 0 012 0zm-.25-6.25a.75.75 0 00-1.5 0v3.5a.75.75 0 001.5 0v-3.5z"></path></svg>
            <span data-content="Issues">Issues</span>
              <span title="0" hidden="hidden" class="Counter ">0</span>
</a>      </li>
      <li class="d-flex">
        <a class="js-selected-navigation-item UnderlineNav-item hx_underlinenav-item no-wrap js-responsive-underlinenav-item" data-tab-item="pull-requests-tab" data-hotkey="g p" data-ga-click="Repository, Navigation click, Pull requests tab" data-selected-links="repo_pulls checks /Artshap/misc/pulls" href="/Artshap/misc/pulls">
              <svg classes="UnderlineNav-octicon" display="none inline" height="16" class="octicon octicon-git-pull-request UnderlineNav-octicon d-none d-sm-inline" viewBox="0 0 16 16" version="1.1" width="16" aria-hidden="true"><path fill-rule="evenodd" d="M7.177 3.073L9.573.677A.25.25 0 0110 .854v4.792a.25.25 0 01-.427.177L7.177 3.427a.25.25 0 010-.354zM3.75 2.5a.75.75 0 100 1.5.75.75 0 000-1.5zm-2.25.75a2.25 2.25 0 113 2.122v5.256a2.251 2.251 0 11-1.5 0V5.372A2.25 2.25 0 011.5 3.25zM11 2.5h-1V4h1a1 1 0 011 1v5.628a2.251 2.251 0 101.5 0V5A2.5 2.5 0 0011 2.5zm1 10.25a.75.75 0 111.5 0 .75.75 0 01-1.5 0zM3.75 12a.75.75 0 100 1.5.75.75 0 000-1.5z"></path></svg>
            <span data-content="Pull requests">Pull requests</span>
              <span title="0" hidden="hidden" class="Counter ">0</span>
</a>      </li>
      <li class="d-flex">
        <a class="js-selected-navigation-item UnderlineNav-item hx_underlinenav-item no-wrap js-responsive-underlinenav-item" data-tab-item="actions-tab" data-hotkey="g a" data-ga-click="Repository, Navigation click, Actions tab" data-selected-links="repo_actions /Artshap/misc/actions" href="/Artshap/misc/actions">
              <svg classes="UnderlineNav-octicon" display="none inline" height="16" class="octicon octicon-play UnderlineNav-octicon d-none d-sm-inline" viewBox="0 0 16 16" version="1.1" width="16" aria-hidden="true"><path fill-rule="evenodd" d="M1.5 8a6.5 6.5 0 1113 0 6.5 6.5 0 01-13 0zM8 0a8 8 0 100 16A8 8 0 008 0zM6.379 5.227A.25.25 0 006 5.442v5.117a.25.25 0 00.379.214l4.264-2.559a.25.25 0 000-.428L6.379 5.227z"></path></svg>
            <span data-content="Actions">Actions</span>
              <span title="Not available" class="Counter "></span>
</a>      </li>
      <li class="d-flex">
        <a class="js-selected-navigation-item UnderlineNav-item hx_underlinenav-item no-wrap js-responsive-underlinenav-item" data-tab-item="projects-tab" data-hotkey="g b" data-ga-click="Repository, Navigation click, Projects tab" data-selected-links="repo_projects new_repo_project repo_project /Artshap/misc/projects" href="/Artshap/misc/projects">
              <svg classes="UnderlineNav-octicon" display="none inline" height="16" class="octicon octicon-project UnderlineNav-octicon d-none d-sm-inline" viewBox="0 0 16 16" version="1.1" width="16" aria-hidden="true"><path fill-rule="evenodd" d="M1.75 0A1.75 1.75 0 000 1.75v12.5C0 15.216.784 16 1.75 16h12.5A1.75 1.75 0 0016 14.25V1.75A1.75 1.75 0 0014.25 0H1.75zM1.5 1.75a.25.25 0 01.25-.25h12.5a.25.25 0 01.25.25v12.5a.25.25 0 01-.25.25H1.75a.25.25 0 01-.25-.25V1.75zM11.75 3a.75.75 0 00-.75.75v7.5a.75.75 0 001.5 0v-7.5a.75.75 0 00-.75-.75zm-8.25.75a.75.75 0 011.5 0v5.5a.75.75 0 01-1.5 0v-5.5zM8 3a.75.75 0 00-.75.75v3.5a.75.75 0 001.5 0v-3.5A.75.75 0 008 3z"></path></svg>
            <span data-content="Projects">Projects</span>
              <span title="0" hidden="hidden" class="Counter ">0</span>
</a>      </li>
      <li class="d-flex">
        <a class="js-selected-navigation-item UnderlineNav-item hx_underlinenav-item no-wrap js-responsive-underlinenav-item" data-tab-item="wiki-tab" data-hotkey="g w" data-ga-click="Repository, Navigation click, Wikis tab" data-selected-links="repo_wiki /Artshap/misc/wiki" href="/Artshap/misc/wiki">
              <svg classes="UnderlineNav-octicon" display="none inline" height="16" class="octicon octicon-book UnderlineNav-octicon d-none d-sm-inline" viewBox="0 0 16 16" version="1.1" width="16" aria-hidden="true"><path fill-rule="evenodd" d="M0 1.75A.75.75 0 01.75 1h4.253c1.227 0 2.317.59 3 1.501A3.744 3.744 0 0111.006 1h4.245a.75.75 0 01.75.75v10.5a.75.75 0 01-.75.75h-4.507a2.25 2.25 0 00-1.591.659l-.622.621a.75.75 0 01-1.06 0l-.622-.621A2.25 2.25 0 005.258 13H.75a.75.75 0 01-.75-.75V1.75zm8.755 3a2.25 2.25 0 012.25-2.25H14.5v9h-3.757c-.71 0-1.4.201-1.992.572l.004-7.322zm-1.504 7.324l.004-5.073-.002-2.253A2.25 2.25 0 005.003 2.5H1.5v9h3.757a3.75 3.75 0 011.994.574z"></path></svg>
            <span data-content="Wiki">Wiki</span>
              <span title="Not available" class="Counter "></span>
</a>      </li>
      <li class="d-flex">
        <a class="js-selected-navigation-item UnderlineNav-item hx_underlinenav-item no-wrap js-responsive-underlinenav-item" data-tab-item="security-tab" data-hotkey="g s" data-ga-click="Repository, Navigation click, Security tab" data-selected-links="security overview alerts policy token_scanning code_scanning /Artshap/misc/security" href="/Artshap/misc/security">
              <svg classes="UnderlineNav-octicon" display="none inline" height="16" class="octicon octicon-shield UnderlineNav-octicon d-none d-sm-inline" viewBox="0 0 16 16" version="1.1" width="16" aria-hidden="true"><path fill-rule="evenodd" d="M7.467.133a1.75 1.75 0 011.066 0l5.25 1.68A1.75 1.75 0 0115 3.48V7c0 1.566-.32 3.182-1.303 4.682-.983 1.498-2.585 2.813-5.032 3.855a1.7 1.7 0 01-1.33 0c-2.447-1.042-4.049-2.357-5.032-3.855C1.32 10.182 1 8.566 1 7V3.48a1.75 1.75 0 011.217-1.667l5.25-1.68zm.61 1.429a.25.25 0 00-.153 0l-5.25 1.68a.25.25 0 00-.174.238V7c0 1.358.275 2.666 1.057 3.86.784 1.194 2.121 2.34 4.366 3.297a.2.2 0 00.154 0c2.245-.956 3.582-2.104 4.366-3.298C13.225 9.666 13.5 8.36 13.5 7V3.48a.25.25 0 00-.174-.237l-5.25-1.68zM9 10.5a1 1 0 11-2 0 1 1 0 012 0zm-.25-5.75a.75.75 0 10-1.5 0v3a.75.75 0 001.5 0v-3z"></path></svg>
            <span data-content="Security">Security</span>
              <include-fragment src="/Artshap/misc/security/overall-count" accept="text/fragment+html"></include-fragment>
</a>      </li>
      <li class="d-flex">
        <a class="js-selected-navigation-item UnderlineNav-item hx_underlinenav-item no-wrap js-responsive-underlinenav-item" data-tab-item="insights-tab" data-ga-click="Repository, Navigation click, Insights tab" data-selected-links="repo_graphs repo_contributors dependency_graph dependabot_updates pulse people /Artshap/misc/pulse" href="/Artshap/misc/pulse">
              <svg classes="UnderlineNav-octicon" display="none inline" height="16" class="octicon octicon-graph UnderlineNav-octicon d-none d-sm-inline" viewBox="0 0 16 16" version="1.1" width="16" aria-hidden="true"><path fill-rule="evenodd" d="M1.5 1.75a.75.75 0 00-1.5 0v12.5c0 .414.336.75.75.75h14.5a.75.75 0 000-1.5H1.5V1.75zm14.28 2.53a.75.75 0 00-1.06-1.06L10 7.94 7.53 5.47a.75.75 0 00-1.06 0L3.22 8.72a.75.75 0 001.06 1.06L7 7.06l2.47 2.47a.75.75 0 001.06 0l5.25-5.25z"></path></svg>
            <span data-content="Insights">Insights</span>
              <span title="Not available" class="Counter "></span>
</a>      </li>
      <li class="d-flex">
        <a class="js-selected-navigation-item UnderlineNav-item hx_underlinenav-item no-wrap js-responsive-underlinenav-item" data-tab-item="settings-tab" data-ga-click="Repository, Navigation click, Settings tab" data-selected-links="repo_settings repo_branch_settings hooks integration_installations repo_keys_settings issue_template_editor secrets_settings key_links_settings repo_actions_settings notifications /Artshap/misc/settings" href="/Artshap/misc/settings">
              <svg classes="UnderlineNav-octicon" display="none inline" height="16" class="octicon octicon-gear UnderlineNav-octicon d-none d-sm-inline" viewBox="0 0 16 16" version="1.1" width="16" aria-hidden="true"><path fill-rule="evenodd" d="M7.429 1.525a6.593 6.593 0 011.142 0c.036.003.108.036.137.146l.289 1.105c.147.56.55.967.997 1.189.174.086.341.183.501.29.417.278.97.423 1.53.27l1.102-.303c.11-.03.175.016.195.046.219.31.41.641.573.989.014.031.022.11-.059.19l-.815.806c-.411.406-.562.957-.53 1.456a4.588 4.588 0 010 .582c-.032.499.119 1.05.53 1.456l.815.806c.08.08.073.159.059.19a6.494 6.494 0 01-.573.99c-.02.029-.086.074-.195.045l-1.103-.303c-.559-.153-1.112-.008-1.529.27-.16.107-.327.204-.5.29-.449.222-.851.628-.998 1.189l-.289 1.105c-.029.11-.101.143-.137.146a6.613 6.613 0 01-1.142 0c-.036-.003-.108-.037-.137-.146l-.289-1.105c-.147-.56-.55-.967-.997-1.189a4.502 4.502 0 01-.501-.29c-.417-.278-.97-.423-1.53-.27l-1.102.303c-.11.03-.175-.016-.195-.046a6.492 6.492 0 01-.573-.989c-.014-.031-.022-.11.059-.19l.815-.806c.411-.406.562-.957.53-1.456a4.587 4.587 0 010-.582c.032-.499-.119-1.05-.53-1.456l-.815-.806c-.08-.08-.073-.159-.059-.19a6.44 6.44 0 01.573-.99c.02-.029.086-.075.195-.045l1.103.303c.559.153 1.112.008 1.529-.27.16-.107.327-.204.5-.29.449-.222.851-.628.998-1.189l.289-1.105c.029-.11.101-.143.137-.146zM8 0c-.236 0-.47.01-.701.03-.743.065-1.29.615-1.458 1.261l-.29 1.106c-.017.066-.078.158-.211.224a5.994 5.994 0 00-.668.386c-.123.082-.233.09-.3.071L3.27 2.776c-.644-.177-1.392.02-1.82.63a7.977 7.977 0 00-.704 1.217c-.315.675-.111 1.422.363 1.891l.815.806c.05.048.098.147.088.294a6.084 6.084 0 000 .772c.01.147-.038.246-.088.294l-.815.806c-.474.469-.678 1.216-.363 1.891.2.428.436.835.704 1.218.428.609 1.176.806 1.82.63l1.103-.303c.066-.019.176-.011.299.071.213.143.436.272.668.386.133.066.194.158.212.224l.289 1.106c.169.646.715 1.196 1.458 1.26a8.094 8.094 0 001.402 0c.743-.064 1.29-.614 1.458-1.26l.29-1.106c.017-.066.078-.158.211-.224a5.98 5.98 0 00.668-.386c.123-.082.233-.09.3-.071l1.102.302c.644.177 1.392-.02 1.82-.63.268-.382.505-.789.704-1.217.315-.675.111-1.422-.364-1.891l-.814-.806c-.05-.048-.098-.147-.088-.294a6.1 6.1 0 000-.772c-.01-.147.039-.246.088-.294l.814-.806c.475-.469.679-1.216.364-1.891a7.992 7.992 0 00-.704-1.218c-.428-.609-1.176-.806-1.82-.63l-1.103.303c-.066.019-.176.011-.299-.071a5.991 5.991 0 00-.668-.386c-.133-.066-.194-.158-.212-.224L10.16 1.29C9.99.645 9.444.095 8.701.031A8.094 8.094 0 008 0zm1.5 8a1.5 1.5 0 11-3 0 1.5 1.5 0 013 0zM11 8a3 3 0 11-6 0 3 3 0 016 0z"></path></svg>
            <span data-content="Settings">Settings</span>
              <span title="Not available" class="Counter "></span>
</a>      </li>

</ul>        <div class="position-absolute right-0 pr-3 pr-md-4 pr-lg-5 js-responsive-underlinenav-overflow" style="visibility:hidden;">
      <details class="details-overlay details-reset position-relative">
  <summary role="button">
    <div class="UnderlineNav-item mr-0 border-0">
            <svg class="octicon octicon-kebab-horizontal" viewBox="0 0 16 16" version="1.1" width="16" height="16" aria-hidden="true"><path d="M8 9a1.5 1.5 0 100-3 1.5 1.5 0 000 3zM1.5 9a1.5 1.5 0 100-3 1.5 1.5 0 000 3zm13 0a1.5 1.5 0 100-3 1.5 1.5 0 000 3z"></path></svg>
            <span class="sr-only">More</span>
          </div>
</summary>  <div>
    <details-menu role="menu" class="dropdown-menu dropdown-menu-sw ">
  
            <ul>
                <li data-menu-item="code-tab" hidden>
                  <a role="menuitem" class="js-selected-navigation-item dropdown-item" data-selected-links=" /Artshap/misc" href="/Artshap/misc">
                    Code
</a>                </li>
                <li data-menu-item="issues-tab" hidden>
                  <a role="menuitem" class="js-selected-navigation-item dropdown-item" data-selected-links=" /Artshap/misc/issues" href="/Artshap/misc/issues">
                    Issues
</a>                </li>
                <li data-menu-item="pull-requests-tab" hidden>
                  <a role="menuitem" class="js-selected-navigation-item dropdown-item" data-selected-links=" /Artshap/misc/pulls" href="/Artshap/misc/pulls">
                    Pull requests
</a>                </li>
                <li data-menu-item="actions-tab" hidden>
                  <a role="menuitem" class="js-selected-navigation-item dropdown-item" data-selected-links=" /Artshap/misc/actions" href="/Artshap/misc/actions">
                    Actions
</a>                </li>
                <li data-menu-item="projects-tab" hidden>
                  <a role="menuitem" class="js-selected-navigation-item dropdown-item" data-selected-links=" /Artshap/misc/projects" href="/Artshap/misc/projects">
                    Projects
</a>                </li>
                <li data-menu-item="wiki-tab" hidden>
                  <a role="menuitem" class="js-selected-navigation-item dropdown-item" data-selected-links=" /Artshap/misc/wiki" href="/Artshap/misc/wiki">
                    Wiki
</a>                </li>
                <li data-menu-item="security-tab" hidden>
                  <a role="menuitem" class="js-selected-navigation-item dropdown-item" data-selected-links=" /Artshap/misc/security" href="/Artshap/misc/security">
                    Security
</a>                </li>
                <li data-menu-item="insights-tab" hidden>
                  <a role="menuitem" class="js-selected-navigation-item dropdown-item" data-selected-links=" /Artshap/misc/pulse" href="/Artshap/misc/pulse">
                    Insights
</a>                </li>
                <li data-menu-item="settings-tab" hidden>
                  <a role="menuitem" class="js-selected-navigation-item dropdown-item" data-selected-links=" /Artshap/misc/settings" href="/Artshap/misc/settings">
                    Settings
</a>                </li>
            </ul>

</details-menu>
</div></details>    </div>

</nav>
  </div>

<div class="container-xl clearfix new-discussion-timeline  px-3 px-md-4 px-lg-5">
  <div class="repository-content " >

    
      
  


    <a class="d-none js-permalink-shortcut" data-hotkey="y" href="/Artshap/misc/blob/22c46d8d51bc7ede96802e77308cbeea0b7ae7ac/dcexample/example.ipynb">Permalink</a>

    <!-- blob contrib key: blob_contributors:v22:cdb73590e98b0247e44dfcf7bed1761202afd46debc961b738e317c683671c0b -->
    

    <div class="d-flex flex-items-start flex-shrink-0 pb-3 flex-wrap flex-md-nowrap flex-justify-between flex-md-justify-start">
      
<div class="position-relative">
  <details class="details-reset details-overlay mr-0 mb-0 " id="branch-select-menu">
    <summary class="btn css-truncate"
            data-hotkey="w"
            title="Switch branches or tags">
      <svg text="gray" height="16" class="octicon octicon-git-branch text-gray" viewBox="0 0 16 16" version="1.1" width="16" aria-hidden="true"><path fill-rule="evenodd" d="M11.75 2.5a.75.75 0 100 1.5.75.75 0 000-1.5zm-2.25.75a2.25 2.25 0 113 2.122V6A2.5 2.5 0 0110 8.5H6a1 1 0 00-1 1v1.128a2.251 2.251 0 11-1.5 0V5.372a2.25 2.25 0 111.5 0v1.836A2.492 2.492 0 016 7h4a1 1 0 001-1v-.628A2.25 2.25 0 019.5 3.25zM4.25 12a.75.75 0 100 1.5.75.75 0 000-1.5zM3.5 3.25a.75.75 0 111.5 0 .75.75 0 01-1.5 0z"></path></svg>
      <span class="css-truncate-target" data-menu-button>master</span>
      <span class="dropdown-caret"></span>
    </summary>

    <details-menu class="SelectMenu SelectMenu--hasFilter" src="/Artshap/misc/refs/master/dcexample/example.ipynb?source_action=show&amp;source_controller=blob" preload>
      <div class="SelectMenu-modal">
        <include-fragment class="SelectMenu-loading" aria-label="Menu is loading">
          <svg class="octicon octicon-octoface anim-pulse" height="32" viewBox="0 0 24 24" version="1.1" width="32" aria-hidden="true"><path d="M7.75 11c-.69 0-1.25.56-1.25 1.25v1.5a1.25 1.25 0 102.5 0v-1.5C9 11.56 8.44 11 7.75 11zm1.27 4.5a.469.469 0 01.48-.5h5a.47.47 0 01.48.5c-.116 1.316-.759 2.5-2.98 2.5s-2.864-1.184-2.98-2.5zm7.23-4.5c-.69 0-1.25.56-1.25 1.25v1.5a1.25 1.25 0 102.5 0v-1.5c0-.69-.56-1.25-1.25-1.25z"></path><path fill-rule="evenodd" d="M21.255 3.82a1.725 1.725 0 00-2.141-1.195c-.557.16-1.406.44-2.264.866-.78.386-1.647.93-2.293 1.677A18.442 18.442 0 0012 5c-.93 0-1.784.059-2.569.17-.645-.74-1.505-1.28-2.28-1.664a13.876 13.876 0 00-2.265-.866 1.725 1.725 0 00-2.141 1.196 23.645 23.645 0 00-.69 3.292c-.125.97-.191 2.07-.066 3.112C1.254 11.882 1 13.734 1 15.527 1 19.915 3.13 23 12 23c8.87 0 11-3.053 11-7.473 0-1.794-.255-3.647-.99-5.29.127-1.046.06-2.15-.066-3.125a23.652 23.652 0 00-.689-3.292zM20.5 14c.5 3.5-1.5 6.5-8.5 6.5s-9-3-8.5-6.5c.583-4 3-6 8.5-6s7.928 2 8.5 6z"></path></svg>
        </include-fragment>
      </div>
    </details-menu>
  </details>

</div>

      <h2 id="blob-path" class="breadcrumb flex-auto min-width-0 text-normal mx-0 mx-md-3 width-full width-md-auto flex-order-1 flex-md-order-none mt-3 mt-md-0">
        <span class="js-repo-root text-bold"><span class="js-path-segment d-inline-block wb-break-all"><a data-pjax="true" href="/Artshap/misc"><span>misc</span></a></span></span><span class="separator">/</span><span class="js-path-segment d-inline-block wb-break-all"><a data-pjax="true" href="/Artshap/misc/tree/master/dcexample"><span>dcexample</span></a></span><span class="separator">/</span><strong class="final-path">example.ipynb</strong>
      </h2>
      <a href="/Artshap/misc/find/master"
            class="js-pjax-capture-input btn mr-2 d-none d-md-block"
            data-pjax
            data-hotkey="t">
        Go to file
      </a>

      <details id="blob-more-options-details" class="details-overlay details-reset position-relative">
  <summary role="button">
    <svg aria-label="More options" height="16" class="octicon octicon-kebab-horizontal" viewBox="0 0 16 16" version="1.1" width="16" role="img"><path d="M8 9a1.5 1.5 0 100-3 1.5 1.5 0 000 3zM1.5 9a1.5 1.5 0 100-3 1.5 1.5 0 000 3zm13 0a1.5 1.5 0 100-3 1.5 1.5 0 000 3z"></path></svg>
</summary>  <div>
    <ul class="dropdown-menu dropdown-menu-sw">
            <li class="d-block d-md-none">
              <a class="dropdown-item d-flex flex-items-baseline" data-hydro-click="{&quot;event_type&quot;:&quot;repository.click&quot;,&quot;payload&quot;:{&quot;target&quot;:&quot;FIND_FILE_BUTTON&quot;,&quot;repository_id&quot;:195329312,&quot;originating_url&quot;:&quot;https://github.com/Artshap/misc/blob/master/dcexample/example.ipynb&quot;,&quot;user_id&quot;:49969695}}" data-hydro-click-hmac="520d66bfd88f601582187e4476371888998488bdc42d7b156fe9b8b30d1e3659" data-ga-click="Repository, find file, location:repo overview" data-hotkey="t" data-pjax="true" href="/Artshap/misc/find/master">
                <span class="flex-auto">Go to file</span>
                <span class="text-small text-gray" aria-hidden="true">T</span>
</a>            </li>
            <li data-toggle-for="blob-more-options-details">
              <button type="button" data-toggle-for="jumpto-line-details-dialog" class="btn-link dropdown-item">
                <span class="d-flex flex-items-baseline">
                  <span class="flex-auto">Go to line</span>
                  <span class="text-small text-gray" aria-hidden="true">L</span>
                </span>
              </button>
            </li>
            <li class="dropdown-divider" role="none"></li>
            <li>
              <clipboard-copy value="dcexample/example.ipynb" class="dropdown-item cursor-pointer" data-toggle-for="blob-more-options-details">
                Copy path
              </clipboard-copy>
            </li>
          </ul>
</div></details>    </div>



    <div class="Box d-flex flex-column flex-shrink-0 mb-3">
      
  <div class="Box-header Box-header--blue Details js-details-container">
      <div class="d-flex flex-items-center">
        <span class="flex-shrink-0 ml-n1 mr-n1 mt-n1 mb-n1">
          <a rel="author" data-skip-pjax="true" data-hovercard-type="user" data-hovercard-url="/users/Artshap/hovercard" data-octo-click="hovercard-link-click" data-octo-dimensions="link_type:self" href="/Artshap"><img class="avatar avatar-user" src="https://avatars1.githubusercontent.com/u/49969695?s=48&amp;v=4" width="24" height="24" alt="@Artshap" /></a>
        </span>
        <div class="flex-1 d-flex flex-items-center ml-3 min-width-0">
          <div class="css-truncate css-truncate-overflow">
            <a class="text-bold link-gray-dark" rel="author" data-hovercard-type="user" data-hovercard-url="/users/Artshap/hovercard" data-octo-click="hovercard-link-click" data-octo-dimensions="link_type:self" href="/Artshap">Artshap</a>

              <span>
                <a data-pjax="true" title="Revert &quot;Revert &quot;updating example&quot;&quot;

This reverts commit 218d1d57647ac9e820175e62d47154a01df4e137." class="link-gray" href="/Artshap/misc/commit/22c46d8d51bc7ede96802e77308cbeea0b7ae7ac">Revert "Revert "updating example""</a>
              </span>
          </div>

            <span class="hidden-text-expander ml-1 flex-shrink-0">
              <button type="button" class="ellipsis-expander js-details-target" aria-expanded="false">&hellip;</button>
            </span>

          <span class="ml-2">
            <include-fragment accept="text/fragment+html" src="/Artshap/misc/commit/22c46d8d51bc7ede96802e77308cbeea0b7ae7ac/rollup?direction=e" class="d-inline"></include-fragment>
          </span>
        </div>
        <div class="ml-3 d-flex flex-shrink-0 flex-items-center flex-justify-end text-gray no-wrap">
          <span class="d-none d-md-inline">
            <span>Latest commit</span>
            <a class="text-small text-mono link-gray" href="/Artshap/misc/commit/22c46d8d51bc7ede96802e77308cbeea0b7ae7ac" data-pjax>22c46d8</a>
            <span itemprop="dateModified"><relative-time datetime="2020-09-22T07:11:30Z" class="no-wrap">Sep 22, 2020</relative-time></span>
          </span>

          <a data-pjax href="/Artshap/misc/commits/master/dcexample/example.ipynb" class="ml-3 no-wrap link-gray-dark no-underline">
            <svg text="gray" height="16" class="octicon octicon-history text-gray" viewBox="0 0 16 16" version="1.1" width="16" aria-hidden="true"><path fill-rule="evenodd" d="M1.643 3.143L.427 1.927A.25.25 0 000 2.104V5.75c0 .138.112.25.25.25h3.646a.25.25 0 00.177-.427L2.715 4.215a6.5 6.5 0 11-1.18 4.458.75.75 0 10-1.493.154 8.001 8.001 0 101.6-5.684zM7.75 4a.75.75 0 01.75.75v2.992l2.028.812a.75.75 0 01-.557 1.392l-2.5-1A.75.75 0 017 8.25v-3.5A.75.75 0 017.75 4z"></path></svg>
            <span class="d-none d-sm-inline">
              <strong>History</strong>
            </span>
          </a>
        </div>
      </div>
        <div class="Details-content--hidden ml-5 mt-2"><pre class="mt-2 f6 ws-pre-wrap">This reverts commit <a class="commit-link" data-hovercard-type="commit" data-hovercard-url="https://github.com/Artshap/misc/commit/218d1d57647ac9e820175e62d47154a01df4e137/hovercard" href="https://github.com/Artshap/misc/commit/218d1d57647ac9e820175e62d47154a01df4e137"><tt>218d1d5</tt></a>.</pre></div>

  </div>

  <div class="Box-body d-flex flex-items-center flex-auto border-bottom-0 flex-wrap" >
    <details class="details-reset details-overlay details-overlay-dark lh-default text-gray-dark float-left mr-3" id="blob_contributors_box">
      <summary class="link-gray-dark">
        <svg text="gray" height="16" class="octicon octicon-people text-gray" viewBox="0 0 16 16" version="1.1" width="16" aria-hidden="true"><path fill-rule="evenodd" d="M5.5 3.5a2 2 0 100 4 2 2 0 000-4zM2 5.5a3.5 3.5 0 115.898 2.549 5.507 5.507 0 013.034 4.084.75.75 0 11-1.482.235 4.001 4.001 0 00-7.9 0 .75.75 0 01-1.482-.236A5.507 5.507 0 013.102 8.05 3.49 3.49 0 012 5.5zM11 4a.75.75 0 100 1.5 1.5 1.5 0 01.666 2.844.75.75 0 00-.416.672v.352a.75.75 0 00.574.73c1.2.289 2.162 1.2 2.522 2.372a.75.75 0 101.434-.44 5.01 5.01 0 00-2.56-3.012A3 3 0 0011 4z"></path></svg>
        <strong>1</strong>
        
        contributor
      </summary>
      <details-dialog
        class="Box Box--overlay d-flex flex-column anim-fade-in fast"
        aria-label="Users who have contributed to this file"
        src="/Artshap/misc/contributors-list/master/dcexample/example.ipynb" preload>
        <div class="Box-header">
          <button class="Box-btn-octicon btn-octicon float-right" type="button" aria-label="Close dialog" data-close-dialog>
            <svg class="octicon octicon-x" viewBox="0 0 16 16" version="1.1" width="16" height="16" aria-hidden="true"><path fill-rule="evenodd" d="M3.72 3.72a.75.75 0 011.06 0L8 6.94l3.22-3.22a.75.75 0 111.06 1.06L9.06 8l3.22 3.22a.75.75 0 11-1.06 1.06L8 9.06l-3.22 3.22a.75.75 0 01-1.06-1.06L6.94 8 3.72 4.78a.75.75 0 010-1.06z"></path></svg>
          </button>
          <h3 class="Box-title">
            Users who have contributed to this file
          </h3>
        </div>
        <include-fragment class="octocat-spinner my-3" aria-label="Loading..."></include-fragment>
      </details-dialog>
    </details>
  </div>
    </div>






    <div class="Box mt-3 position-relative
      ">
      
<div class="Box-header py-2 d-flex flex-column flex-shrink-0 flex-md-row flex-md-items-center">
  <div class="text-mono f6 flex-auto pr-3 flex-order-2 flex-md-order-1 mt-2 mt-md-0">

      1011 lines (1011 sloc)
      <span class="file-info-divider"></span>
    77.6 KB
  </div>

  <div class="d-flex py-1 py-md-0 flex-auto flex-order-1 flex-md-order-2 flex-sm-grow-0 flex-justify-between">
      <div class="BtnGroup">
        <a class="btn btn-sm BtnGroup-item tooltipped tooltipped tooltipped-n source "
          href="/Artshap/misc/blob/master/dcexample/example.ipynb?short_path=5ddb13b" aria-label="Display the source blob">
          <svg class="octicon octicon-code" viewBox="0 0 16 16" version="1.1" width="16" height="16" aria-hidden="true"><path fill-rule="evenodd" d="M4.72 3.22a.75.75 0 011.06 1.06L2.06 8l3.72 3.72a.75.75 0 11-1.06 1.06L.47 8.53a.75.75 0 010-1.06l4.25-4.25zm6.56 0a.75.75 0 10-1.06 1.06L13.94 8l-3.72 3.72a.75.75 0 101.06 1.06l4.25-4.25a.75.75 0 000-1.06l-4.25-4.25z"></path></svg>
        </a>
        <a class="btn btn-sm BtnGroup-item tooltipped tooltipped-n rendered selected"
          href="/Artshap/misc/blob/master/dcexample/example.ipynb" aria-label="Display the rendered blob">
          <svg class="octicon octicon-file" viewBox="0 0 16 16" version="1.1" width="16" height="16" aria-hidden="true"><path fill-rule="evenodd" d="M3.75 1.5a.25.25 0 00-.25.25v11.5c0 .138.112.25.25.25h8.5a.25.25 0 00.25-.25V6H9.75A1.75 1.75 0 018 4.25V1.5H3.75zm5.75.56v2.19c0 .138.112.25.25.25h2.19L9.5 2.06zM2 1.75C2 .784 2.784 0 3.75 0h5.086c.464 0 .909.184 1.237.513l3.414 3.414c.329.328.513.773.513 1.237v8.086A1.75 1.75 0 0112.25 15h-8.5A1.75 1.75 0 012 13.25V1.75z"></path></svg>
        </a>
      </div>

    <div class="BtnGroup">
      <a href="/Artshap/misc/raw/master/dcexample/example.ipynb" id="raw-url" role="button" class="btn btn-sm BtnGroup-item ">Raw</a>
        <a href="/Artshap/misc/blame/master/dcexample/example.ipynb" data-hotkey="b" role="button" class="btn js-update-url-with-hash btn-sm BtnGroup-item ">Blame</a>
    </div>

    <div>
          <a class="btn-octicon tooltipped tooltipped-nw js-remove-unless-platform"
             data-platforms="windows,mac"
             href="x-github-client://openRepo/https://github.com/Artshap/misc?branch=master&amp;filepath=dcexample%2Fexample.ipynb"
             aria-label="Open this file in GitHub Desktop"
             data-ga-click="Repository, open with desktop">
              <svg class="octicon octicon-device-desktop" viewBox="0 0 16 16" version="1.1" width="16" height="16" aria-hidden="true"><path fill-rule="evenodd" d="M1.75 2.5h12.5a.25.25 0 01.25.25v7.5a.25.25 0 01-.25.25H1.75a.25.25 0 01-.25-.25v-7.5a.25.25 0 01.25-.25zM14.25 1H1.75A1.75 1.75 0 000 2.75v7.5C0 11.216.784 12 1.75 12h3.727c-.1 1.041-.52 1.872-1.292 2.757A.75.75 0 004.75 16h6.5a.75.75 0 00.565-1.243c-.772-.885-1.193-1.716-1.292-2.757h3.727A1.75 1.75 0 0016 10.25v-7.5A1.75 1.75 0 0014.25 1zM9.018 12H6.982a5.72 5.72 0 01-.765 2.5h3.566a5.72 5.72 0 01-.765-2.5z"></path></svg>
          </a>

          <!-- '"` --><!-- </textarea></xmp> --></option></form><form class="inline-form js-update-url-with-hash" action="/Artshap/misc/edit/master/dcexample/example.ipynb" accept-charset="UTF-8" method="post"><input type="hidden" name="authenticity_token" value="NtSw4dGTD2zjtqv9APF7BhDZeokVMITSd1pRWdjUDbPGm91QVGuoiZKiZEmTsDnavFD2KCIKY5bAEEEszgWegA==" />
            <button class="btn-octicon tooltipped tooltipped-nw" type="submit"
              aria-label="Edit this file" data-hotkey="e" data-disable-with>
              <svg class="octicon octicon-pencil" viewBox="0 0 16 16" version="1.1" width="16" height="16" aria-hidden="true"><path fill-rule="evenodd" d="M11.013 1.427a1.75 1.75 0 012.474 0l1.086 1.086a1.75 1.75 0 010 2.474l-8.61 8.61c-.21.21-.47.364-.756.445l-3.251.93a.75.75 0 01-.927-.928l.929-3.25a1.75 1.75 0 01.445-.758l8.61-8.61zm1.414 1.06a.25.25 0 00-.354 0L10.811 3.75l1.439 1.44 1.263-1.263a.25.25 0 000-.354l-1.086-1.086zM11.189 6.25L9.75 4.81l-6.286 6.287a.25.25 0 00-.064.108l-.558 1.953 1.953-.558a.249.249 0 00.108-.064l6.286-6.286z"></path></svg>
            </button>
</form>
          <!-- '"` --><!-- </textarea></xmp> --></option></form><form class="inline-form" action="/Artshap/misc/delete/master/dcexample/example.ipynb" accept-charset="UTF-8" method="post"><input type="hidden" name="authenticity_token" value="9SByw5tJwLrVDejSOnTastw9hCJ5hS6lxaA2a3oZaHUZPC5DTAMsk9MXEnwhG1SMffyzwsLs0rSF1TaAYGQegg==" />
            <button class="btn-octicon btn-octicon-danger tooltipped tooltipped-nw" type="submit"
              aria-label="Delete this file" data-disable-with>
              <svg class="octicon octicon-trashcan" viewBox="0 0 16 16" version="1.1" width="16" height="16" aria-hidden="true"><path fill-rule="evenodd" d="M6.5 1.75a.25.25 0 01.25-.25h2.5a.25.25 0 01.25.25V3h-3V1.75zm4.5 0V3h2.25a.75.75 0 010 1.5H2.75a.75.75 0 010-1.5H5V1.75C5 .784 5.784 0 6.75 0h2.5C10.216 0 11 .784 11 1.75zM4.496 6.675a.75.75 0 10-1.492.15l.66 6.6A1.75 1.75 0 005.405 15h5.19c.9 0 1.652-.681 1.741-1.576l.66-6.6a.75.75 0 00-1.492-.149l-.66 6.6a.25.25 0 01-.249.225h-5.19a.25.25 0 01-.249-.225l-.66-6.6z"></path></svg>
            </button>
</form>    </div>
  </div>
</div>



      

  <div itemprop="text" class="Box-body p-0 blob-wrapper data type-jupyter-notebook  gist-border-0">
      
  <div class="render-wrapper ">
    <div class="render-container is-render-pending js-render-target  "
      data-identity="27ecccda-c4c0-4757-91aa-74194bf07357"
      data-host="https://render.githubusercontent.com"
      data-type="ipynb">
      <img class="octospinner mx-auto" alt="" src="https://github.githubassets.com/images/spinners/octocat-spinner-128.gif" width="64" height="64" />
      <div class="render-viewer-error">Sorry, something went wrong. <a href="https://github.com/Artshap/misc/blob/master/dcexample/example.ipynb">Reload?</a></div>
      <div class="render-viewer-fatal">Sorry, we cannot display this file.</div>
      <div class="render-viewer-invalid">Sorry, this file is invalid so it cannot be displayed.</div>
      <iframe class="render-viewer " src="https://render.githubusercontent.com/view/ipynb?commit=22c46d8d51bc7ede96802e77308cbeea0b7ae7ac&amp;enc_url=68747470733a2f2f7261772e67697468756275736572636f6e74656e742e636f6d2f417274736861702f6d6973632f323263343664386435316263376564653936383032653737333038636265656130623761653761632f64636578616d706c652f6578616d706c652e6970796e62&amp;nwo=Artshap%2Fmisc&amp;path=dcexample%2Fexample.ipynb&amp;repository_id=195329312&amp;repository_type=Repository#27ecccda-c4c0-4757-91aa-74194bf07357" sandbox="allow-scripts allow-same-origin allow-top-navigation" title="File display">
          Viewer requires iframe.
      </iframe>
    </div>
  </div>

  </div>

    </div>

  


  <details class="details-reset details-overlay details-overlay-dark" id="jumpto-line-details-dialog">
    <summary data-hotkey="l" aria-label="Jump to line"></summary>
    <details-dialog class="Box Box--overlay d-flex flex-column anim-fade-in fast linejump" aria-label="Jump to line">
      <!-- '"` --><!-- </textarea></xmp> --></option></form><form class="js-jump-to-line-form Box-body d-flex" action="" accept-charset="UTF-8" method="get">
        <input class="form-control flex-auto mr-3 linejump-input js-jump-to-line-field" type="text" placeholder="Jump to line&hellip;" aria-label="Jump to line" autofocus>
        <button type="submit" class="btn" data-close-dialog>Go</button>
</form>    </details-dialog>
  </details>




  </div>
</div>

    </main>
  </div>

  </div>

        
<div class="footer container-xl width-full p-responsive" role="contentinfo">
    <div class="position-relative d-flex flex-row-reverse flex-lg-row flex-wrap flex-lg-nowrap flex-justify-center flex-lg-justify-between pt-6 pb-2 mt-6 f6 text-gray border-top border-gray-light ">
      <ul class="list-style-none d-flex flex-wrap col-12 col-lg-5 flex-justify-center flex-lg-justify-between mb-2 mb-lg-0">
        <li class="mr-3 mr-lg-0">&copy; 2020 GitHub, Inc.</li>
          <li class="mr-3 mr-lg-0"><a data-ga-click="Footer, go to terms, text:terms" href="https://github.com/site/terms">Terms</a></li>
          <li class="mr-3 mr-lg-0"><a data-ga-click="Footer, go to privacy, text:privacy" href="https://github.com/site/privacy">Privacy</a></li>
          <li class="mr-3 mr-lg-0"><a data-ga-click="Footer, go to security, text:security" href="https://github.com/security">Security</a></li>
          <li class="mr-3 mr-lg-0"><a href="https://githubstatus.com/" data-ga-click="Footer, go to status, text:status">Status</a></li>
          <li><a data-ga-click="Footer, go to help, text:help" href="https://docs.github.com">Help</a></li>
      </ul>

      <a aria-label="Homepage" title="GitHub" class="footer-octicon d-none d-lg-block mx-lg-4" href="https://github.com">
        <svg height="24" class="octicon octicon-mark-github" viewBox="0 0 16 16" version="1.1" width="24" aria-hidden="true"><path fill-rule="evenodd" d="M8 0C3.58 0 0 3.58 0 8c0 3.54 2.29 6.53 5.47 7.59.4.07.55-.17.55-.38 0-.19-.01-.82-.01-1.49-2.01.37-2.53-.49-2.69-.94-.09-.23-.48-.94-.82-1.13-.28-.15-.68-.52-.01-.53.63-.01 1.08.58 1.23.82.72 1.21 1.87.87 2.33.66.07-.52.28-.87.51-1.07-1.78-.2-3.64-.89-3.64-3.95 0-.87.31-1.59.82-2.15-.08-.2-.36-1.02.08-2.12 0 0 .67-.21 2.2.82.64-.18 1.32-.27 2-.27.68 0 1.36.09 2 .27 1.53-1.04 2.2-.82 2.2-.82.44 1.1.16 1.92.08 2.12.51.56.82 1.27.82 2.15 0 3.07-1.87 3.75-3.65 3.95.29.25.54.73.54 1.48 0 1.07-.01 1.93-.01 2.2 0 .21.15.46.55.38A8.013 8.013 0 0016 8c0-4.42-3.58-8-8-8z"></path></svg>
</a>
      <ul class="list-style-none d-flex flex-wrap col-12 col-lg-5 flex-justify-center flex-lg-justify-between mb-2 mb-lg-0">
          <li class="mr-3 mr-lg-0"><a data-ga-click="Footer, go to contact, text:contact" href="https://github.com/contact">Contact GitHub</a></li>
          <li class="mr-3 mr-lg-0"><a href="https://github.com/pricing" data-ga-click="Footer, go to Pricing, text:Pricing">Pricing</a></li>
        <li class="mr-3 mr-lg-0"><a href="https://docs.github.com" data-ga-click="Footer, go to api, text:api">API</a></li>
        <li class="mr-3 mr-lg-0"><a href="https://services.github.com" data-ga-click="Footer, go to training, text:training">Training</a></li>
          <li class="mr-3 mr-lg-0"><a href="https://github.blog" data-ga-click="Footer, go to blog, text:blog">Blog</a></li>
          <li><a data-ga-click="Footer, go to about, text:about" href="https://github.com/about">About</a></li>
      </ul>
    </div>
  <div class="d-flex flex-justify-center pb-6">
    <span class="f6 text-gray-light"></span>
  </div>
</div>



  <div id="ajax-error-message" class="ajax-error-message flash flash-error">
    <svg class="octicon octicon-alert" viewBox="0 0 16 16" version="1.1" width="16" height="16" aria-hidden="true"><path fill-rule="evenodd" d="M8.22 1.754a.25.25 0 00-.44 0L1.698 13.132a.25.25 0 00.22.368h12.164a.25.25 0 00.22-.368L8.22 1.754zm-1.763-.707c.659-1.234 2.427-1.234 3.086 0l6.082 11.378A1.75 1.75 0 0114.082 15H1.918a1.75 1.75 0 01-1.543-2.575L6.457 1.047zM9 11a1 1 0 11-2 0 1 1 0 012 0zm-.25-5.25a.75.75 0 00-1.5 0v2.5a.75.75 0 001.5 0v-2.5z"></path></svg>
    <button type="button" class="flash-close js-ajax-error-dismiss" aria-label="Dismiss error">
      <svg class="octicon octicon-x" viewBox="0 0 16 16" version="1.1" width="16" height="16" aria-hidden="true"><path fill-rule="evenodd" d="M3.72 3.72a.75.75 0 011.06 0L8 6.94l3.22-3.22a.75.75 0 111.06 1.06L9.06 8l3.22 3.22a.75.75 0 11-1.06 1.06L8 9.06l-3.22 3.22a.75.75 0 01-1.06-1.06L6.94 8 3.72 4.78a.75.75 0 010-1.06z"></path></svg>
    </button>
    You can’t perform that action at this time.
  </div>


    <script crossorigin="anonymous" async="async" integrity="sha512-bn/3rKJzBl2H64K38R8KaVcT26vKK7BJQC59lwYc+9fjlHzmy0fwh+hzBtsgTdhIi13dxjzNKWhdSN8WTM9qUw==" type="application/javascript" id="js-conditional-compat" data-src="https://github.githubassets.com/assets/compat-bootstrap-6e7ff7ac.js"></script>
    <script crossorigin="anonymous" integrity="sha512-CxjaMepCmi+z0LTeztU2S8qGD25LyHD6j9t0RSPevy63trFWJVwUM6ipAVLgtpMBBgZ53wq8JPkSeQ6ruaZL2w==" type="application/javascript" src="https://github.githubassets.com/assets/environment-bootstrap-0b18da31.js"></script>
    <script crossorigin="anonymous" async="async" integrity="sha512-uQnzvTsPtyUfA0k3VCLKlUs6/9mo4UFwcKJoBnxvk3uIHvl0dOShfB1KUq7OY/s1JuUiESbDVyBOAMS4kJrMQw==" type="application/javascript" src="https://github.githubassets.com/assets/vendor-b909f3bd.js"></script>
    <script crossorigin="anonymous" async="async" integrity="sha512-aQmw2kYZcGxIrAuyDt6GCbP5sC82BO9FzVwA/fZSqPFT1RxzbI9SDHzfA77lZtpudCdNuTmoBqm4QjZwIti8Vw==" type="application/javascript" src="https://github.githubassets.com/assets/frameworks-6909b0da.js"></script>
    
    <script crossorigin="anonymous" async="async" integrity="sha512-l7ITpHCsEdME/KhYdXBQNcJfn+byB9DsmV5CYPH19j0KJhTF34f6sckBgF9Rw+Kro/+7dy3YUPBdMYym2ScCyg==" type="application/javascript" src="https://github.githubassets.com/assets/behaviors-bootstrap-97b213a4.js"></script>
    
      <script crossorigin="anonymous" async="async" integrity="sha512-WmLHdpvEzC/gyDbs4RKm2+pVCCIDmiJ4vPW5zdX6lQN1CxH/gYnRSi0gyMHMJv5Xv7zUbD6vOgwlAO6yNI87Vg==" type="application/javascript" data-module-id="./contributions-spider-graph.js" data-src="https://github.githubassets.com/assets/contributions-spider-graph-5a62c776.js"></script>
      <script crossorigin="anonymous" async="async" integrity="sha512-2tVomjR7M73FMhb8dUvdjjzAErhNyLB9tL++hwpJeElQv494sCpS8OnWZL981ktAg30aqIypXD6TJjdvxcPEWQ==" type="application/javascript" data-module-id="./drag-drop.js" data-src="https://github.githubassets.com/assets/drag-drop-dad5689a.js"></script>
      <script crossorigin="anonymous" async="async" integrity="sha512-okWo2s5edoMgTyVU6JT0ANN6025nX3kSqEl2BPfxc1ReVCk57vHPywOx3450jNY0GrnNtmuFBdPColBpVm12Pw==" type="application/javascript" data-module-id="./jump-to.js" data-src="https://github.githubassets.com/assets/jump-to-a245a8da.js"></script>
      <script crossorigin="anonymous" async="async" integrity="sha512-O5MUDplY2zVCSB3Jq0MiMf/lhuo8NBywywSaMZnViWL4ynNrhfhtn1LtGMfqYvyPP3BlHsq3Qli2a1ei19IqsQ==" type="application/javascript" data-module-id="./manage-membership.js" data-src="https://github.githubassets.com/assets/manage-membership-bootstrap-3b93140e.js"></script>
      <script crossorigin="anonymous" async="async" integrity="sha512-fc2sD+f9kolLYQWmhbjtebxjRxzdt4M+3E78XsdN60ioi/KL0trpAbRG0MdJkCQL0HtcVagxfWG4zA7lgup7IQ==" type="application/javascript" data-module-id="./profile-pins-element.js" data-src="https://github.githubassets.com/assets/profile-pins-element-7dcdac0f.js"></script>
      <script crossorigin="anonymous" async="async" integrity="sha512-JXSmOrOQXof4xz7y+engxtqrugUopipC5LwEmsfxit4PlVe48UECBUCLuujjIADm1kjb2f/9/azX+qNspSy90w==" type="application/javascript" data-module-id="./randomColor.js" data-src="https://github.githubassets.com/assets/randomColor-2574a63a.js"></script>
      <script crossorigin="anonymous" async="async" integrity="sha512-FOUgzyCYz3T1et4Stcl3MeKUX3mZkQcsMsTQDgBj6/CtW3HrwyGMaCeXGyhSjTGibphNptgZKgDNkvL+O+2uYw==" type="application/javascript" data-module-id="./sortable-behavior.js" data-src="https://github.githubassets.com/assets/sortable-behavior-14e520cf.js"></script>
      <script crossorigin="anonymous" async="async" integrity="sha512-Sqqua2FOZToK8Mzg1e4jBubR6ZCFO0gL2JHjgpqafLawUXr69ffELu+IhApoX5uhWlxXxJ0ooE89ANBMtWiUNA==" type="application/javascript" data-module-id="./tweetsodium.js" data-src="https://github.githubassets.com/assets/tweetsodium-4aaaae6b.js"></script>
      <script crossorigin="anonymous" async="async" integrity="sha512-3Q6/aKl7PXjI+jB+sUpF8+h/c+m0WOOTiExsBCxtrmhCgQX5kVWx1SA7LuELWaK0EjS4SNffZcXJMbs0hbqx8w==" type="application/javascript" data-module-id="./user-status-submit.js" data-src="https://github.githubassets.com/assets/user-status-submit-dd0ebf68.js"></script>
    
    <script crossorigin="anonymous" async="async" integrity="sha512-MiZtEpwmjsXPg/Y5fpT7+Vr+9Rh9wVNfcK/oQC2UAFOASvpcm/BD/JL6q+Z0qXnEyCKgz/92cCu4tVx7WMqOyw==" type="application/javascript" src="https://github.githubassets.com/assets/repositories-bootstrap-32266d12.js"></script>
<script crossorigin="anonymous" async="async" integrity="sha512-4uQvKBaDHwwOtxkHrpFSW7T3ag6D4e9kAykpUagCtVeN9lyhnicMf5ABWbS57QNmhtFayornB8HuUIs805G5tQ==" type="application/javascript" src="https://github.githubassets.com/assets/diffs-bootstrap-e2e42f28.js"></script>
<script crossorigin="anonymous" async="async" integrity="sha512-5cOHueoeW9NgWvV5Bh89fqJ7gXuulXYSr9ayk/888xBTEfpg/lKJGxSB3pU19inMyWYPwq4qSgv9eWGhQ85Q+g==" type="application/javascript" src="https://github.githubassets.com/assets/github-bootstrap-e5c387b9.js"></script>
  <div class="js-stale-session-flash flash flash-warn flash-banner" hidden
    >
    <svg class="octicon octicon-alert" viewBox="0 0 16 16" version="1.1" width="16" height="16" aria-hidden="true"><path fill-rule="evenodd" d="M8.22 1.754a.25.25 0 00-.44 0L1.698 13.132a.25.25 0 00.22.368h12.164a.25.25 0 00.22-.368L8.22 1.754zm-1.763-.707c.659-1.234 2.427-1.234 3.086 0l6.082 11.378A1.75 1.75 0 0114.082 15H1.918a1.75 1.75 0 01-1.543-2.575L6.457 1.047zM9 11a1 1 0 11-2 0 1 1 0 012 0zm-.25-5.25a.75.75 0 00-1.5 0v2.5a.75.75 0 001.5 0v-2.5z"></path></svg>
    <span class="js-stale-session-flash-signed-in" hidden>You signed in with another tab or window. <a href="">Reload</a> to refresh your session.</span>
    <span class="js-stale-session-flash-signed-out" hidden>You signed out in another tab or window. <a href="">Reload</a> to refresh your session.</span>
  </div>
  <template id="site-details-dialog">
  <details class="details-reset details-overlay details-overlay-dark lh-default text-gray-dark hx_rsm" open>
    <summary role="button" aria-label="Close dialog"></summary>
    <details-dialog class="Box Box--overlay d-flex flex-column anim-fade-in fast hx_rsm-dialog hx_rsm-modal">
      <button class="Box-btn-octicon m-0 btn-octicon position-absolute right-0 top-0" type="button" aria-label="Close dialog" data-close-dialog>
        <svg class="octicon octicon-x" viewBox="0 0 16 16" version="1.1" width="16" height="16" aria-hidden="true"><path fill-rule="evenodd" d="M3.72 3.72a.75.75 0 011.06 0L8 6.94l3.22-3.22a.75.75 0 111.06 1.06L9.06 8l3.22 3.22a.75.75 0 11-1.06 1.06L8 9.06l-3.22 3.22a.75.75 0 01-1.06-1.06L6.94 8 3.72 4.78a.75.75 0 010-1.06z"></path></svg>
      </button>
      <div class="octocat-spinner my-6 js-details-dialog-spinner"></div>
    </details-dialog>
  </details>
</template>

  <div class="Popover js-hovercard-content position-absolute" style="display: none; outline: none;" tabindex="0">
  <div class="Popover-message Popover-message--bottom-left Popover-message--large Box box-shadow-large" style="width:360px;">
  </div>
</div>


  </body>
</html>

=======
{
 "cells": [
  {
   "cell_type": "code",
   "execution_count": 1,
   "metadata": {},
=======
{
 "cells": [
  {
   "cell_type": "markdown",
   "metadata": {
    "hideCode": false,
    "hidePrompt": false
   },
   "source": [
    "Please click **Cell - Run All** to see the output."
   ]
  },
  {
   "cell_type": "code",
   "execution_count": 1,
   "metadata": {
    "hideCode": false,
    "hidePrompt": false
   },
>>>>>>> parent of 8dc6f1e... Update example.ipynb
   "outputs": [],
   "source": [
    "import ipywidgets as widgets\n",
    "import pandas as pd\n",
    "import qgrid\n",
    "import matplotlib.pyplot as plt\n",
    "import matplotlib.ticker as mt\n",
    "from datetime import datetime\n",
    "import numpy as np"
   ]
  },
  {
   "cell_type": "markdown",
<<<<<<< HEAD
   "metadata": {},
=======
   "metadata": {
    "hideCode": false,
    "hidePrompt": false
   },
>>>>>>> parent of 8dc6f1e... Update example.ipynb
   "source": [
    "## Setting float format options"
   ]
  },
  {
   "cell_type": "code",
   "execution_count": 2,
<<<<<<< HEAD
   "metadata": {},
=======
   "metadata": {
    "hideCode": false,
    "hidePrompt": false
   },
>>>>>>> parent of 8dc6f1e... Update example.ipynb
   "outputs": [],
   "source": [
    "pd.options.display.float_format = '{:,.2f}'.format"
   ]
  },
  {
   "cell_type": "markdown",
<<<<<<< HEAD
   "metadata": {},
=======
   "metadata": {
    "hideCode": false,
    "hidePrompt": false
   },
>>>>>>> parent of 8dc6f1e... Update example.ipynb
   "source": [
    "# Data import"
   ]
  },
  {
   "cell_type": "markdown",
<<<<<<< HEAD
   "metadata": {},
   "source": [
    "## Importing SKU Master\n",
    "\n",
    "By using an appropriate extension cells can be dited inplace like in excel. I would still prefer data cleaning in excel, depending on the case."
=======
   "metadata": {
    "hideCode": false,
    "hidePrompt": false
   },
   "source": [
    "## Importing SKU Master"
>>>>>>> parent of 8dc6f1e... Update example.ipynb
   ]
  },
  {
   "cell_type": "code",
<<<<<<< HEAD
   "execution_count": 3,
   "metadata": {
=======
   "execution_count": 14,
   "metadata": {
    "hideCode": false,
    "hidePrompt": false,
>>>>>>> parent of 8dc6f1e... Update example.ipynb
    "scrolled": true
   },
   "outputs": [
    {
     "data": {
<<<<<<< HEAD
      "application/vnd.jupyter.widget-view+json": {
       "model_id": "a7b90e616e9c43239c2a4383668c3656",
       "version_major": 2,
       "version_minor": 0
      },
      "text/plain": [
       "QgridWidget(grid_options={'fullWidthRows': True, 'syncColumnCellResize': True, 'forceFitColumns': True, 'defau…"
      ]
     },
     "metadata": {},
     "output_type": "display_data"
=======
      "text/html": [
       "<div>\n",
       "<style scoped>\n",
       "    .dataframe tbody tr th:only-of-type {\n",
       "        vertical-align: middle;\n",
       "    }\n",
       "\n",
       "    .dataframe tbody tr th {\n",
       "        vertical-align: top;\n",
       "    }\n",
       "\n",
       "    .dataframe thead th {\n",
       "        text-align: right;\n",
       "    }\n",
       "</style>\n",
       "<table border=\"1\" class=\"dataframe\">\n",
       "  <thead>\n",
       "    <tr style=\"text-align: right;\">\n",
       "      <th></th>\n",
       "      <th>Department</th>\n",
       "      <th>Class</th>\n",
       "      <th>Style</th>\n",
       "      <th>Color</th>\n",
       "      <th>SKU</th>\n",
       "      <th>Cost</th>\n",
       "      <th>Price</th>\n",
       "      <th>Vendor</th>\n",
       "    </tr>\n",
       "  </thead>\n",
       "  <tbody>\n",
       "    <tr>\n",
       "      <td>0</td>\n",
       "      <td>800</td>\n",
       "      <td>5</td>\n",
       "      <td>20</td>\n",
       "      <td>2</td>\n",
       "      <td>8000520021</td>\n",
       "      <td>7.50</td>\n",
       "      <td>9.99</td>\n",
       "      <td>MA Excellent Products</td>\n",
       "    </tr>\n",
       "    <tr>\n",
       "      <td>1</td>\n",
       "      <td>800</td>\n",
       "      <td>4</td>\n",
       "      <td>51</td>\n",
       "      <td>11</td>\n",
       "      <td>8000451112</td>\n",
       "      <td>9.00</td>\n",
       "      <td>12.99</td>\n",
       "      <td>MA Excellent Products</td>\n",
       "    </tr>\n",
       "    <tr>\n",
       "      <td>2</td>\n",
       "      <td>731</td>\n",
       "      <td>24</td>\n",
       "      <td>55</td>\n",
       "      <td>52</td>\n",
       "      <td>7312455520</td>\n",
       "      <td>25.00</td>\n",
       "      <td>31.99</td>\n",
       "      <td>MA Excellent Products</td>\n",
       "    </tr>\n",
       "    <tr>\n",
       "      <td>3</td>\n",
       "      <td>731</td>\n",
       "      <td>24</td>\n",
       "      <td>55</td>\n",
       "      <td>53</td>\n",
       "      <td>7312455530</td>\n",
       "      <td>14.50</td>\n",
       "      <td>22.99</td>\n",
       "      <td>GA General Wholesales</td>\n",
       "    </tr>\n",
       "    <tr>\n",
       "      <td>4</td>\n",
       "      <td>5001</td>\n",
       "      <td>201</td>\n",
       "      <td>12</td>\n",
       "      <td>4</td>\n",
       "      <td>50012011240</td>\n",
       "      <td>2.50</td>\n",
       "      <td>7.99</td>\n",
       "      <td>China Imports</td>\n",
       "    </tr>\n",
       "    <tr>\n",
       "      <td>5</td>\n",
       "      <td>5001</td>\n",
       "      <td>201</td>\n",
       "      <td>12</td>\n",
       "      <td>5</td>\n",
       "      <td>50012011250</td>\n",
       "      <td>7.50</td>\n",
       "      <td>9.99</td>\n",
       "      <td>China Imports</td>\n",
       "    </tr>\n",
       "    <tr>\n",
       "      <td>6</td>\n",
       "      <td>5001</td>\n",
       "      <td>201</td>\n",
       "      <td>13</td>\n",
       "      <td>4</td>\n",
       "      <td>50012011341</td>\n",
       "      <td>8.00</td>\n",
       "      <td>6.99</td>\n",
       "      <td>China Imports</td>\n",
       "    </tr>\n",
       "    <tr>\n",
       "      <td>7</td>\n",
       "      <td>5001</td>\n",
       "      <td>300</td>\n",
       "      <td>1</td>\n",
       "      <td>1</td>\n",
       "      <td>50013000110</td>\n",
       "      <td>6.50</td>\n",
       "      <td>12.99</td>\n",
       "      <td>China Imports</td>\n",
       "    </tr>\n",
       "  </tbody>\n",
       "</table>\n",
       "</div>"
      ],
      "text/plain": [
       "   Department  Class  Style  Color          SKU  Cost  Price  \\\n",
       "0         800      5     20      2   8000520021  7.50   9.99   \n",
       "1         800      4     51     11   8000451112  9.00  12.99   \n",
       "2         731     24     55     52   7312455520 25.00  31.99   \n",
       "3         731     24     55     53   7312455530 14.50  22.99   \n",
       "4        5001    201     12      4  50012011240  2.50   7.99   \n",
       "5        5001    201     12      5  50012011250  7.50   9.99   \n",
       "6        5001    201     13      4  50012011341  8.00   6.99   \n",
       "7        5001    300      1      1  50013000110  6.50  12.99   \n",
       "\n",
       "                  Vendor  \n",
       "0  MA Excellent Products  \n",
       "1  MA Excellent Products  \n",
       "2  MA Excellent Products  \n",
       "3  GA General Wholesales  \n",
       "4          China Imports  \n",
       "5          China Imports  \n",
       "6          China Imports  \n",
       "7          China Imports  "
      ]
     },
     "execution_count": 14,
     "metadata": {},
     "output_type": "execute_result"
>>>>>>> parent of 8dc6f1e... Update example.ipynb
    }
   ],
   "source": [
    "sku_master = pd.read_excel(io = 'sample_data.xlsx', sheet_name = 'SKU Master')\n",
<<<<<<< HEAD
    "qgrid.show_grid(sku_master)"
=======
    "sku_master"
>>>>>>> parent of 8dc6f1e... Update example.ipynb
   ]
  },
  {
   "cell_type": "markdown",
<<<<<<< HEAD
   "metadata": {},
   "source": [
    "## Importing the sales data for one of the stores"
=======
   "metadata": {
    "hideCode": false,
    "hidePrompt": false
   },
   "source": [
    "## Importing the sales data for one of the stores\n",
    "\n",
    "By using an appropriate extension cells can be edited inplace like in excel. I would still prefer data cleaning in excel, depending on the case."
>>>>>>> parent of 8dc6f1e... Update example.ipynb
   ]
  },
  {
   "cell_type": "code",
   "execution_count": 4,
<<<<<<< HEAD
<<<<<<< HEAD
   "metadata": {},
=======
   "metadata": {
    "hideCode": false,
    "hidePrompt": false
   },
>>>>>>> parent of 1b15159... updating example
=======
   "metadata": {
    "hideCode": false,
<<<<<<< Updated upstream
    "hidePrompt": false
=======
    "hidePrompt": false,
    "scrolled": false
>>>>>>> Stashed changes
   },
>>>>>>> parent of 8dc6f1e... Update example.ipynb
   "outputs": [
    {
     "data": {
      "application/vnd.jupyter.widget-view+json": {
<<<<<<< HEAD
       "model_id": "03169ec4c2f0409fb0058dbb9b64dffa",
=======
       "model_id": "2613c2a9fb8c4d969a337683f3f4023e",
>>>>>>> parent of 8dc6f1e... Update example.ipynb
       "version_major": 2,
       "version_minor": 0
      },
      "text/plain": [
       "QgridWidget(grid_options={'fullWidthRows': True, 'syncColumnCellResize': True, 'forceFitColumns': True, 'defau…"
      ]
     },
     "metadata": {},
     "output_type": "display_data"
    }
   ],
   "source": [
    "sales_data = pd.read_excel(io = 'sample_data.xlsx', sheet_name = 'Store 312')\n",
    "qgrid.show_grid(sales_data)"
   ]
  },
  {
<<<<<<< HEAD
   "cell_type": "code",
   "execution_count": 5,
   "metadata": {
=======
   "cell_type": "markdown",
   "metadata": {},
   "source": [
    "Datasets can easily be merged, same as in relevant software."
   ]
  },
  {
   "cell_type": "code",
   "execution_count": 17,
   "metadata": {
    "hideCode": false,
    "hidePrompt": false,
>>>>>>> parent of 8dc6f1e... Update example.ipynb
    "scrolled": true
   },
   "outputs": [
    {
     "data": {
      "application/vnd.jupyter.widget-view+json": {
<<<<<<< HEAD
<<<<<<< HEAD
       "model_id": "84abf544cf93421c93e5c777d1684e7d",
=======
       "model_id": "367bc72e272a43ce948090dda6cf0e69",
>>>>>>> parent of 1b15159... updating example
=======
<<<<<<< Updated upstream
       "model_id": "367bc72e272a43ce948090dda6cf0e69",
=======
       "model_id": "de4f672171294fe2890dcbc02219e9ce",
>>>>>>> Stashed changes
>>>>>>> parent of 8dc6f1e... Update example.ipynb
       "version_major": 2,
       "version_minor": 0
      },
      "text/plain": [
       "QgridWidget(grid_options={'fullWidthRows': True, 'syncColumnCellResize': True, 'forceFitColumns': True, 'defau…"
      ]
     },
     "metadata": {},
     "output_type": "display_data"
    }
   ],
   "source": [
    "merged_dataset = pd.merge(left = sales_data, right = sku_master, on = 'SKU')\n",
<<<<<<< HEAD
<<<<<<< HEAD
=======
    "merged_dataset.sort_values(by = 'Date', inplace = True)\n",
    "merged_dataset.reset_index(inplace = True)\n",
>>>>>>> parent of 1b15159... updating example
=======
    "merged_dataset.sort_values(by = 'Date', inplace = True)\n",
<<<<<<< Updated upstream
    "merged_dataset.reset_index(inplace = True)\n",
=======
    "merged_dataset.reset_index(drop = True, inplace = True)\n",
>>>>>>> Stashed changes
>>>>>>> parent of 8dc6f1e... Update example.ipynb
    "qgrid.show_grid(merged_dataset)"
   ]
  },
  {
   "cell_type": "code",
   "execution_count": 6,
<<<<<<< HEAD
   "metadata": {},
=======
   "metadata": {
    "hideCode": false,
    "hidePrompt": false
   },
>>>>>>> parent of 8dc6f1e... Update example.ipynb
   "outputs": [
    {
     "data": {
      "text/plain": [
<<<<<<< HEAD
=======
       "index                    int64\n",
>>>>>>> parent of 8dc6f1e... Update example.ipynb
       "DB_ID                  float64\n",
       "SKU                     object\n",
       "Store                  float64\n",
       "Date            datetime64[ns]\n",
       "Unit Sales              object\n",
       "Dollar Sales           float64\n",
       "Department               int64\n",
       "Class                    int64\n",
       "Style                    int64\n",
       "Color                    int64\n",
       "Cost                   float64\n",
       "Price                  float64\n",
       "Vendor                  object\n",
       "dtype: object"
      ]
     },
     "execution_count": 6,
     "metadata": {},
     "output_type": "execute_result"
    }
   ],
   "source": [
    "#checking datatypes\n",
    "merged_dataset.dtypes"
   ]
  },
  {
   "cell_type": "code",
<<<<<<< HEAD
   "execution_count": 7,
<<<<<<< HEAD
   "metadata": {},
=======
=======
<<<<<<< Updated upstream
   "execution_count": 7,
=======
   "execution_count": 21,
>>>>>>> Stashed changes
>>>>>>> parent of 8dc6f1e... Update example.ipynb
   "metadata": {
    "hideCode": false,
    "hidePrompt": false,
    "scrolled": true
   },
<<<<<<< HEAD
>>>>>>> parent of 1b15159... updating example
=======
>>>>>>> parent of 8dc6f1e... Update example.ipynb
   "outputs": [
    {
     "data": {
      "text/plain": [
<<<<<<< HEAD
<<<<<<< HEAD
=======
       "index                    int64\n",
>>>>>>> parent of 1b15159... updating example
       "DB_ID                  float64\n",
=======
<<<<<<< Updated upstream
       "index                    int64\n",
       "DB_ID                  float64\n",
=======
       "DB_ID                   object\n",
>>>>>>> Stashed changes
>>>>>>> parent of 8dc6f1e... Update example.ipynb
       "SKU                     object\n",
       "Store                  float64\n",
       "Date            datetime64[ns]\n",
       "Unit Sales              object\n",
       "Dollar Sales           float64\n",
       "Department              object\n",
       "Class                    int64\n",
       "Style                    int64\n",
       "Color                   object\n",
       "Cost                   float64\n",
       "Price                  float64\n",
       "Vendor                  object\n",
       "dtype: object"
      ]
     },
<<<<<<< HEAD
     "execution_count": 7,
=======
     "execution_count": 21,
>>>>>>> parent of 8dc6f1e... Update example.ipynb
     "metadata": {},
     "output_type": "execute_result"
    }
   ],
   "source": [
    "#assign datatype \n",
    "merged_dataset[\"Department\"] = merged_dataset['Department'].astype('str')\n",
    "merged_dataset[\"SKU\"] = merged_dataset['SKU'].astype('str')\n",
    "merged_dataset[\"Color\"] = merged_dataset['Color'].astype('str')\n",
<<<<<<< HEAD
=======
    "merged_dataset[\"DB_ID\"] = merged_dataset['DB_ID'].astype('str')\n",
>>>>>>> parent of 8dc6f1e... Update example.ipynb
    "merged_dataset.dtypes"
   ]
  },
  {
<<<<<<< HEAD
<<<<<<< HEAD
   "cell_type": "markdown",
   "metadata": {},
   "source": [
    "I will take inner quartiles of dollar sales to remove outliers from plots."
   ]
  },
  {
   "cell_type": "code",
   "execution_count": 8,
   "metadata": {
    "scrolled": false
   },
   "outputs": [
    {
     "data": {
      "application/vnd.jupyter.widget-view+json": {
       "model_id": "490c726343e44963a5c0ac31b3d8a486",
       "version_major": 2,
       "version_minor": 0
      },
      "text/plain": [
       "QgridWidget(grid_options={'fullWidthRows': True, 'syncColumnCellResize': True, 'forceFitColumns': True, 'defau…"
      ]
     },
     "metadata": {},
     "output_type": "display_data"
    }
   ],
   "source": [
    "sales_25pc = merged_dataset['Dollar Sales'].describe()['25%']\n",
    "sales_75pc = merged_dataset['Dollar Sales'].describe()['75%']\n",
    "\n",
    "inner_quartiles = (merged_dataset['Dollar Sales'] > sales_25pc) & (merged_dataset['Dollar Sales'] <= sales_75pc)\n",
    "filtered_df=(merged_dataset.loc[inner_quartiles])\n",
    "qgrid.show_grid(filtered_df)"
   ]
  },
  {
   "cell_type": "markdown",
   "metadata": {},
   "source": [
    "Interactive elements can be used for easy use. It it possible to relatively easily create full dashboards, like here: [click](https://towardsdatascience.com/bring-your-jupyter-notebook-to-life-with-interactive-widgets-bc12e03f0916)"
=======
<<<<<<< Updated upstream
   "cell_type": "code",
   "execution_count": 8,
=======
   "cell_type": "markdown",
   "metadata": {},
   "source": [
    "Below you can see the metrics for each numerical column."
>>>>>>> parent of 8dc6f1e... Update example.ipynb
   ]
  },
  {
   "cell_type": "code",
<<<<<<< HEAD
   "execution_count": 9,
   "metadata": {},
   "outputs": [
    {
     "data": {
      "application/vnd.jupyter.widget-view+json": {
       "model_id": "c79faa05982b4c6bb60bc736d4a19369",
       "version_major": 2,
       "version_minor": 0
      },
      "text/plain": [
       "interactive(children=(SelectionRangeSlider(description='Dates', index=(0, 1608), layout=Layout(width='600px'),…"
      ]
     },
     "metadata": {},
     "output_type": "display_data"
    }
   ],
   "source": [
    "dates = filtered_df['Date'].sort_values()\n",
    "date_range = (min(dates),max(dates))\n",
    "options = [(date.strftime(' %d/%m/%Y ')) for date in dates]\n",
    "\n",
    "\n",
    "selection_range_slider = widgets.SelectionRangeSlider(\n",
    "    options= options,\n",
    "    index=(0, len(options)-1),\n",
    "    description='Dates',\n",
    "    layout={'width': '600px'},\n",
    "    )\n",
    "\n",
    "\n",
    "def updater(dates):\n",
    "    df = filtered_df\n",
    "    mask = (df['Date'] > dates[0]) & (df['Date'] <= dates[1])\n",
    "    df = df.loc[mask]\n",
    "    \n",
    "    fig, ax = plt.subplots()\n",
    "    ax.bar(df['Date'], df['Dollar Sales'])\n",
    "    plt.setp(ax.get_xticklabels(), rotation=45)\n",
    "    plt.show()\n",
    "\n",
    "interactive_plot = widgets.interact(updater, dates = selection_range_slider)\n",
    "\n"
   ]
  },
  {
   "cell_type": "code",
   "execution_count": 10,
=======
   "cell_type": "code",
   "execution_count": 8,
>>>>>>> parent of 1b15159... updating example
=======
   "execution_count": 22,
>>>>>>> Stashed changes
>>>>>>> parent of 8dc6f1e... Update example.ipynb
   "metadata": {},
   "outputs": [
    {
     "data": {
      "text/html": [
       "<div>\n",
       "<style scoped>\n",
       "    .dataframe tbody tr th:only-of-type {\n",
       "        vertical-align: middle;\n",
       "    }\n",
       "\n",
       "    .dataframe tbody tr th {\n",
       "        vertical-align: top;\n",
       "    }\n",
       "\n",
       "    .dataframe thead th {\n",
       "        text-align: right;\n",
       "    }\n",
       "</style>\n",
       "<table border=\"1\" class=\"dataframe\">\n",
       "  <thead>\n",
       "    <tr style=\"text-align: right;\">\n",
       "      <th></th>\n",
<<<<<<< HEAD
<<<<<<< HEAD
=======
       "      <th>index</th>\n",
>>>>>>> parent of 1b15159... updating example
       "      <th>DB_ID</th>\n",
=======
<<<<<<< Updated upstream
       "      <th>index</th>\n",
       "      <th>DB_ID</th>\n",
=======
>>>>>>> Stashed changes
>>>>>>> parent of 8dc6f1e... Update example.ipynb
       "      <th>Store</th>\n",
       "      <th>Dollar Sales</th>\n",
       "      <th>Class</th>\n",
       "      <th>Style</th>\n",
       "      <th>Cost</th>\n",
       "      <th>Price</th>\n",
       "    </tr>\n",
       "  </thead>\n",
       "  <tbody>\n",
       "    <tr>\n",
       "      <td>count</td>\n",
       "      <td>3,341.00</td>\n",
<<<<<<< HEAD
<<<<<<< HEAD
=======
       "      <td>3,341.00</td>\n",
>>>>>>> parent of 1b15159... updating example
       "      <td>3,341.00</td>\n",
=======
<<<<<<< Updated upstream
       "      <td>3,341.00</td>\n",
       "      <td>3,341.00</td>\n",
=======
>>>>>>> Stashed changes
>>>>>>> parent of 8dc6f1e... Update example.ipynb
       "      <td>3,281.00</td>\n",
       "      <td>3,341.00</td>\n",
       "      <td>3,341.00</td>\n",
       "      <td>3,341.00</td>\n",
       "      <td>3,341.00</td>\n",
       "    </tr>\n",
       "    <tr>\n",
       "      <td>mean</td>\n",
<<<<<<< HEAD
<<<<<<< HEAD
=======
       "      <td>1,670.00</td>\n",
>>>>>>> parent of 1b15159... updating example
       "      <td>554,911.04</td>\n",
=======
<<<<<<< Updated upstream
       "      <td>1,670.00</td>\n",
       "      <td>554,911.04</td>\n",
=======
>>>>>>> Stashed changes
>>>>>>> parent of 8dc6f1e... Update example.ipynb
       "      <td>312.00</td>\n",
       "      <td>1,208.85</td>\n",
       "      <td>88.10</td>\n",
       "      <td>31.25</td>\n",
       "      <td>10.23</td>\n",
       "      <td>14.71</td>\n",
       "    </tr>\n",
       "    <tr>\n",
       "      <td>std</td>\n",
<<<<<<< HEAD
<<<<<<< HEAD
=======
       "      <td>964.61</td>\n",
>>>>>>> parent of 1b15159... updating example
       "      <td>719,873.46</td>\n",
=======
<<<<<<< Updated upstream
       "      <td>964.61</td>\n",
       "      <td>719,873.46</td>\n",
=======
>>>>>>> Stashed changes
>>>>>>> parent of 8dc6f1e... Update example.ipynb
       "      <td>0.00</td>\n",
       "      <td>21,401.07</td>\n",
       "      <td>93.67</td>\n",
       "      <td>19.63</td>\n",
       "      <td>6.72</td>\n",
       "      <td>8.24</td>\n",
       "    </tr>\n",
       "    <tr>\n",
       "      <td>min</td>\n",
<<<<<<< HEAD
<<<<<<< HEAD
=======
       "      <td>0.00</td>\n",
>>>>>>> parent of 1b15159... updating example
       "      <td>79,444.00</td>\n",
=======
<<<<<<< Updated upstream
       "      <td>0.00</td>\n",
       "      <td>79,444.00</td>\n",
=======
>>>>>>> Stashed changes
>>>>>>> parent of 8dc6f1e... Update example.ipynb
       "      <td>312.00</td>\n",
       "      <td>-59.94</td>\n",
       "      <td>4.00</td>\n",
       "      <td>1.00</td>\n",
       "      <td>2.50</td>\n",
       "      <td>6.99</td>\n",
       "    </tr>\n",
       "    <tr>\n",
       "      <td>25%</td>\n",
<<<<<<< HEAD
<<<<<<< HEAD
=======
       "      <td>835.00</td>\n",
>>>>>>> parent of 1b15159... updating example
       "      <td>89,642.00</td>\n",
=======
<<<<<<< Updated upstream
       "      <td>835.00</td>\n",
       "      <td>89,642.00</td>\n",
=======
>>>>>>> Stashed changes
>>>>>>> parent of 8dc6f1e... Update example.ipynb
       "      <td>312.00</td>\n",
       "      <td>19.98</td>\n",
       "      <td>5.00</td>\n",
       "      <td>12.00</td>\n",
       "      <td>7.50</td>\n",
       "      <td>9.99</td>\n",
       "    </tr>\n",
       "    <tr>\n",
       "      <td>50%</td>\n",
<<<<<<< HEAD
<<<<<<< HEAD
=======
       "      <td>1,670.00</td>\n",
>>>>>>> parent of 1b15159... updating example
       "      <td>93,986.00</td>\n",
=======
<<<<<<< Updated upstream
       "      <td>1,670.00</td>\n",
       "      <td>93,986.00</td>\n",
=======
>>>>>>> Stashed changes
>>>>>>> parent of 8dc6f1e... Update example.ipynb
       "      <td>312.00</td>\n",
       "      <td>39.96</td>\n",
       "      <td>24.00</td>\n",
       "      <td>20.00</td>\n",
       "      <td>7.50</td>\n",
       "      <td>9.99</td>\n",
       "    </tr>\n",
       "    <tr>\n",
       "      <td>75%</td>\n",
<<<<<<< HEAD
<<<<<<< HEAD
=======
       "      <td>2,505.00</td>\n",
>>>>>>> parent of 1b15159... updating example
       "      <td>1,000,742.00</td>\n",
=======
<<<<<<< Updated upstream
       "      <td>2,505.00</td>\n",
       "      <td>1,000,742.00</td>\n",
=======
>>>>>>> Stashed changes
>>>>>>> parent of 8dc6f1e... Update example.ipynb
       "      <td>312.00</td>\n",
       "      <td>68.97</td>\n",
       "      <td>201.00</td>\n",
       "      <td>55.00</td>\n",
       "      <td>14.50</td>\n",
       "      <td>22.99</td>\n",
       "    </tr>\n",
       "    <tr>\n",
       "      <td>max</td>\n",
<<<<<<< HEAD
<<<<<<< HEAD
=======
       "      <td>3,340.00</td>\n",
>>>>>>> parent of 1b15159... updating example
       "      <td>2,001,795.00</td>\n",
=======
<<<<<<< Updated upstream
       "      <td>3,340.00</td>\n",
       "      <td>2,001,795.00</td>\n",
=======
>>>>>>> Stashed changes
>>>>>>> parent of 8dc6f1e... Update example.ipynb
       "      <td>312.00</td>\n",
       "      <td>599,400.00</td>\n",
       "      <td>300.00</td>\n",
       "      <td>55.00</td>\n",
       "      <td>25.00</td>\n",
       "      <td>31.99</td>\n",
       "    </tr>\n",
       "  </tbody>\n",
       "</table>\n",
       "</div>"
      ],
      "text/plain": [
<<<<<<< HEAD
<<<<<<< HEAD
       "             DB_ID    Store  Dollar Sales    Class    Style     Cost    Price\n",
       "count     3,341.00 3,341.00      3,281.00 3,341.00 3,341.00 3,341.00 3,341.00\n",
       "mean    554,911.04   312.00      1,208.85    88.10    31.25    10.23    14.71\n",
       "std     719,873.46     0.00     21,401.07    93.67    19.63     6.72     8.24\n",
       "min      79,444.00   312.00        -59.94     4.00     1.00     2.50     6.99\n",
       "25%      89,642.00   312.00         19.98     5.00    12.00     7.50     9.99\n",
       "50%      93,986.00   312.00         39.96    24.00    20.00     7.50     9.99\n",
       "75%   1,000,742.00   312.00         68.97   201.00    55.00    14.50    22.99\n",
       "max   2,001,795.00   312.00    599,400.00   300.00    55.00    25.00    31.99"
      ]
     },
     "execution_count": 10,
=======
=======
<<<<<<< Updated upstream
>>>>>>> parent of 8dc6f1e... Update example.ipynb
       "         index        DB_ID    Store  Dollar Sales    Class    Style     Cost  \\\n",
       "count 3,341.00     3,341.00 3,341.00      3,281.00 3,341.00 3,341.00 3,341.00   \n",
       "mean  1,670.00   554,911.04   312.00      1,208.85    88.10    31.25    10.23   \n",
       "std     964.61   719,873.46     0.00     21,401.07    93.67    19.63     6.72   \n",
       "min       0.00    79,444.00   312.00        -59.94     4.00     1.00     2.50   \n",
       "25%     835.00    89,642.00   312.00         19.98     5.00    12.00     7.50   \n",
       "50%   1,670.00    93,986.00   312.00         39.96    24.00    20.00     7.50   \n",
       "75%   2,505.00 1,000,742.00   312.00         68.97   201.00    55.00    14.50   \n",
       "max   3,340.00 2,001,795.00   312.00    599,400.00   300.00    55.00    25.00   \n",
       "\n",
       "         Price  \n",
       "count 3,341.00  \n",
       "mean     14.71  \n",
       "std       8.24  \n",
       "min       6.99  \n",
       "25%       9.99  \n",
       "50%       9.99  \n",
       "75%      22.99  \n",
       "max      31.99  "
      ]
     },
     "execution_count": 8,
<<<<<<< HEAD
>>>>>>> parent of 1b15159... updating example
=======
=======
       "         Store  Dollar Sales    Class    Style     Cost    Price\n",
       "count 3,341.00      3,281.00 3,341.00 3,341.00 3,341.00 3,341.00\n",
       "mean    312.00      1,208.85    88.10    31.25    10.23    14.71\n",
       "std       0.00     21,401.07    93.67    19.63     6.72     8.24\n",
       "min     312.00        -59.94     4.00     1.00     2.50     6.99\n",
       "25%     312.00         19.98     5.00    12.00     7.50     9.99\n",
       "50%     312.00         39.96    24.00    20.00     7.50     9.99\n",
       "75%     312.00         68.97   201.00    55.00    14.50    22.99\n",
       "max     312.00    599,400.00   300.00    55.00    25.00    31.99"
      ]
     },
     "execution_count": 22,
>>>>>>> Stashed changes
>>>>>>> parent of 8dc6f1e... Update example.ipynb
     "metadata": {},
     "output_type": "execute_result"
    }
   ],
   "source": [
    "merged_dataset.describe()"
   ]
  },
  {
<<<<<<< HEAD
<<<<<<< HEAD
=======
=======
>>>>>>> parent of 8dc6f1e... Update example.ipynb
   "cell_type": "markdown",
   "metadata": {
    "hideCode": false,
    "hidePrompt": false
   },
   "source": [
    "I will take inner quartiles of dollar sales to remove outliers from plots. "
   ]
  },
  {
   "cell_type": "code",
<<<<<<< HEAD
   "execution_count": 9,
=======
<<<<<<< Updated upstream
   "execution_count": 9,
=======
   "execution_count": 24,
>>>>>>> Stashed changes
>>>>>>> parent of 8dc6f1e... Update example.ipynb
   "metadata": {
    "hideCode": false,
    "hidePrompt": false,
    "scrolled": false
   },
   "outputs": [
    {
     "data": {
      "application/vnd.jupyter.widget-view+json": {
<<<<<<< HEAD
       "model_id": "e14425f2b9864e52b77c8d100c7759a3",
=======
<<<<<<< Updated upstream
       "model_id": "e14425f2b9864e52b77c8d100c7759a3",
=======
       "model_id": "e419eecfcb0c4163959f01b96f35ed2e",
>>>>>>> Stashed changes
>>>>>>> parent of 8dc6f1e... Update example.ipynb
       "version_major": 2,
       "version_minor": 0
      },
      "text/plain": [
       "QgridWidget(grid_options={'fullWidthRows': True, 'syncColumnCellResize': True, 'forceFitColumns': True, 'defau…"
      ]
     },
     "metadata": {},
     "output_type": "display_data"
    }
   ],
   "source": [
    "sales_25pc = merged_dataset['Dollar Sales'].describe()['25%']\n",
    "sales_75pc = merged_dataset['Dollar Sales'].describe()['75%']\n",
    "\n",
    "inner_quartiles = (merged_dataset['Dollar Sales'] > sales_25pc) & (merged_dataset['Dollar Sales'] <= sales_75pc)\n",
    "filtered_df=(merged_dataset.loc[inner_quartiles])\n",
<<<<<<< HEAD
=======
<<<<<<< Updated upstream
=======
    "filtered_df.reset_index(drop = True, inplace = True)\n",
>>>>>>> Stashed changes
>>>>>>> parent of 8dc6f1e... Update example.ipynb
    "qgrid.show_grid(filtered_df)"
   ]
  },
  {
   "cell_type": "markdown",
   "metadata": {
    "hideCode": false,
    "hidePrompt": false
   },
   "source": [
    "Interactive elements can be used for easy use. It it possible to relatively easily create full dashboards, like here: [click](https://towardsdatascience.com/bring-your-jupyter-notebook-to-life-with-interactive-widgets-bc12e03f0916)"
   ]
  },
  {
   "cell_type": "code",
   "execution_count": 10,
   "metadata": {
    "hideCode": false,
    "hidePrompt": false
   },
   "outputs": [
    {
     "data": {
      "application/vnd.jupyter.widget-view+json": {
       "model_id": "ce7bacb6a8db4a8b85731a6dd35f0368",
       "version_major": 2,
       "version_minor": 0
      },
      "text/plain": [
       "interactive(children=(SelectionRangeSlider(description='Dates', index=(43, 63), layout=Layout(width='600px'), …"
      ]
     },
     "metadata": {},
     "output_type": "display_data"
    }
   ],
   "source": [
    "df = filtered_df.groupby(pd.Grouper(key = 'Date', freq=\"W\", )).sum()\n",
    "df.index = pd.to_datetime(df.index.strftime('%Y-%m-%d'))\n",
    "df.drop(['index'] , axis='columns', inplace = True)\n",
    "df.reset_index(inplace = True)\n",
    "df.rename(columns = {'index':'Date'}, inplace = True) \n",
    "\n",
    "dates = df['Date']\n",
    "\n",
    "\n",
    "date_range = (min(dates),max(dates))\n",
    "options = [(date.strftime(' %d/%m/%Y ')) for date in dates]\n",
    "\n",
    "\n",
    "selection_range_slider = widgets.SelectionRangeSlider(\n",
    "    options= options,\n",
    "    index=(len(options) // 2 -10, len(options) // 2 + 10),\n",
    "    description='Dates',\n",
    "    layout={'width': '600px'},\n",
    "    )\n",
    "\n",
    "\n",
    "def updater(dates):\n",
    "    global df\n",
    "    mask = (df['Date'] > dates[0]) & (df['Date'] <= dates[1])\n",
    "    df_temp = df.loc[mask]\n",
    "    \n",
    "    fig, ax = plt.subplots()\n",
    "    ax.plot(df_temp['Date'], df_temp['Dollar Sales'])\n",
    "    plt.setp(ax.get_xticklabels(), rotation=45)\n",
    "    plt.show()\n",
    "\n",
    "interactive_plot = widgets.interact(updater, dates = selection_range_slider)\n"
   ]
  },
  {
<<<<<<< HEAD
>>>>>>> parent of 1b15159... updating example
   "cell_type": "code",
   "execution_count": 11,
   "metadata": {},
=======
<<<<<<< Updated upstream
=======
   "cell_type": "markdown",
   "metadata": {
    "hideCode": false,
    "hidePrompt": false
   },
   "source": [
    "# Creating a pareto plot\n",
    "\n",
    "please note that graphics is the most time-consuming thing to create due to multiple possible parameters, although very flexible. Simple graphs are very easy though."
   ]
  },
  {
>>>>>>> Stashed changes
   "cell_type": "code",
   "execution_count": 11,
   "metadata": {
    "hideCode": false,
    "hidePrompt": false
   },
>>>>>>> parent of 8dc6f1e... Update example.ipynb
   "outputs": [
    {
     "data": {
      "text/html": [
       "<div>\n",
       "<style scoped>\n",
       "    .dataframe tbody tr th:only-of-type {\n",
       "        vertical-align: middle;\n",
       "    }\n",
       "\n",
       "    .dataframe tbody tr th {\n",
       "        vertical-align: top;\n",
       "    }\n",
       "\n",
       "    .dataframe thead th {\n",
       "        text-align: right;\n",
       "    }\n",
       "</style>\n",
       "<table border=\"1\" class=\"dataframe\">\n",
       "  <thead>\n",
       "    <tr style=\"text-align: right;\">\n",
       "      <th></th>\n",
       "      <th>SKU</th>\n",
       "      <th>Dollar Sales</th>\n",
       "      <th>% of Sales</th>\n",
       "    </tr>\n",
       "  </thead>\n",
       "  <tbody>\n",
       "    <tr>\n",
       "      <td>0</td>\n",
<<<<<<< HEAD
       "      <td>50012011250</td>\n",
       "      <td>3,717,570.51</td>\n",
       "      <td>93.73</td>\n",
       "    </tr>\n",
       "    <tr>\n",
       "      <td>1</td>\n",
       "      <td>8000451112</td>\n",
       "      <td>152,318.02</td>\n",
       "      <td>97.57</td>\n",
       "    </tr>\n",
       "    <tr>\n",
       "      <td>2</td>\n",
       "      <td>8000520021</td>\n",
       "      <td>27,392.58</td>\n",
       "      <td>98.26</td>\n",
       "    </tr>\n",
       "    <tr>\n",
       "      <td>3</td>\n",
       "      <td>7312455530</td>\n",
       "      <td>26,231.59</td>\n",
       "      <td>98.92</td>\n",
       "    </tr>\n",
       "    <tr>\n",
       "      <td>4</td>\n",
       "      <td>7312455520</td>\n",
       "      <td>20,773.73</td>\n",
       "      <td>99.45</td>\n",
       "    </tr>\n",
       "    <tr>\n",
       "      <td>5</td>\n",
       "      <td>50013000110</td>\n",
       "      <td>10,404.99</td>\n",
       "      <td>99.71</td>\n",
       "    </tr>\n",
       "    <tr>\n",
       "      <td>6</td>\n",
       "      <td>50012011240</td>\n",
       "      <td>10,077.57</td>\n",
       "      <td>99.96</td>\n",
       "    </tr>\n",
       "    <tr>\n",
       "      <td>7</td>\n",
       "      <td>50012011341</td>\n",
       "      <td>1,457.16</td>\n",
=======
       "      <td>7312455530</td>\n",
       "      <td>17,610.34</td>\n",
       "      <td>26.09</td>\n",
       "    </tr>\n",
       "    <tr>\n",
       "      <td>1</td>\n",
       "      <td>7312455520</td>\n",
       "      <td>16,125.32</td>\n",
       "      <td>49.99</td>\n",
       "    </tr>\n",
       "    <tr>\n",
       "      <td>2</td>\n",
       "      <td>50012011250</td>\n",
       "      <td>14,325.66</td>\n",
       "      <td>71.22</td>\n",
       "    </tr>\n",
       "    <tr>\n",
       "      <td>3</td>\n",
       "      <td>8000520021</td>\n",
       "      <td>7,962.03</td>\n",
       "      <td>83.02</td>\n",
       "    </tr>\n",
       "    <tr>\n",
       "      <td>4</td>\n",
       "      <td>8000451112</td>\n",
       "      <td>5,709.45</td>\n",
       "      <td>91.48</td>\n",
       "    </tr>\n",
       "    <tr>\n",
       "      <td>5</td>\n",
       "      <td>50012011240</td>\n",
       "      <td>5,600.99</td>\n",
       "      <td>99.78</td>\n",
       "    </tr>\n",
       "    <tr>\n",
       "      <td>6</td>\n",
       "      <td>50012011341</td>\n",
       "      <td>151.76</td>\n",
>>>>>>> parent of 8dc6f1e... Update example.ipynb
       "      <td>100.00</td>\n",
       "    </tr>\n",
       "  </tbody>\n",
       "</table>\n",
       "</div>"
      ],
      "text/plain": [
       "           SKU  Dollar Sales  % of Sales\n",
<<<<<<< HEAD
       "0  50012011250  3,717,570.51       93.73\n",
       "1   8000451112    152,318.02       97.57\n",
       "2   8000520021     27,392.58       98.26\n",
       "3   7312455530     26,231.59       98.92\n",
       "4   7312455520     20,773.73       99.45\n",
       "5  50013000110     10,404.99       99.71\n",
       "6  50012011240     10,077.57       99.96\n",
       "7  50012011341      1,457.16      100.00"
=======
       "0   7312455530     17,610.34       26.09\n",
       "1   7312455520     16,125.32       49.99\n",
       "2  50012011250     14,325.66       71.22\n",
       "3   8000520021      7,962.03       83.02\n",
       "4   8000451112      5,709.45       91.48\n",
       "5  50012011240      5,600.99       99.78\n",
       "6  50012011341        151.76      100.00"
>>>>>>> parent of 8dc6f1e... Update example.ipynb
      ]
     },
     "execution_count": 11,
     "metadata": {},
     "output_type": "execute_result"
    }
   ],
   "source": [
<<<<<<< HEAD
    "#summarising by SKU\n",
    "\n",
<<<<<<< HEAD
    "df = merged_dataset.groupby(by ='SKU', as_index = False).sum()\n",
    "df.sort_values(by='Dollar Sales', inplace = True, ascending = False, )\n",
    "df.reset_index(inplace = True)\n",
    "df[\"% of Sales\"] = df[\"Dollar Sales\"].cumsum()/df[\"Dollar Sales\"].sum() * 100\n",
    "df[['SKU', 'Dollar Sales', '% of Sales']]"
=======
=======
    "#first summarising sales by SKU\n",
    "\n",
>>>>>>> parent of 8dc6f1e... Update example.ipynb
    "by_sku = filtered_df.groupby(by ='SKU', as_index = False).sum()\n",
    "by_sku.sort_values(by='Dollar Sales', inplace = True, ascending = False, )\n",
    "by_sku.reset_index(inplace = True)\n",
    "by_sku[\"% of Sales\"] = by_sku[\"Dollar Sales\"].cumsum()/by_sku[\"Dollar Sales\"].sum() * 100\n",
    "by_sku[['SKU', 'Dollar Sales', '% of Sales']]"
<<<<<<< HEAD
>>>>>>> parent of 1b15159... updating example
=======
<<<<<<< Updated upstream
>>>>>>> parent of 8dc6f1e... Update example.ipynb
   ]
  },
  {
   "cell_type": "markdown",
<<<<<<< HEAD
   "metadata": {},
=======
   "metadata": {
    "hideCode": false,
    "hidePrompt": false
   },
>>>>>>> parent of 8dc6f1e... Update example.ipynb
   "source": [
    "# Creating a pareto plot\n",
    "\n",
    "please note that graphics is the most time-consuming thing to create due to multiple possible parameters, although very flexible."
<<<<<<< HEAD
=======
=======
>>>>>>> Stashed changes
>>>>>>> parent of 8dc6f1e... Update example.ipynb
   ]
  },
  {
   "cell_type": "code",
   "execution_count": 12,
   "metadata": {
<<<<<<< HEAD
=======
    "hideCode": false,
    "hidePrompt": false,
>>>>>>> parent of 8dc6f1e... Update example.ipynb
    "scrolled": false
   },
   "outputs": [
    {
     "data": {
<<<<<<< HEAD
      "image/png": "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\n",
=======
      "image/png": "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\n",
>>>>>>> parent of 8dc6f1e... Update example.ipynb
      "text/plain": [
       "<Figure size 432x288 with 2 Axes>"
      ]
     },
     "metadata": {
      "needs_background": "light"
     },
     "output_type": "display_data"
    }
   ],
   "source": [
    "fig, ax = plt.subplots()\n",
    "plt.title('Pareto of SKU vs Dollar Sales')\n",
    "\n",
    "\n",
<<<<<<< HEAD
    "ax.bar(df['SKU'],df[\"Dollar Sales\"])\n",
    "ax2 = ax.twinx()\n",
    "ax2.plot(df['SKU'], df[\"% of Sales\"], color=\"C1\", marker=\"D\", ms=7)\n",
=======
    "ax.bar(by_sku['SKU'],by_sku[\"Dollar Sales\"])\n",
    "ax2 = ax.twinx()\n",
    "ax2.plot(by_sku['SKU'], by_sku[\"% of Sales\"], color=\"C1\", marker=\"D\", ms=7)\n",
>>>>>>> parent of 8dc6f1e... Update example.ipynb
    "\n",
    "# ax.yaxis.get_major_formatter().set_useOffset(False)\n",
    "ax.yaxis.get_major_formatter().set_scientific(False)\n",
    "ax2.yaxis.set_major_formatter(mt.PercentFormatter())\n",
    "\n",
    "ax.tick_params(axis = 'y', length = 10)\n",
    "\n",
    "labels = ax.get_xticklabels()\n",
    "plt.setp(labels, rotation = 45, horizontalalignment = 'right')\n",
    "\n",
    "plt.show()"
   ]
  },
  {
   "cell_type": "markdown",
<<<<<<< HEAD
   "metadata": {},
=======
   "metadata": {
    "hideCode": false,
    "hidePrompt": false
   },
>>>>>>> parent of 8dc6f1e... Update example.ipynb
   "source": [
    "Code can also be hidden like this for reporting purposes"
   ]
  },
  {
   "cell_type": "code",
<<<<<<< HEAD
   "execution_count": 13,
   "metadata": {
    "hideCode": true
=======
   "execution_count": 15,
   "metadata": {
    "hideCode": true,
    "hidePrompt": false
>>>>>>> parent of 8dc6f1e... Update example.ipynb
   },
   "outputs": [
    {
     "data": {
<<<<<<< HEAD
      "image/png": "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\n",
=======
      "image/png": "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\n",
>>>>>>> parent of 8dc6f1e... Update example.ipynb
      "text/plain": [
       "<Figure size 432x288 with 2 Axes>"
      ]
     },
     "metadata": {
      "needs_background": "light"
     },
     "output_type": "display_data"
    }
   ],
   "source": [
    "fig, ax = plt.subplots()\n",
    "plt.title('Same plot but code is hidden')\n",
    "\n",
    "\n",
<<<<<<< HEAD
    "ax.bar(df['SKU'],df[\"Dollar Sales\"])\n",
    "ax2 = ax.twinx()\n",
    "ax2.plot(df['SKU'], df[\"% of Sales\"], color=\"C1\", marker=\"D\", ms=7)\n",
=======
    "ax.bar(by_sku['SKU'],by_sku[\"Dollar Sales\"])\n",
    "ax2 = ax.twinx()\n",
    "ax2.plot(by_sku['SKU'], by_sku[\"% of Sales\"], color=\"C1\", marker=\"D\", ms=7)\n",
>>>>>>> parent of 8dc6f1e... Update example.ipynb
    "\n",
    "# ax.yaxis.get_major_formatter().set_useOffset(False)\n",
    "ax.yaxis.get_major_formatter().set_scientific(False)\n",
    "ax2.yaxis.set_major_formatter(mt.PercentFormatter())\n",
    "\n",
    "ax.tick_params(axis = 'y', length = 10)\n",
    "\n",
    "labels = ax.get_xticklabels()\n",
    "plt.setp(labels, rotation = 45, horizontalalignment = 'right')\n",
    "\n",
    "plt.show()"
   ]
  }
 ],
 "metadata": {
  "celltoolbar": "Hide code",
<<<<<<< HEAD
=======
  "hide_code_all_hidden": false,
>>>>>>> parent of 8dc6f1e... Update example.ipynb
  "kernelspec": {
   "display_name": "Python 3",
   "language": "python",
   "name": "python3"
  },
  "language_info": {
   "codemirror_mode": {
    "name": "ipython",
    "version": 3
   },
   "file_extension": ".py",
   "mimetype": "text/x-python",
   "name": "python",
   "nbconvert_exporter": "python",
   "pygments_lexer": "ipython3",
   "version": "3.7.4"
  }
 },
 "nbformat": 4,
 "nbformat_minor": 4
}
<<<<<<< HEAD
>>>>>>> parent of c45b6ce... updated the example
=======
>>>>>>> parent of 8dc6f1e... Update example.ipynb
